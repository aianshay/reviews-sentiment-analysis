{
 "cells": [
  {
   "cell_type": "code",
   "execution_count": 60,
   "id": "2b837890-258d-4803-a25d-0cf82a4c205f",
   "metadata": {},
   "outputs": [],
   "source": [
    "import spacy\n",
    "import pandas as pd\n",
    "\n",
    "from sklearn.feature_extraction.text import CountVectorizer\n",
    "from sklearn.model_selection import train_test_split\n",
    "from sklearn.cluster import KMeans\n",
    "\n",
    "from imblearn.under_sampling import RandomUnderSampler "
   ]
  },
  {
   "cell_type": "markdown",
   "id": "649c5482-65e0-4c50-9efa-b800e535de66",
   "metadata": {},
   "source": [
    "## Building Bag of Words"
   ]
  },
  {
   "cell_type": "code",
   "execution_count": 27,
   "id": "c86afcb5-2d66-4845-9fbc-15ac6e19d1fa",
   "metadata": {},
   "outputs": [],
   "source": [
    "nlp = spacy.load('pt_core_news_sm')\n",
    "stopwords = nlp.Defaults.stop_words"
   ]
  },
  {
   "cell_type": "code",
   "execution_count": 28,
   "id": "96b585f1-3005-4bca-9f1f-81ff7050d215",
   "metadata": {},
   "outputs": [],
   "source": [
    "vectorizer = CountVectorizer(lowercase=True, stop_words=stopwords)"
   ]
  },
  {
   "cell_type": "code",
   "execution_count": 43,
   "id": "6dd026b4-ecb5-48c4-ab6c-f43528ccbd26",
   "metadata": {},
   "outputs": [
    {
     "data": {
      "text/html": [
       "<div>\n",
       "<style scoped>\n",
       "    .dataframe tbody tr th:only-of-type {\n",
       "        vertical-align: middle;\n",
       "    }\n",
       "\n",
       "    .dataframe tbody tr th {\n",
       "        vertical-align: top;\n",
       "    }\n",
       "\n",
       "    .dataframe thead th {\n",
       "        text-align: right;\n",
       "    }\n",
       "</style>\n",
       "<table border=\"1\" class=\"dataframe\">\n",
       "  <thead>\n",
       "    <tr style=\"text-align: right;\">\n",
       "      <th></th>\n",
       "      <th>title</th>\n",
       "      <th>review</th>\n",
       "      <th>rating</th>\n",
       "      <th>date</th>\n",
       "      <th>label</th>\n",
       "    </tr>\n",
       "  </thead>\n",
       "  <tbody>\n",
       "    <tr>\n",
       "      <th>0</th>\n",
       "      <td>Ótimo custo benefício.</td>\n",
       "      <td>Até agora estou amando o aparelho. Estou bem s...</td>\n",
       "      <td>5.0</td>\n",
       "      <td>25/10/2019</td>\n",
       "      <td>Good</td>\n",
       "    </tr>\n",
       "    <tr>\n",
       "      <th>1</th>\n",
       "      <td>Não recebi a versão global e produto veio sem ...</td>\n",
       "      <td>Adquiri o produto em 09/11, chegou hoje e para...</td>\n",
       "      <td>1.0</td>\n",
       "      <td>14/11/2019</td>\n",
       "      <td>Bad</td>\n",
       "    </tr>\n",
       "    <tr>\n",
       "      <th>2</th>\n",
       "      <td>Bom, bonito e barato. Porém sem nota fiscal!</td>\n",
       "      <td>Comprei o celular no sábado dia 26/10/19 e che...</td>\n",
       "      <td>5.0</td>\n",
       "      <td>31/10/2019</td>\n",
       "      <td>Good</td>\n",
       "    </tr>\n",
       "    <tr>\n",
       "      <th>3</th>\n",
       "      <td>Bom, no prazo, carregador fora do padrão brasi...</td>\n",
       "      <td>Chegou dentro do prazo, bem embalado. Tudo ok,...</td>\n",
       "      <td>3.0</td>\n",
       "      <td>19/11/2019</td>\n",
       "      <td>Neutral</td>\n",
       "    </tr>\n",
       "    <tr>\n",
       "      <th>4</th>\n",
       "      <td>Celular acima das expectativas</td>\n",
       "      <td>O celular superou totalmente minhas expectativ...</td>\n",
       "      <td>5.0</td>\n",
       "      <td>29/10/2019</td>\n",
       "      <td>Good</td>\n",
       "    </tr>\n",
       "  </tbody>\n",
       "</table>\n",
       "</div>"
      ],
      "text/plain": [
       "                                               title  \\\n",
       "0                             Ótimo custo benefício.   \n",
       "1  Não recebi a versão global e produto veio sem ...   \n",
       "2       Bom, bonito e barato. Porém sem nota fiscal!   \n",
       "3  Bom, no prazo, carregador fora do padrão brasi...   \n",
       "4                     Celular acima das expectativas   \n",
       "\n",
       "                                              review  rating        date  \\\n",
       "0  Até agora estou amando o aparelho. Estou bem s...     5.0  25/10/2019   \n",
       "1  Adquiri o produto em 09/11, chegou hoje e para...     1.0  14/11/2019   \n",
       "2  Comprei o celular no sábado dia 26/10/19 e che...     5.0  31/10/2019   \n",
       "3  Chegou dentro do prazo, bem embalado. Tudo ok,...     3.0  19/11/2019   \n",
       "4  O celular superou totalmente minhas expectativ...     5.0  29/10/2019   \n",
       "\n",
       "     label  \n",
       "0     Good  \n",
       "1      Bad  \n",
       "2     Good  \n",
       "3  Neutral  \n",
       "4     Good  "
      ]
     },
     "execution_count": 43,
     "metadata": {},
     "output_type": "execute_result"
    }
   ],
   "source": [
    "df = pd.read_csv('data/reviews_final.csv')\n",
    "df.head()"
   ]
  },
  {
   "cell_type": "code",
   "execution_count": 44,
   "id": "f8806f29-d7b9-44d1-801d-560dd4fc6de9",
   "metadata": {},
   "outputs": [
    {
     "data": {
      "text/plain": [
       "title     0\n",
       "review    0\n",
       "rating    0\n",
       "date      0\n",
       "label     0\n",
       "dtype: int64"
      ]
     },
     "execution_count": 44,
     "metadata": {},
     "output_type": "execute_result"
    }
   ],
   "source": [
    "df = df.dropna()\n",
    "df.isnull().sum()"
   ]
  },
  {
   "cell_type": "code",
   "execution_count": 47,
   "id": "27788278-f1f2-4783-9f84-1dec377b60c3",
   "metadata": {},
   "outputs": [
    {
     "data": {
      "text/plain": [
       "array(['Good', 'Bad'], dtype=object)"
      ]
     },
     "execution_count": 47,
     "metadata": {},
     "output_type": "execute_result"
    }
   ],
   "source": [
    "df = df.query('label != \"Neutral\"')\n",
    "df.label.unique()"
   ]
  },
  {
   "cell_type": "code",
   "execution_count": 59,
   "id": "bae267bd-f2c7-4d5b-9da3-09528baf5581",
   "metadata": {},
   "outputs": [
    {
     "data": {
      "text/plain": [
       "Good    4448\n",
       "Bad      192\n",
       "Name: label, dtype: int64"
      ]
     },
     "execution_count": 59,
     "metadata": {},
     "output_type": "execute_result"
    }
   ],
   "source": [
    "df.label.value_counts()"
   ]
  },
  {
   "cell_type": "markdown",
   "id": "af9dabde-4504-4f6f-a397-3e8b599ead50",
   "metadata": {},
   "source": [
    "### Undersampling"
   ]
  },
  {
   "cell_type": "code",
   "execution_count": 63,
   "id": "d52b5674-d12e-4f48-9ea1-292a193f3a06",
   "metadata": {},
   "outputs": [
    {
     "data": {
      "text/plain": [
       "Bad     192\n",
       "Good    192\n",
       "Name: label, dtype: int64"
      ]
     },
     "execution_count": 63,
     "metadata": {},
     "output_type": "execute_result"
    }
   ],
   "source": [
    "sampler = RandomUnderSampler()\n",
    "\n",
    "X = df[['title', 'review']]\n",
    "y = df['label']\n",
    "\n",
    "X_res, y_res = sampler.fit_resample(X, y)\n",
    "y_res.value_counts()"
   ]
  },
  {
   "cell_type": "code",
   "execution_count": 64,
   "id": "79400196-e71b-4367-91e6-093fc7534b9c",
   "metadata": {},
   "outputs": [],
   "source": [
    "X = X_res['review']\n",
    "y = df['label']"
   ]
  },
  {
   "cell_type": "code",
   "execution_count": 71,
   "id": "ddf06c6a-fd26-40c9-8689-23d8689e7e04",
   "metadata": {},
   "outputs": [
    {
     "name": "stdout",
     "output_type": "stream",
     "text": [
      "Top terms per cluster:\n",
      "\n",
      "Cluster 0:\n",
      " celular\n",
      " produto\n",
      " aparelho\n",
      " bateria\n",
      " chegou\n",
      " excelente\n",
      " câmera\n",
      " ótimo\n",
      " qualidade\n",
      " entrega\n",
      "\n",
      "Cluster 1:\n",
      " nota\n",
      " fiscal\n",
      " produto\n",
      " veio\n",
      " carregador\n",
      " padrão\n",
      " garantia\n",
      " brasileiro\n",
      " vendedor\n",
      " chegou\n"
     ]
    }
   ],
   "source": [
    "from sklearn.feature_extraction.text import TfidfVectorizer\n",
    "from sklearn.cluster import KMeans\n",
    "from sklearn.metrics import adjusted_rand_score\n",
    "\n",
    "\n",
    "vectorizer = TfidfVectorizer(stop_words=stopwords)\n",
    "X_transformed = vectorizer.fit_transform(X)\n",
    "\n",
    "true_k = 2\n",
    "model = KMeans(n_clusters=true_k, max_iter=100, random_state=42)\n",
    "model.fit(X_transformed)\n",
    "\n",
    "print(\"Top terms per cluster:\")\n",
    "order_centroids = model.cluster_centers_.argsort()[:, ::-1]\n",
    "terms = vectorizer.get_feature_names_out()\n",
    "\n",
    "for i in range(true_k):\n",
    "    print(\"\\nCluster %d:\" % i),\n",
    "    \n",
    "    for ind in order_centroids[i, :10]:\n",
    "        print(' %s' % terms[ind]),"
   ]
  }
 ],
 "metadata": {
  "kernelspec": {
   "display_name": "tf",
   "language": "python",
   "name": "tf"
  },
  "language_info": {
   "codemirror_mode": {
    "name": "ipython",
    "version": 3
   },
   "file_extension": ".py",
   "mimetype": "text/x-python",
   "name": "python",
   "nbconvert_exporter": "python",
   "pygments_lexer": "ipython3",
   "version": "3.10.4"
  }
 },
 "nbformat": 4,
 "nbformat_minor": 5
}
