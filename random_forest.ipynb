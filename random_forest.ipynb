{
 "cells": [
  {
   "cell_type": "markdown",
   "id": "6aa8d403",
   "metadata": {},
   "source": [
    "# Imports"
   ]
  },
  {
   "cell_type": "code",
   "execution_count": 1,
   "id": "408f55e2",
   "metadata": {},
   "outputs": [],
   "source": [
    "import pandas as pd     \n",
    "import numpy as np\n",
    "\n",
    "import spacy\n",
    "from nltk.stem.porter import *\n",
    "from sklearn.feature_extraction.text import CountVectorizer\n",
    "\n",
    "from tqdm import tqdm \n",
    "from itertools import product\n",
    "\n",
    "from sklearn.model_selection import StratifiedKFold, cross_val_score, train_test_split\n",
    "from imblearn.pipeline import Pipeline\n",
    "from sklearn.ensemble import RandomForestClassifier\n",
    "from sklearn.metrics import classification_report, ConfusionMatrixDisplay, precision_score, f1_score, recall_score\n",
    "\n",
    "import matplotlib.pyplot as plt"
   ]
  },
  {
   "cell_type": "markdown",
   "id": "8a9a438b",
   "metadata": {},
   "source": [
    "# Functions"
   ]
  },
  {
   "cell_type": "code",
   "execution_count": 2,
   "id": "6647aec1",
   "metadata": {},
   "outputs": [],
   "source": [
    "def metrics_model(list_estimators):\n",
    "    results = []\n",
    "    for n_est in list_estimators:\n",
    "        model = RandomForestClassifier(n_estimators=n_est, random_state=42)\n",
    "        model.fit(X_train, y_train)\n",
    "        y_pred = model.predict(X_test)\n",
    "        \n",
    "        f1 = f1_score(y_test, y_pred, average='weighted', zero_division=0)\n",
    "        ps = precision_score(y_test, y_pred, average='weighted', zero_division=0)\n",
    "        recall = recall_score(y_test, y_pred, average='weighted', zero_division=0)\n",
    "        \n",
    "        results.append([n_est, f1, ps, recall])\n",
    "    return pd.DataFrame(results, columns=['n_estimators', 'f1', 'precision', 'recall'])"
   ]
  },
  {
   "cell_type": "code",
   "execution_count": 3,
   "id": "f34f6f99",
   "metadata": {},
   "outputs": [],
   "source": [
    "def search_cross_valid(search_space, X_train, y_train, X_test, y_test, SEED=42):\n",
    "    f1_scores, precision_s, recall, params = [], [], [], []\n",
    "\n",
    "    for n_est, crt, max_f in tqdm(search_space, desc=\"Treinamento: \"):\n",
    "        model = RandomForestClassifier(n_estimators=n_est, criterion=crt, max_features=max_f, random_state=SEED)\n",
    "\n",
    "        cv = StratifiedKFold(n_splits=10, random_state=SEED, shuffle=True)\n",
    "\n",
    "        steps = [('model', model)]\n",
    "        pipeline = Pipeline(steps=steps)\n",
    "\n",
    "        scores = cross_val_score(pipeline, X_train, y_train, scoring='f1_micro', cv=cv, n_jobs=-1)\n",
    "        model.fit(X_train, y_train)\n",
    "        \n",
    "        y_pred = model.predict(X_test)\n",
    "        \n",
    "        f1 = f1_score(y_test, y_pred, average='weighted', zero_division=0)\n",
    "        ps = precision_score(y_test, y_pred, average='weighted', zero_division=0)\n",
    "        r = recall_score(y_test, y_pred, average='weighted', zero_division=0)\n",
    "        \n",
    "        print('Mean f1: %.3f' % np.mean(scores))\n",
    "        \n",
    "        print('F1-score test: %.3f' % f1)\n",
    "        print('Precision score: %.3f' % ps)\n",
    "        print('Recall test: %.3f' % r)\n",
    "\n",
    "        parm = dict(n_estimators=n_est, criterion=crt, max_features=max_f)\n",
    "\n",
    "        print(\"Parameters: \", parm)\n",
    "        print(\"Score of validation: \", np.mean(scores))\n",
    "\n",
    "        f1_scores.append(f1)\n",
    "        precision_s.append(ps)\n",
    "        recall.append(r)\n",
    "        params.append(parm)\n",
    "        \n",
    "    \n",
    "    zipped_results = zip(params, f1_scores, precision_s, recall)\n",
    "    best_result =  max(zipped_results, key = lambda res: res[1])\n",
    "    best_params, best_f1_score, best_precision_s, best_recall = best_result\n",
    "    \n",
    "    results = pd.DataFrame(zip(['Random Forest'] * len(f1_scores), params, f1_scores, precision_s, recall), \n",
    "                           columns=['model', 'parameters', 'f1', 'precision', 'recall'])\n",
    "\n",
    "    print('------------------------------')\n",
    "    print(\"Best parameters: \", best_params)\n",
    "    print(\"Best f1-score score: \", best_f1_score)\n",
    "    print(\"Best precision score: \", best_precision_s)\n",
    "    print(\"Best recall score: \", best_recall)\n",
    "    \n",
    "    return best_params, results"
   ]
  },
  {
   "cell_type": "code",
   "execution_count": 4,
   "id": "26a480d7",
   "metadata": {},
   "outputs": [],
   "source": [
    "def plot_results(results):\n",
    "    plt.figure(figsize=(16, 6))\n",
    "    plt.subplot(1, 2, 1)\n",
    "    plt.plot(results['n_estimators'], results[['f1', 'precision', 'recall']])\n",
    "    plt.xlabel(\"N_estimators\")\n",
    "    plt.ylabel('Results')\n",
    "    plt.legend(['f1', 'precision', 'recall'])"
   ]
  },
  {
   "cell_type": "markdown",
   "id": "4f076173",
   "metadata": {},
   "source": [
    "# Loading the dataset"
   ]
  },
  {
   "cell_type": "code",
   "execution_count": 5,
   "id": "2b2346ae",
   "metadata": {},
   "outputs": [],
   "source": [
    "df = pd.read_csv(\"data/reviews_final.csv\")"
   ]
  },
  {
   "cell_type": "code",
   "execution_count": 6,
   "id": "8c50c6fa",
   "metadata": {},
   "outputs": [
    {
     "data": {
      "text/html": [
       "<div>\n",
       "<style scoped>\n",
       "    .dataframe tbody tr th:only-of-type {\n",
       "        vertical-align: middle;\n",
       "    }\n",
       "\n",
       "    .dataframe tbody tr th {\n",
       "        vertical-align: top;\n",
       "    }\n",
       "\n",
       "    .dataframe thead th {\n",
       "        text-align: right;\n",
       "    }\n",
       "</style>\n",
       "<table border=\"1\" class=\"dataframe\">\n",
       "  <thead>\n",
       "    <tr style=\"text-align: right;\">\n",
       "      <th></th>\n",
       "      <th>title</th>\n",
       "      <th>review</th>\n",
       "      <th>rating</th>\n",
       "      <th>date</th>\n",
       "      <th>label</th>\n",
       "    </tr>\n",
       "  </thead>\n",
       "  <tbody>\n",
       "    <tr>\n",
       "      <th>0</th>\n",
       "      <td>Ótimo custo benefício.</td>\n",
       "      <td>Até agora estou amando o aparelho. Estou bem s...</td>\n",
       "      <td>5.0</td>\n",
       "      <td>25/10/2019</td>\n",
       "      <td>Good</td>\n",
       "    </tr>\n",
       "    <tr>\n",
       "      <th>1</th>\n",
       "      <td>Não recebi a versão global e produto veio sem ...</td>\n",
       "      <td>Adquiri o produto em 09/11, chegou hoje e para...</td>\n",
       "      <td>1.0</td>\n",
       "      <td>14/11/2019</td>\n",
       "      <td>Bad</td>\n",
       "    </tr>\n",
       "    <tr>\n",
       "      <th>2</th>\n",
       "      <td>Bom, bonito e barato. Porém sem nota fiscal!</td>\n",
       "      <td>Comprei o celular no sábado dia 26/10/19 e che...</td>\n",
       "      <td>5.0</td>\n",
       "      <td>31/10/2019</td>\n",
       "      <td>Good</td>\n",
       "    </tr>\n",
       "    <tr>\n",
       "      <th>3</th>\n",
       "      <td>Bom, no prazo, carregador fora do padrão brasi...</td>\n",
       "      <td>Chegou dentro do prazo, bem embalado. Tudo ok,...</td>\n",
       "      <td>3.0</td>\n",
       "      <td>19/11/2019</td>\n",
       "      <td>Neutral</td>\n",
       "    </tr>\n",
       "    <tr>\n",
       "      <th>4</th>\n",
       "      <td>Celular acima das expectativas</td>\n",
       "      <td>O celular superou totalmente minhas expectativ...</td>\n",
       "      <td>5.0</td>\n",
       "      <td>29/10/2019</td>\n",
       "      <td>Good</td>\n",
       "    </tr>\n",
       "  </tbody>\n",
       "</table>\n",
       "</div>"
      ],
      "text/plain": [
       "                                               title  \\\n",
       "0                             Ótimo custo benefício.   \n",
       "1  Não recebi a versão global e produto veio sem ...   \n",
       "2       Bom, bonito e barato. Porém sem nota fiscal!   \n",
       "3  Bom, no prazo, carregador fora do padrão brasi...   \n",
       "4                     Celular acima das expectativas   \n",
       "\n",
       "                                              review  rating        date  \\\n",
       "0  Até agora estou amando o aparelho. Estou bem s...     5.0  25/10/2019   \n",
       "1  Adquiri o produto em 09/11, chegou hoje e para...     1.0  14/11/2019   \n",
       "2  Comprei o celular no sábado dia 26/10/19 e che...     5.0  31/10/2019   \n",
       "3  Chegou dentro do prazo, bem embalado. Tudo ok,...     3.0  19/11/2019   \n",
       "4  O celular superou totalmente minhas expectativ...     5.0  29/10/2019   \n",
       "\n",
       "     label  \n",
       "0     Good  \n",
       "1      Bad  \n",
       "2     Good  \n",
       "3  Neutral  \n",
       "4     Good  "
      ]
     },
     "execution_count": 6,
     "metadata": {},
     "output_type": "execute_result"
    }
   ],
   "source": [
    "df.head()"
   ]
  },
  {
   "cell_type": "code",
   "execution_count": 7,
   "id": "e4795712",
   "metadata": {},
   "outputs": [],
   "source": [
    "df.dropna(inplace=True)"
   ]
  },
  {
   "cell_type": "code",
   "execution_count": 8,
   "id": "8c72a36b",
   "metadata": {},
   "outputs": [],
   "source": [
    "df['label'] = df['label'].replace('Neutral', 'Bad')"
   ]
  },
  {
   "cell_type": "code",
   "execution_count": 9,
   "id": "bcd34560",
   "metadata": {},
   "outputs": [
    {
     "data": {
      "text/plain": [
       "Good    4448\n",
       "Bad      320\n",
       "Name: label, dtype: int64"
      ]
     },
     "execution_count": 9,
     "metadata": {},
     "output_type": "execute_result"
    }
   ],
   "source": [
    "df['label'].value_counts()"
   ]
  },
  {
   "cell_type": "code",
   "execution_count": 10,
   "id": "1edcb9ed",
   "metadata": {},
   "outputs": [
    {
     "data": {
      "text/plain": [
       "(4768, 5)"
      ]
     },
     "execution_count": 10,
     "metadata": {},
     "output_type": "execute_result"
    }
   ],
   "source": [
    "df.shape"
   ]
  },
  {
   "cell_type": "markdown",
   "id": "d7b00f6b",
   "metadata": {},
   "source": [
    "# Bag of words"
   ]
  },
  {
   "cell_type": "code",
   "execution_count": 11,
   "id": "34c93e5f",
   "metadata": {},
   "outputs": [],
   "source": [
    "nlp = spacy.load('pt_core_news_sm')"
   ]
  },
  {
   "cell_type": "code",
   "execution_count": 12,
   "id": "14ce6576",
   "metadata": {},
   "outputs": [
    {
     "data": {
      "text/plain": [
       "416"
      ]
     },
     "execution_count": 12,
     "metadata": {},
     "output_type": "execute_result"
    }
   ],
   "source": [
    "stopwords = nlp.Defaults.stop_words\n",
    "len(stopwords)"
   ]
  },
  {
   "cell_type": "code",
   "execution_count": 13,
   "id": "95f8d831",
   "metadata": {},
   "outputs": [],
   "source": [
    "vectorizer = CountVectorizer(lowercase=True, stop_words=stopwords)"
   ]
  },
  {
   "cell_type": "markdown",
   "id": "0a2359db",
   "metadata": {},
   "source": [
    "# Models"
   ]
  },
  {
   "cell_type": "markdown",
   "id": "50f2af62",
   "metadata": {},
   "source": [
    "## Parameters"
   ]
  },
  {
   "cell_type": "code",
   "execution_count": 14,
   "id": "d6f9ce45",
   "metadata": {},
   "outputs": [],
   "source": [
    "n_estimators = list(range(10, 200, 20))\n",
    "criterions = [\"gini\", \"entropy\"]\n",
    "max_features = [\"sqrt\", \"auto\", \"log2\"]"
   ]
  },
  {
   "cell_type": "code",
   "execution_count": 15,
   "id": "4f5ec6ab",
   "metadata": {},
   "outputs": [
    {
     "name": "stdout",
     "output_type": "stream",
     "text": [
      "Amount of training sets that will be validate:  60\n"
     ]
    }
   ],
   "source": [
    "search_space = tuple(product(n_estimators, criterions, max_features))\n",
    "\n",
    "print(\"Amount of training sets that will be validate: \", len(search_space))"
   ]
  },
  {
   "cell_type": "markdown",
   "id": "ba98f3b4",
   "metadata": {},
   "source": [
    "##  Model without stemming"
   ]
  },
  {
   "cell_type": "markdown",
   "id": "36cb9d60",
   "metadata": {},
   "source": [
    "### Splitting data into training and testing"
   ]
  },
  {
   "cell_type": "code",
   "execution_count": 16,
   "id": "4b0c27f1",
   "metadata": {},
   "outputs": [],
   "source": [
    "X = vectorizer.fit_transform(df['review']).toarray()\n",
    "y = df['label']\n",
    "\n",
    "X_train, X_test, y_train, y_test = train_test_split(X, y, test_size=.3, random_state=42)"
   ]
  },
  {
   "cell_type": "code",
   "execution_count": 17,
   "id": "9d13700b",
   "metadata": {},
   "outputs": [
    {
     "data": {
      "text/plain": [
       "6521"
      ]
     },
     "execution_count": 17,
     "metadata": {},
     "output_type": "execute_result"
    }
   ],
   "source": [
    "len(X[0])"
   ]
  },
  {
   "cell_type": "markdown",
   "id": "a29fed92",
   "metadata": {},
   "source": [
    "### Search better n_estimators"
   ]
  },
  {
   "cell_type": "code",
   "execution_count": 18,
   "id": "04af3fcd",
   "metadata": {},
   "outputs": [],
   "source": [
    "results_no_stemmer = metrics_model(list(range(10, 200, 20)))"
   ]
  },
  {
   "cell_type": "code",
   "execution_count": 19,
   "id": "ec9f76ea",
   "metadata": {},
   "outputs": [
    {
     "data": {
      "text/html": [
       "<div>\n",
       "<style scoped>\n",
       "    .dataframe tbody tr th:only-of-type {\n",
       "        vertical-align: middle;\n",
       "    }\n",
       "\n",
       "    .dataframe tbody tr th {\n",
       "        vertical-align: top;\n",
       "    }\n",
       "\n",
       "    .dataframe thead th {\n",
       "        text-align: right;\n",
       "    }\n",
       "</style>\n",
       "<table border=\"1\" class=\"dataframe\">\n",
       "  <thead>\n",
       "    <tr style=\"text-align: right;\">\n",
       "      <th></th>\n",
       "      <th>n_estimators</th>\n",
       "      <th>f1</th>\n",
       "      <th>precision</th>\n",
       "      <th>recall</th>\n",
       "    </tr>\n",
       "  </thead>\n",
       "  <tbody>\n",
       "    <tr>\n",
       "      <th>0</th>\n",
       "      <td>10</td>\n",
       "      <td>0.913754</td>\n",
       "      <td>0.920717</td>\n",
       "      <td>0.932215</td>\n",
       "    </tr>\n",
       "    <tr>\n",
       "      <th>1</th>\n",
       "      <td>30</td>\n",
       "      <td>0.905596</td>\n",
       "      <td>0.915034</td>\n",
       "      <td>0.928721</td>\n",
       "    </tr>\n",
       "    <tr>\n",
       "      <th>2</th>\n",
       "      <td>50</td>\n",
       "      <td>0.906144</td>\n",
       "      <td>0.927070</td>\n",
       "      <td>0.930818</td>\n",
       "    </tr>\n",
       "    <tr>\n",
       "      <th>3</th>\n",
       "      <td>70</td>\n",
       "      <td>0.904723</td>\n",
       "      <td>0.925817</td>\n",
       "      <td>0.930119</td>\n",
       "    </tr>\n",
       "    <tr>\n",
       "      <th>4</th>\n",
       "      <td>90</td>\n",
       "      <td>0.904723</td>\n",
       "      <td>0.925817</td>\n",
       "      <td>0.930119</td>\n",
       "    </tr>\n",
       "    <tr>\n",
       "      <th>5</th>\n",
       "      <td>110</td>\n",
       "      <td>0.904723</td>\n",
       "      <td>0.925817</td>\n",
       "      <td>0.930119</td>\n",
       "    </tr>\n",
       "    <tr>\n",
       "      <th>6</th>\n",
       "      <td>130</td>\n",
       "      <td>0.902818</td>\n",
       "      <td>0.919994</td>\n",
       "      <td>0.928721</td>\n",
       "    </tr>\n",
       "    <tr>\n",
       "      <th>7</th>\n",
       "      <td>150</td>\n",
       "      <td>0.903286</td>\n",
       "      <td>0.924472</td>\n",
       "      <td>0.929420</td>\n",
       "    </tr>\n",
       "    <tr>\n",
       "      <th>8</th>\n",
       "      <td>170</td>\n",
       "      <td>0.904248</td>\n",
       "      <td>0.921570</td>\n",
       "      <td>0.929420</td>\n",
       "    </tr>\n",
       "    <tr>\n",
       "      <th>9</th>\n",
       "      <td>190</td>\n",
       "      <td>0.904248</td>\n",
       "      <td>0.921570</td>\n",
       "      <td>0.929420</td>\n",
       "    </tr>\n",
       "  </tbody>\n",
       "</table>\n",
       "</div>"
      ],
      "text/plain": [
       "   n_estimators        f1  precision    recall\n",
       "0            10  0.913754   0.920717  0.932215\n",
       "1            30  0.905596   0.915034  0.928721\n",
       "2            50  0.906144   0.927070  0.930818\n",
       "3            70  0.904723   0.925817  0.930119\n",
       "4            90  0.904723   0.925817  0.930119\n",
       "5           110  0.904723   0.925817  0.930119\n",
       "6           130  0.902818   0.919994  0.928721\n",
       "7           150  0.903286   0.924472  0.929420\n",
       "8           170  0.904248   0.921570  0.929420\n",
       "9           190  0.904248   0.921570  0.929420"
      ]
     },
     "execution_count": 19,
     "metadata": {},
     "output_type": "execute_result"
    }
   ],
   "source": [
    "results_no_stemmer"
   ]
  },
  {
   "cell_type": "code",
   "execution_count": 20,
   "id": "446fdc61",
   "metadata": {},
   "outputs": [
    {
     "data": {
      "image/png": "[encoded data removed]",
      "text/plain": [
       "<Figure size 1152x432 with 1 Axes>"
      ]
     },
     "metadata": {
      "needs_background": "light"
     },
     "output_type": "display_data"
    }
   ],
   "source": [
    "plot_results(results_no_stemmer)"
   ]
  },
  {
   "cell_type": "markdown",
   "id": "d86c6e7f",
   "metadata": {},
   "source": [
    "### Instantiating model with best n_estimator"
   ]
  },
  {
   "cell_type": "code",
   "execution_count": 45,
   "id": "eaa5f5dd",
   "metadata": {},
   "outputs": [
    {
     "data": {
      "text/plain": [
       "RandomForestClassifier(n_estimators=10, random_state=42)"
      ]
     },
     "execution_count": 45,
     "metadata": {},
     "output_type": "execute_result"
    }
   ],
   "source": [
    "model = RandomForestClassifier(n_estimators=10, random_state=42)\n",
    "model.fit(X_train, y_train)"
   ]
  },
  {
   "cell_type": "code",
   "execution_count": 46,
   "id": "c75fea44",
   "metadata": {},
   "outputs": [
    {
     "name": "stdout",
     "output_type": "stream",
     "text": [
      "              precision    recall  f1-score   support\n",
      "\n",
      "         Bad       0.48      0.14      0.22       111\n",
      "        Good       0.93      0.99      0.96      1320\n",
      "\n",
      "    accuracy                           0.92      1431\n",
      "   macro avg       0.71      0.57      0.59      1431\n",
      "weighted avg       0.90      0.92      0.90      1431\n",
      "\n"
     ]
    }
   ],
   "source": [
    "print(classification_report(y_test, model.predict(X_test)))"
   ]
  },
  {
   "cell_type": "code",
   "execution_count": 47,
   "id": "957f7070",
   "metadata": {},
   "outputs": [
    {
     "data": {
      "text/plain": [
       "<sklearn.metrics._plot.confusion_matrix.ConfusionMatrixDisplay at 0x18429968e50>"
      ]
     },
     "execution_count": 47,
     "metadata": {},
     "output_type": "execute_result"
    },
    {
     "data": {
      "image/png": "[encoded data removed]",
      "text/plain": [
       "<Figure size 432x288 with 2 Axes>"
      ]
     },
     "metadata": {
      "needs_background": "light"
     },
     "output_type": "display_data"
    }
   ],
   "source": [
    "ConfusionMatrixDisplay.from_estimator(model, X_test, y_test, cmap='Blues', values_format='d')"
   ]
  },
  {
   "cell_type": "markdown",
   "id": "70ad684a",
   "metadata": {},
   "source": [
    "## Finding better parameters"
   ]
  },
  {
   "cell_type": "code",
   "execution_count": 24,
   "id": "1ef3944a",
   "metadata": {},
   "outputs": [
    {
     "name": "stderr",
     "output_type": "stream",
     "text": [
      "Treinamento:   2%|█▏                                                                    | 1/60 [00:10<10:16, 10.46s/it]"
     ]
    },
    {
     "name": "stdout",
     "output_type": "stream",
     "text": [
      "Mean f1: 0.942\n",
      "F1-score test: 0.914\n",
      "Precision score: 0.921\n",
      "Recall test: 0.932\n",
      "Parameters:  {'n_estimators': 10, 'criterion': 'gini', 'max_features': 'sqrt'}\n",
      "Score of validation:  0.9418703134271997\n"
     ]
    },
    {
     "name": "stderr",
     "output_type": "stream",
     "text": [
      "\r",
      "Treinamento:   3%|██▎                                                                   | 2/60 [00:18<08:36,  8.90s/it]"
     ]
    },
    {
     "name": "stdout",
     "output_type": "stream",
     "text": [
      "Mean f1: 0.942\n",
      "F1-score test: 0.914\n",
      "Precision score: 0.921\n",
      "Recall test: 0.932\n",
      "Parameters:  {'n_estimators': 10, 'criterion': 'gini', 'max_features': 'auto'}\n",
      "Score of validation:  0.9418703134271997\n"
     ]
    },
    {
     "name": "stderr",
     "output_type": "stream",
     "text": [
      "\r",
      "Treinamento:   5%|███▌                                                                  | 3/60 [00:20<05:41,  6.00s/it]"
     ]
    },
    {
     "name": "stdout",
     "output_type": "stream",
     "text": [
      "Mean f1: 0.939\n",
      "F1-score test: 0.895\n",
      "Precision score: 0.921\n",
      "Recall test: 0.926\n",
      "Parameters:  {'n_estimators': 10, 'criterion': 'gini', 'max_features': 'log2'}\n",
      "Score of validation:  0.938567909226592\n"
     ]
    },
    {
     "name": "stderr",
     "output_type": "stream",
     "text": [
      "\r",
      "Treinamento:   7%|████▋                                                                 | 4/60 [00:25<05:13,  5.59s/it]"
     ]
    },
    {
     "name": "stdout",
     "output_type": "stream",
     "text": [
      "Mean f1: 0.945\n",
      "F1-score test: 0.912\n",
      "Precision score: 0.922\n",
      "Recall test: 0.932\n",
      "Parameters:  {'n_estimators': 10, 'criterion': 'entropy', 'max_features': 'sqrt'}\n",
      "Score of validation:  0.9445649242056426\n"
     ]
    },
    {
     "name": "stderr",
     "output_type": "stream",
     "text": [
      "\r",
      "Treinamento:   8%|█████▊                                                                | 5/60 [00:30<04:46,  5.21s/it]"
     ]
    },
    {
     "name": "stdout",
     "output_type": "stream",
     "text": [
      "Mean f1: 0.945\n",
      "F1-score test: 0.912\n",
      "Precision score: 0.922\n",
      "Recall test: 0.932\n",
      "Parameters:  {'n_estimators': 10, 'criterion': 'entropy', 'max_features': 'auto'}\n",
      "Score of validation:  0.9445649242056426\n"
     ]
    },
    {
     "name": "stderr",
     "output_type": "stream",
     "text": [
      "\r",
      "Treinamento:  10%|███████                                                               | 6/60 [00:32<03:51,  4.29s/it]"
     ]
    },
    {
     "name": "stdout",
     "output_type": "stream",
     "text": [
      "Mean f1: 0.942\n",
      "F1-score test: 0.903\n",
      "Precision score: 0.911\n",
      "Recall test: 0.927\n",
      "Parameters:  {'n_estimators': 10, 'criterion': 'entropy', 'max_features': 'log2'}\n",
      "Score of validation:  0.942163420905936\n"
     ]
    },
    {
     "name": "stderr",
     "output_type": "stream",
     "text": [
      "\r",
      "Treinamento:  12%|████████▏                                                             | 7/60 [00:50<07:34,  8.58s/it]"
     ]
    },
    {
     "name": "stdout",
     "output_type": "stream",
     "text": [
      "Mean f1: 0.944\n",
      "F1-score test: 0.906\n",
      "Precision score: 0.915\n",
      "Recall test: 0.929\n",
      "Parameters:  {'n_estimators': 30, 'criterion': 'gini', 'max_features': 'sqrt'}\n",
      "Score of validation:  0.9436667206128284\n"
     ]
    },
    {
     "name": "stderr",
     "output_type": "stream",
     "text": [
      "\r",
      "Treinamento:  13%|█████████▎                                                            | 8/60 [01:03<08:47, 10.15s/it]"
     ]
    },
    {
     "name": "stdout",
     "output_type": "stream",
     "text": [
      "Mean f1: 0.944\n",
      "F1-score test: 0.906\n",
      "Precision score: 0.915\n",
      "Recall test: 0.929\n",
      "Parameters:  {'n_estimators': 30, 'criterion': 'gini', 'max_features': 'auto'}\n",
      "Score of validation:  0.9436667206128284\n"
     ]
    },
    {
     "name": "stderr",
     "output_type": "stream",
     "text": [
      "\r",
      "Treinamento:  15%|██████████▌                                                           | 9/60 [01:08<07:14,  8.52s/it]"
     ]
    },
    {
     "name": "stdout",
     "output_type": "stream",
     "text": [
      "Mean f1: 0.939\n",
      "F1-score test: 0.890\n",
      "Precision score: 0.930\n",
      "Recall test: 0.925\n",
      "Parameters:  {'n_estimators': 30, 'criterion': 'gini', 'max_features': 'log2'}\n",
      "Score of validation:  0.9385679092265917\n"
     ]
    },
    {
     "name": "stderr",
     "output_type": "stream",
     "text": [
      "\r",
      "Treinamento:  17%|███████████▌                                                         | 10/60 [01:17<07:15,  8.71s/it]"
     ]
    },
    {
     "name": "stdout",
     "output_type": "stream",
     "text": [
      "Mean f1: 0.944\n",
      "F1-score test: 0.902\n",
      "Precision score: 0.916\n",
      "Recall test: 0.928\n",
      "Parameters:  {'n_estimators': 30, 'criterion': 'entropy', 'max_features': 'sqrt'}\n",
      "Score of validation:  0.9436649224074373\n"
     ]
    },
    {
     "name": "stderr",
     "output_type": "stream",
     "text": [
      "\r",
      "Treinamento:  18%|████████████▋                                                        | 11/60 [01:26<07:10,  8.80s/it]"
     ]
    },
    {
     "name": "stdout",
     "output_type": "stream",
     "text": [
      "Mean f1: 0.944\n",
      "F1-score test: 0.902\n",
      "Precision score: 0.916\n",
      "Recall test: 0.928\n",
      "Parameters:  {'n_estimators': 30, 'criterion': 'entropy', 'max_features': 'auto'}\n",
      "Score of validation:  0.9436649224074373\n"
     ]
    },
    {
     "name": "stderr",
     "output_type": "stream",
     "text": [
      "\r",
      "Treinamento:  20%|█████████████▊                                                       | 12/60 [01:31<05:57,  7.44s/it]"
     ]
    },
    {
     "name": "stdout",
     "output_type": "stream",
     "text": [
      "Mean f1: 0.939\n",
      "F1-score test: 0.893\n",
      "Precision score: 0.918\n",
      "Recall test: 0.925\n",
      "Parameters:  {'n_estimators': 30, 'criterion': 'entropy', 'max_features': 'log2'}\n",
      "Score of validation:  0.9385670101238963\n"
     ]
    },
    {
     "name": "stderr",
     "output_type": "stream",
     "text": [
      "\r",
      "Treinamento:  22%|██████████████▉                                                      | 13/60 [01:52<09:12, 11.76s/it]"
     ]
    },
    {
     "name": "stdout",
     "output_type": "stream",
     "text": [
      "Mean f1: 0.944\n",
      "F1-score test: 0.906\n",
      "Precision score: 0.927\n",
      "Recall test: 0.931\n",
      "Parameters:  {'n_estimators': 50, 'criterion': 'gini', 'max_features': 'sqrt'}\n",
      "Score of validation:  0.9436640233047419\n"
     ]
    },
    {
     "name": "stderr",
     "output_type": "stream",
     "text": [
      "\r",
      "Treinamento:  23%|████████████████                                                     | 14/60 [02:14<11:20, 14.80s/it]"
     ]
    },
    {
     "name": "stdout",
     "output_type": "stream",
     "text": [
      "Mean f1: 0.944\n",
      "F1-score test: 0.906\n",
      "Precision score: 0.927\n",
      "Recall test: 0.931\n",
      "Parameters:  {'n_estimators': 50, 'criterion': 'gini', 'max_features': 'auto'}\n",
      "Score of validation:  0.9436640233047419\n"
     ]
    },
    {
     "name": "stderr",
     "output_type": "stream",
     "text": [
      "\r",
      "Treinamento:  25%|█████████████████▎                                                   | 15/60 [02:21<09:21, 12.48s/it]"
     ]
    },
    {
     "name": "stdout",
     "output_type": "stream",
     "text": [
      "Mean f1: 0.939\n",
      "F1-score test: 0.890\n",
      "Precision score: 0.930\n",
      "Recall test: 0.925\n",
      "Parameters:  {'n_estimators': 50, 'criterion': 'gini', 'max_features': 'log2'}\n",
      "Score of validation:  0.9391685098271925\n"
     ]
    },
    {
     "name": "stderr",
     "output_type": "stream",
     "text": [
      "\r",
      "Treinamento:  27%|██████████████████▍                                                  | 16/60 [02:36<09:41, 13.22s/it]"
     ]
    },
    {
     "name": "stdout",
     "output_type": "stream",
     "text": [
      "Mean f1: 0.942\n",
      "F1-score test: 0.902\n",
      "Precision score: 0.923\n",
      "Recall test: 0.929\n",
      "Parameters:  {'n_estimators': 50, 'criterion': 'entropy', 'max_features': 'sqrt'}\n",
      "Score of validation:  0.9424664185143227\n"
     ]
    },
    {
     "name": "stderr",
     "output_type": "stream",
     "text": [
      "\r",
      "Treinamento:  28%|███████████████████▌                                                 | 17/60 [02:51<09:52, 13.79s/it]"
     ]
    },
    {
     "name": "stdout",
     "output_type": "stream",
     "text": [
      "Mean f1: 0.942\n",
      "F1-score test: 0.902\n",
      "Precision score: 0.923\n",
      "Recall test: 0.929\n",
      "Parameters:  {'n_estimators': 50, 'criterion': 'entropy', 'max_features': 'auto'}\n",
      "Score of validation:  0.9424664185143227\n"
     ]
    },
    {
     "name": "stderr",
     "output_type": "stream",
     "text": [
      "\r",
      "Treinamento:  30%|████████████████████▋                                                | 18/60 [02:58<08:12, 11.72s/it]"
     ]
    },
    {
     "name": "stdout",
     "output_type": "stream",
     "text": [
      "Mean f1: 0.938\n",
      "F1-score test: 0.894\n",
      "Precision score: 0.931\n",
      "Recall test: 0.926\n",
      "Parameters:  {'n_estimators': 50, 'criterion': 'entropy', 'max_features': 'log2'}\n",
      "Score of validation:  0.937668806531082\n"
     ]
    },
    {
     "name": "stderr",
     "output_type": "stream",
     "text": [
      "\r",
      "Treinamento:  32%|█████████████████████▊                                               | 19/60 [03:30<12:03, 17.65s/it]"
     ]
    },
    {
     "name": "stdout",
     "output_type": "stream",
     "text": [
      "Mean f1: 0.944\n",
      "F1-score test: 0.905\n",
      "Precision score: 0.926\n",
      "Recall test: 0.930\n",
      "Parameters:  {'n_estimators': 70, 'criterion': 'gini', 'max_features': 'sqrt'}\n",
      "Score of validation:  0.9442628256999515\n"
     ]
    },
    {
     "name": "stderr",
     "output_type": "stream",
     "text": [
      "\r",
      "Treinamento:  33%|███████████████████████                                              | 20/60 [04:01<14:28, 21.72s/it]"
     ]
    },
    {
     "name": "stdout",
     "output_type": "stream",
     "text": [
      "Mean f1: 0.944\n",
      "F1-score test: 0.905\n",
      "Precision score: 0.926\n",
      "Recall test: 0.930\n",
      "Parameters:  {'n_estimators': 70, 'criterion': 'gini', 'max_features': 'auto'}\n",
      "Score of validation:  0.9442628256999515\n"
     ]
    },
    {
     "name": "stderr",
     "output_type": "stream",
     "text": [
      "\r",
      "Treinamento:  35%|████████████████████████▏                                            | 21/60 [04:11<11:47, 18.14s/it]"
     ]
    },
    {
     "name": "stdout",
     "output_type": "stream",
     "text": [
      "Mean f1: 0.939\n",
      "F1-score test: 0.892\n",
      "Precision score: 0.931\n",
      "Recall test: 0.925\n",
      "Parameters:  {'n_estimators': 70, 'criterion': 'gini', 'max_features': 'log2'}\n",
      "Score of validation:  0.9385679092265917\n"
     ]
    },
    {
     "name": "stderr",
     "output_type": "stream",
     "text": [
      "\r",
      "Treinamento:  37%|█████████████████████████▎                                           | 22/60 [04:31<11:48, 18.65s/it]"
     ]
    },
    {
     "name": "stdout",
     "output_type": "stream",
     "text": [
      "Mean f1: 0.942\n",
      "F1-score test: 0.900\n",
      "Precision score: 0.921\n",
      "Recall test: 0.928\n",
      "Parameters:  {'n_estimators': 70, 'criterion': 'entropy', 'max_features': 'sqrt'}\n",
      "Score of validation:  0.9418667170164177\n"
     ]
    },
    {
     "name": "stderr",
     "output_type": "stream",
     "text": [
      "\r",
      "Treinamento:  38%|██████████████████████████▍                                          | 23/60 [04:51<11:44, 19.05s/it]"
     ]
    },
    {
     "name": "stdout",
     "output_type": "stream",
     "text": [
      "Mean f1: 0.942\n",
      "F1-score test: 0.900\n",
      "Precision score: 0.921\n",
      "Recall test: 0.928\n",
      "Parameters:  {'n_estimators': 70, 'criterion': 'entropy', 'max_features': 'auto'}\n",
      "Score of validation:  0.9418667170164177\n"
     ]
    },
    {
     "name": "stderr",
     "output_type": "stream",
     "text": [
      "\r",
      "Treinamento:  40%|███████████████████████████▌                                         | 24/60 [04:59<09:36, 16.03s/it]"
     ]
    },
    {
     "name": "stdout",
     "output_type": "stream",
     "text": [
      "Mean f1: 0.938\n",
      "F1-score test: 0.895\n",
      "Precision score: 0.932\n",
      "Recall test: 0.927\n",
      "Parameters:  {'n_estimators': 70, 'criterion': 'entropy', 'max_features': 'log2'}\n",
      "Score of validation:  0.9382676089262916\n"
     ]
    },
    {
     "name": "stderr",
     "output_type": "stream",
     "text": [
      "\r",
      "Treinamento:  42%|████████████████████████████▊                                        | 25/60 [05:38<13:18, 22.83s/it]"
     ]
    },
    {
     "name": "stdout",
     "output_type": "stream",
     "text": [
      "Mean f1: 0.945\n",
      "F1-score test: 0.905\n",
      "Precision score: 0.926\n",
      "Recall test: 0.930\n",
      "Parameters:  {'n_estimators': 90, 'criterion': 'gini', 'max_features': 'sqrt'}\n",
      "Score of validation:  0.9445613277948608\n"
     ]
    },
    {
     "name": "stderr",
     "output_type": "stream",
     "text": [
      "\r",
      "Treinamento:  43%|█████████████████████████████▉                                       | 26/60 [06:17<15:38, 27.59s/it]"
     ]
    },
    {
     "name": "stdout",
     "output_type": "stream",
     "text": [
      "Mean f1: 0.945\n",
      "F1-score test: 0.905\n",
      "Precision score: 0.926\n",
      "Recall test: 0.930\n",
      "Parameters:  {'n_estimators': 90, 'criterion': 'gini', 'max_features': 'auto'}\n",
      "Score of validation:  0.9445613277948608\n"
     ]
    },
    {
     "name": "stderr",
     "output_type": "stream",
     "text": [
      "\r",
      "Treinamento:  45%|███████████████████████████████                                      | 27/60 [06:29<12:41, 23.08s/it]"
     ]
    },
    {
     "name": "stdout",
     "output_type": "stream",
     "text": [
      "Mean f1: 0.938\n",
      "F1-score test: 0.890\n",
      "Precision score: 0.930\n",
      "Recall test: 0.925\n",
      "Parameters:  {'n_estimators': 90, 'criterion': 'gini', 'max_features': 'log2'}\n",
      "Score of validation:  0.938268508028987\n"
     ]
    },
    {
     "name": "stderr",
     "output_type": "stream",
     "text": [
      "\r",
      "Treinamento:  47%|████████████████████████████████▏                                    | 28/60 [06:55<12:41, 23.79s/it]"
     ]
    },
    {
     "name": "stdout",
     "output_type": "stream",
     "text": [
      "Mean f1: 0.942\n",
      "F1-score test: 0.899\n",
      "Precision score: 0.926\n",
      "Recall test: 0.928\n",
      "Parameters:  {'n_estimators': 90, 'criterion': 'entropy', 'max_features': 'sqrt'}\n",
      "Score of validation:  0.9418667170164176\n"
     ]
    },
    {
     "name": "stderr",
     "output_type": "stream",
     "text": [
      "\r",
      "Treinamento:  48%|█████████████████████████████████▎                                   | 29/60 [07:22<12:47, 24.75s/it]"
     ]
    },
    {
     "name": "stdout",
     "output_type": "stream",
     "text": [
      "Mean f1: 0.942\n",
      "F1-score test: 0.899\n",
      "Precision score: 0.926\n",
      "Recall test: 0.928\n",
      "Parameters:  {'n_estimators': 90, 'criterion': 'entropy', 'max_features': 'auto'}\n",
      "Score of validation:  0.9418667170164176\n"
     ]
    },
    {
     "name": "stderr",
     "output_type": "stream",
     "text": [
      "\r",
      "Treinamento:  50%|██████████████████████████████████▌                                  | 30/60 [07:33<10:23, 20.79s/it]"
     ]
    },
    {
     "name": "stdout",
     "output_type": "stream",
     "text": [
      "Mean f1: 0.937\n",
      "F1-score test: 0.892\n",
      "Precision score: 0.931\n",
      "Recall test: 0.925\n",
      "Parameters:  {'n_estimators': 90, 'criterion': 'entropy', 'max_features': 'log2'}\n",
      "Score of validation:  0.9373694053334771\n"
     ]
    },
    {
     "name": "stderr",
     "output_type": "stream",
     "text": [
      "\r",
      "Treinamento:  52%|███████████████████████████████████▋                                 | 31/60 [08:22<14:00, 29.00s/it]"
     ]
    },
    {
     "name": "stdout",
     "output_type": "stream",
     "text": [
      "Mean f1: 0.945\n",
      "F1-score test: 0.905\n",
      "Precision score: 0.926\n",
      "Recall test: 0.930\n",
      "Parameters:  {'n_estimators': 110, 'criterion': 'gini', 'max_features': 'sqrt'}\n",
      "Score of validation:  0.9451610292927659\n"
     ]
    },
    {
     "name": "stderr",
     "output_type": "stream",
     "text": [
      "\r",
      "Treinamento:  53%|████████████████████████████████████▊                                | 32/60 [09:10<16:11, 34.71s/it]"
     ]
    },
    {
     "name": "stdout",
     "output_type": "stream",
     "text": [
      "Mean f1: 0.945\n",
      "F1-score test: 0.905\n",
      "Precision score: 0.926\n",
      "Recall test: 0.930\n",
      "Parameters:  {'n_estimators': 110, 'criterion': 'gini', 'max_features': 'auto'}\n",
      "Score of validation:  0.9451610292927659\n"
     ]
    },
    {
     "name": "stderr",
     "output_type": "stream",
     "text": [
      "\r",
      "Treinamento:  55%|█████████████████████████████████████▉                               | 33/60 [09:25<13:00, 28.92s/it]"
     ]
    },
    {
     "name": "stdout",
     "output_type": "stream",
     "text": [
      "Mean f1: 0.938\n",
      "F1-score test: 0.890\n",
      "Precision score: 0.930\n",
      "Recall test: 0.925\n",
      "Parameters:  {'n_estimators': 110, 'criterion': 'gini', 'max_features': 'log2'}\n",
      "Score of validation:  0.938268508028987\n"
     ]
    },
    {
     "name": "stderr",
     "output_type": "stream",
     "text": [
      "\r",
      "Treinamento:  57%|███████████████████████████████████████                              | 34/60 [09:56<12:51, 29.69s/it]"
     ]
    },
    {
     "name": "stdout",
     "output_type": "stream",
     "text": [
      "Mean f1: 0.942\n",
      "F1-score test: 0.898\n",
      "Precision score: 0.925\n",
      "Recall test: 0.927\n",
      "Parameters:  {'n_estimators': 110, 'criterion': 'entropy', 'max_features': 'sqrt'}\n",
      "Score of validation:  0.9415673158188127\n"
     ]
    },
    {
     "name": "stderr",
     "output_type": "stream",
     "text": [
      "\r",
      "Treinamento:  58%|████████████████████████████████████████▎                            | 35/60 [10:34<13:18, 31.93s/it]"
     ]
    },
    {
     "name": "stdout",
     "output_type": "stream",
     "text": [
      "Mean f1: 0.942\n",
      "F1-score test: 0.898\n",
      "Precision score: 0.925\n",
      "Recall test: 0.927\n",
      "Parameters:  {'n_estimators': 110, 'criterion': 'entropy', 'max_features': 'auto'}\n",
      "Score of validation:  0.9415673158188127\n"
     ]
    },
    {
     "name": "stderr",
     "output_type": "stream",
     "text": [
      "\r",
      "Treinamento:  60%|█████████████████████████████████████████▍                           | 36/60 [10:56<11:40, 29.17s/it]"
     ]
    },
    {
     "name": "stdout",
     "output_type": "stream",
     "text": [
      "Mean f1: 0.938\n",
      "F1-score test: 0.890\n",
      "Precision score: 0.930\n",
      "Recall test: 0.925\n",
      "Parameters:  {'n_estimators': 110, 'criterion': 'entropy', 'max_features': 'log2'}\n",
      "Score of validation:  0.9379682077286867\n"
     ]
    },
    {
     "name": "stderr",
     "output_type": "stream",
     "text": [
      "\r",
      "Treinamento:  62%|██████████████████████████████████████████▌                          | 37/60 [12:23<17:45, 46.32s/it]"
     ]
    },
    {
     "name": "stdout",
     "output_type": "stream",
     "text": [
      "Mean f1: 0.945\n",
      "F1-score test: 0.903\n",
      "Precision score: 0.920\n",
      "Recall test: 0.929\n",
      "Parameters:  {'n_estimators': 130, 'criterion': 'gini', 'max_features': 'sqrt'}\n",
      "Score of validation:  0.9454613295930662\n"
     ]
    },
    {
     "name": "stderr",
     "output_type": "stream",
     "text": [
      "\r",
      "Treinamento:  63%|███████████████████████████████████████████▋                         | 38/60 [13:51<21:37, 59.00s/it]"
     ]
    },
    {
     "name": "stdout",
     "output_type": "stream",
     "text": [
      "Mean f1: 0.945\n",
      "F1-score test: 0.903\n",
      "Precision score: 0.920\n",
      "Recall test: 0.929\n",
      "Parameters:  {'n_estimators': 130, 'criterion': 'gini', 'max_features': 'auto'}\n",
      "Score of validation:  0.9454613295930662\n"
     ]
    },
    {
     "name": "stderr",
     "output_type": "stream",
     "text": [
      "\r",
      "Treinamento:  65%|████████████████████████████████████████████▊                        | 39/60 [14:20<17:26, 49.86s/it]"
     ]
    },
    {
     "name": "stdout",
     "output_type": "stream",
     "text": [
      "Mean f1: 0.939\n",
      "F1-score test: 0.887\n",
      "Precision score: 0.929\n",
      "Recall test: 0.923\n",
      "Parameters:  {'n_estimators': 130, 'criterion': 'gini', 'max_features': 'log2'}\n",
      "Score of validation:  0.9385679092265917\n"
     ]
    },
    {
     "name": "stderr",
     "output_type": "stream",
     "text": [
      "\r",
      "Treinamento:  67%|██████████████████████████████████████████████                       | 40/60 [15:11<16:45, 50.26s/it]"
     ]
    },
    {
     "name": "stdout",
     "output_type": "stream",
     "text": [
      "Mean f1: 0.942\n",
      "F1-score test: 0.902\n",
      "Precision score: 0.929\n",
      "Recall test: 0.929\n",
      "Parameters:  {'n_estimators': 130, 'criterion': 'entropy', 'max_features': 'sqrt'}\n",
      "Score of validation:  0.9415682149215083\n"
     ]
    },
    {
     "name": "stderr",
     "output_type": "stream",
     "text": [
      "\r",
      "Treinamento:  68%|███████████████████████████████████████████████▏                     | 41/60 [15:50<14:51, 46.92s/it]"
     ]
    },
    {
     "name": "stdout",
     "output_type": "stream",
     "text": [
      "Mean f1: 0.942\n",
      "F1-score test: 0.902\n",
      "Precision score: 0.929\n",
      "Recall test: 0.929\n",
      "Parameters:  {'n_estimators': 130, 'criterion': 'entropy', 'max_features': 'auto'}\n",
      "Score of validation:  0.9415682149215083\n"
     ]
    },
    {
     "name": "stderr",
     "output_type": "stream",
     "text": [
      "\r",
      "Treinamento:  70%|████████████████████████████████████████████████▎                    | 42/60 [16:06<11:18, 37.68s/it]"
     ]
    },
    {
     "name": "stdout",
     "output_type": "stream",
     "text": [
      "Mean f1: 0.937\n",
      "F1-score test: 0.890\n",
      "Precision score: 0.930\n",
      "Recall test: 0.925\n",
      "Parameters:  {'n_estimators': 130, 'criterion': 'entropy', 'max_features': 'log2'}\n",
      "Score of validation:  0.9373694053334771\n"
     ]
    },
    {
     "name": "stderr",
     "output_type": "stream",
     "text": [
      "\r",
      "Treinamento:  72%|█████████████████████████████████████████████████▍                   | 43/60 [17:11<12:57, 45.72s/it]"
     ]
    },
    {
     "name": "stdout",
     "output_type": "stream",
     "text": [
      "Mean f1: 0.945\n",
      "F1-score test: 0.903\n",
      "Precision score: 0.924\n",
      "Recall test: 0.929\n",
      "Parameters:  {'n_estimators': 150, 'criterion': 'gini', 'max_features': 'sqrt'}\n",
      "Score of validation:  0.9445631260002518\n"
     ]
    },
    {
     "name": "stderr",
     "output_type": "stream",
     "text": [
      "\r",
      "Treinamento:  73%|██████████████████████████████████████████████████▌                  | 44/60 [18:15<13:40, 51.28s/it]"
     ]
    },
    {
     "name": "stdout",
     "output_type": "stream",
     "text": [
      "Mean f1: 0.945\n",
      "F1-score test: 0.903\n",
      "Precision score: 0.924\n",
      "Recall test: 0.929\n",
      "Parameters:  {'n_estimators': 150, 'criterion': 'gini', 'max_features': 'auto'}\n",
      "Score of validation:  0.9445631260002518\n"
     ]
    },
    {
     "name": "stderr",
     "output_type": "stream",
     "text": [
      "\r",
      "Treinamento:  75%|███████████████████████████████████████████████████▊                 | 45/60 [18:35<10:27, 41.84s/it]"
     ]
    },
    {
     "name": "stdout",
     "output_type": "stream",
     "text": [
      "Mean f1: 0.939\n",
      "F1-score test: 0.887\n",
      "Precision score: 0.929\n",
      "Recall test: 0.923\n",
      "Parameters:  {'n_estimators': 150, 'criterion': 'gini', 'max_features': 'log2'}\n",
      "Score of validation:  0.9385679092265917\n"
     ]
    },
    {
     "name": "stderr",
     "output_type": "stream",
     "text": [
      "\r",
      "Treinamento:  77%|████████████████████████████████████████████████████▉                | 46/60 [19:17<09:46, 41.92s/it]"
     ]
    },
    {
     "name": "stdout",
     "output_type": "stream",
     "text": [
      "Mean f1: 0.942\n",
      "F1-score test: 0.899\n",
      "Precision score: 0.926\n",
      "Recall test: 0.928\n",
      "Parameters:  {'n_estimators': 150, 'criterion': 'entropy', 'max_features': 'sqrt'}\n",
      "Score of validation:  0.9415673158188129\n"
     ]
    },
    {
     "name": "stderr",
     "output_type": "stream",
     "text": [
      "\r",
      "Treinamento:  78%|██████████████████████████████████████████████████████               | 47/60 [19:59<09:05, 41.96s/it]"
     ]
    },
    {
     "name": "stdout",
     "output_type": "stream",
     "text": [
      "Mean f1: 0.942\n",
      "F1-score test: 0.899\n",
      "Precision score: 0.926\n",
      "Recall test: 0.928\n",
      "Parameters:  {'n_estimators': 150, 'criterion': 'entropy', 'max_features': 'auto'}\n",
      "Score of validation:  0.9415673158188129\n"
     ]
    },
    {
     "name": "stderr",
     "output_type": "stream",
     "text": [
      "\r",
      "Treinamento:  80%|███████████████████████████████████████████████████████▏             | 48/60 [20:17<06:58, 34.91s/it]"
     ]
    },
    {
     "name": "stdout",
     "output_type": "stream",
     "text": [
      "Mean f1: 0.937\n",
      "F1-score test: 0.890\n",
      "Precision score: 0.930\n",
      "Recall test: 0.925\n",
      "Parameters:  {'n_estimators': 150, 'criterion': 'entropy', 'max_features': 'log2'}\n",
      "Score of validation:  0.9373694053334771\n"
     ]
    },
    {
     "name": "stderr",
     "output_type": "stream",
     "text": [
      "\r",
      "Treinamento:  82%|████████████████████████████████████████████████████████▎            | 49/60 [21:30<08:28, 46.23s/it]"
     ]
    },
    {
     "name": "stdout",
     "output_type": "stream",
     "text": [
      "Mean f1: 0.945\n",
      "F1-score test: 0.904\n",
      "Precision score: 0.922\n",
      "Recall test: 0.929\n",
      "Parameters:  {'n_estimators': 170, 'criterion': 'gini', 'max_features': 'sqrt'}\n",
      "Score of validation:  0.9445640251029472\n"
     ]
    },
    {
     "name": "stderr",
     "output_type": "stream",
     "text": [
      "\r",
      "Treinamento:  83%|█████████████████████████████████████████████████████████▌           | 50/60 [22:42<08:59, 53.91s/it]"
     ]
    },
    {
     "name": "stdout",
     "output_type": "stream",
     "text": [
      "Mean f1: 0.945\n",
      "F1-score test: 0.904\n",
      "Precision score: 0.922\n",
      "Recall test: 0.929\n",
      "Parameters:  {'n_estimators': 170, 'criterion': 'gini', 'max_features': 'auto'}\n",
      "Score of validation:  0.9445640251029472\n"
     ]
    },
    {
     "name": "stderr",
     "output_type": "stream",
     "text": [
      "\r",
      "Treinamento:  85%|██████████████████████████████████████████████████████████▋          | 51/60 [23:04<06:40, 44.46s/it]"
     ]
    },
    {
     "name": "stdout",
     "output_type": "stream",
     "text": [
      "Mean f1: 0.939\n",
      "F1-score test: 0.889\n",
      "Precision score: 0.930\n",
      "Recall test: 0.924\n",
      "Parameters:  {'n_estimators': 170, 'criterion': 'gini', 'max_features': 'log2'}\n",
      "Score of validation:  0.9385679092265917\n"
     ]
    },
    {
     "name": "stderr",
     "output_type": "stream",
     "text": [
      "\r",
      "Treinamento:  87%|███████████████████████████████████████████████████████████▊         | 52/60 [23:53<06:05, 45.66s/it]"
     ]
    },
    {
     "name": "stdout",
     "output_type": "stream",
     "text": [
      "Mean f1: 0.941\n",
      "F1-score test: 0.901\n",
      "Precision score: 0.934\n",
      "Recall test: 0.929\n",
      "Parameters:  {'n_estimators': 170, 'criterion': 'entropy', 'max_features': 'sqrt'}\n",
      "Score of validation:  0.9406691122259984\n"
     ]
    },
    {
     "name": "stderr",
     "output_type": "stream",
     "text": [
      "\r",
      "Treinamento:  88%|████████████████████████████████████████████████████████████▉        | 53/60 [24:41<05:25, 46.53s/it]"
     ]
    },
    {
     "name": "stdout",
     "output_type": "stream",
     "text": [
      "Mean f1: 0.941\n",
      "F1-score test: 0.901\n",
      "Precision score: 0.934\n",
      "Recall test: 0.929\n",
      "Parameters:  {'n_estimators': 170, 'criterion': 'entropy', 'max_features': 'auto'}\n",
      "Score of validation:  0.9406691122259984\n"
     ]
    },
    {
     "name": "stderr",
     "output_type": "stream",
     "text": [
      "\r",
      "Treinamento:  90%|██████████████████████████████████████████████████████████████       | 54/60 [25:02<03:53, 38.84s/it]"
     ]
    },
    {
     "name": "stdout",
     "output_type": "stream",
     "text": [
      "Mean f1: 0.937\n",
      "F1-score test: 0.892\n",
      "Precision score: 0.931\n",
      "Recall test: 0.925\n",
      "Parameters:  {'n_estimators': 170, 'criterion': 'entropy', 'max_features': 'log2'}\n",
      "Score of validation:  0.9373694053334771\n"
     ]
    },
    {
     "name": "stderr",
     "output_type": "stream",
     "text": [
      "\r",
      "Treinamento:  92%|███████████████████████████████████████████████████████████████▎     | 55/60 [26:25<04:20, 52.11s/it]"
     ]
    },
    {
     "name": "stdout",
     "output_type": "stream",
     "text": [
      "Mean f1: 0.944\n",
      "F1-score test: 0.904\n",
      "Precision score: 0.922\n",
      "Recall test: 0.929\n",
      "Parameters:  {'n_estimators': 190, 'criterion': 'gini', 'max_features': 'sqrt'}\n",
      "Score of validation:  0.9442646239053424\n"
     ]
    },
    {
     "name": "stderr",
     "output_type": "stream",
     "text": [
      "\r",
      "Treinamento:  93%|████████████████████████████████████████████████████████████████▍    | 56/60 [27:48<04:05, 61.27s/it]"
     ]
    },
    {
     "name": "stdout",
     "output_type": "stream",
     "text": [
      "Mean f1: 0.944\n",
      "F1-score test: 0.904\n",
      "Precision score: 0.922\n",
      "Recall test: 0.929\n",
      "Parameters:  {'n_estimators': 190, 'criterion': 'gini', 'max_features': 'auto'}\n",
      "Score of validation:  0.9442646239053424\n"
     ]
    },
    {
     "name": "stderr",
     "output_type": "stream",
     "text": [
      "\r",
      "Treinamento:  95%|█████████████████████████████████████████████████████████████████▌   | 57/60 [28:14<02:31, 50.56s/it]"
     ]
    },
    {
     "name": "stdout",
     "output_type": "stream",
     "text": [
      "Mean f1: 0.938\n",
      "F1-score test: 0.889\n",
      "Precision score: 0.930\n",
      "Recall test: 0.924\n",
      "Parameters:  {'n_estimators': 190, 'criterion': 'gini', 'max_features': 'log2'}\n",
      "Score of validation:  0.9379691068313821\n"
     ]
    },
    {
     "name": "stderr",
     "output_type": "stream",
     "text": [
      "\r",
      "Treinamento:  97%|██████████████████████████████████████████████████████████████████▋  | 58/60 [29:09<01:44, 52.04s/it]"
     ]
    },
    {
     "name": "stdout",
     "output_type": "stream",
     "text": [
      "Mean f1: 0.941\n",
      "F1-score test: 0.901\n",
      "Precision score: 0.934\n",
      "Recall test: 0.929\n",
      "Parameters:  {'n_estimators': 190, 'criterion': 'entropy', 'max_features': 'sqrt'}\n",
      "Score of validation:  0.9409676143209078\n"
     ]
    },
    {
     "name": "stderr",
     "output_type": "stream",
     "text": [
      "\r",
      "Treinamento:  98%|███████████████████████████████████████████████████████████████████▊ | 59/60 [30:04<00:53, 53.03s/it]"
     ]
    },
    {
     "name": "stdout",
     "output_type": "stream",
     "text": [
      "Mean f1: 0.941\n",
      "F1-score test: 0.901\n",
      "Precision score: 0.934\n",
      "Recall test: 0.929\n",
      "Parameters:  {'n_estimators': 190, 'criterion': 'entropy', 'max_features': 'auto'}\n",
      "Score of validation:  0.9409676143209078\n"
     ]
    },
    {
     "name": "stderr",
     "output_type": "stream",
     "text": [
      "Treinamento: 100%|█████████████████████████████████████████████████████████████████████| 60/60 [30:28<00:00, 30.48s/it]"
     ]
    },
    {
     "name": "stdout",
     "output_type": "stream",
     "text": [
      "Mean f1: 0.937\n",
      "F1-score test: 0.890\n",
      "Precision score: 0.930\n",
      "Recall test: 0.925\n",
      "Parameters:  {'n_estimators': 190, 'criterion': 'entropy', 'max_features': 'log2'}\n",
      "Score of validation:  0.9373694053334771\n",
      "------------------------------\n",
      "Best parameters:  {'n_estimators': 10, 'criterion': 'gini', 'max_features': 'sqrt'}\n",
      "Best f1-score score:  0.9137540660691036\n",
      "Best precision score:  0.920716708789918\n",
      "Best recall score:  0.9322152341020266\n"
     ]
    },
    {
     "name": "stderr",
     "output_type": "stream",
     "text": [
      "\n"
     ]
    }
   ],
   "source": [
    "best_params, results = search_cross_valid(search_space, X_train, y_train, X_test, y_test)"
   ]
  },
  {
   "cell_type": "code",
   "execution_count": 25,
   "id": "162b6f08",
   "metadata": {},
   "outputs": [
    {
     "data": {
      "text/html": [
       "<div>\n",
       "<style scoped>\n",
       "    .dataframe tbody tr th:only-of-type {\n",
       "        vertical-align: middle;\n",
       "    }\n",
       "\n",
       "    .dataframe tbody tr th {\n",
       "        vertical-align: top;\n",
       "    }\n",
       "\n",
       "    .dataframe thead th {\n",
       "        text-align: right;\n",
       "    }\n",
       "</style>\n",
       "<table border=\"1\" class=\"dataframe\">\n",
       "  <thead>\n",
       "    <tr style=\"text-align: right;\">\n",
       "      <th></th>\n",
       "      <th>model</th>\n",
       "      <th>parameters</th>\n",
       "      <th>f1</th>\n",
       "      <th>precision</th>\n",
       "      <th>recall</th>\n",
       "    </tr>\n",
       "  </thead>\n",
       "  <tbody>\n",
       "    <tr>\n",
       "      <th>0</th>\n",
       "      <td>Random Forest</td>\n",
       "      <td>{'n_estimators': 10, 'criterion': 'gini', 'max...</td>\n",
       "      <td>0.913754</td>\n",
       "      <td>0.920717</td>\n",
       "      <td>0.932215</td>\n",
       "    </tr>\n",
       "    <tr>\n",
       "      <th>1</th>\n",
       "      <td>Random Forest</td>\n",
       "      <td>{'n_estimators': 10, 'criterion': 'gini', 'max...</td>\n",
       "      <td>0.913754</td>\n",
       "      <td>0.920717</td>\n",
       "      <td>0.932215</td>\n",
       "    </tr>\n",
       "    <tr>\n",
       "      <th>2</th>\n",
       "      <td>Random Forest</td>\n",
       "      <td>{'n_estimators': 10, 'criterion': 'gini', 'max...</td>\n",
       "      <td>0.894687</td>\n",
       "      <td>0.920902</td>\n",
       "      <td>0.925926</td>\n",
       "    </tr>\n",
       "    <tr>\n",
       "      <th>3</th>\n",
       "      <td>Random Forest</td>\n",
       "      <td>{'n_estimators': 10, 'criterion': 'entropy', '...</td>\n",
       "      <td>0.912244</td>\n",
       "      <td>0.922355</td>\n",
       "      <td>0.932215</td>\n",
       "    </tr>\n",
       "    <tr>\n",
       "      <th>4</th>\n",
       "      <td>Random Forest</td>\n",
       "      <td>{'n_estimators': 10, 'criterion': 'entropy', '...</td>\n",
       "      <td>0.912244</td>\n",
       "      <td>0.922355</td>\n",
       "      <td>0.932215</td>\n",
       "    </tr>\n",
       "    <tr>\n",
       "      <th>5</th>\n",
       "      <td>Random Forest</td>\n",
       "      <td>{'n_estimators': 10, 'criterion': 'entropy', '...</td>\n",
       "      <td>0.902831</td>\n",
       "      <td>0.911483</td>\n",
       "      <td>0.927324</td>\n",
       "    </tr>\n",
       "    <tr>\n",
       "      <th>6</th>\n",
       "      <td>Random Forest</td>\n",
       "      <td>{'n_estimators': 30, 'criterion': 'gini', 'max...</td>\n",
       "      <td>0.905596</td>\n",
       "      <td>0.915034</td>\n",
       "      <td>0.928721</td>\n",
       "    </tr>\n",
       "    <tr>\n",
       "      <th>7</th>\n",
       "      <td>Random Forest</td>\n",
       "      <td>{'n_estimators': 30, 'criterion': 'gini', 'max...</td>\n",
       "      <td>0.905596</td>\n",
       "      <td>0.915034</td>\n",
       "      <td>0.928721</td>\n",
       "    </tr>\n",
       "    <tr>\n",
       "      <th>8</th>\n",
       "      <td>Random Forest</td>\n",
       "      <td>{'n_estimators': 30, 'criterion': 'gini', 'max...</td>\n",
       "      <td>0.890262</td>\n",
       "      <td>0.930236</td>\n",
       "      <td>0.924528</td>\n",
       "    </tr>\n",
       "    <tr>\n",
       "      <th>9</th>\n",
       "      <td>Random Forest</td>\n",
       "      <td>{'n_estimators': 30, 'criterion': 'entropy', '...</td>\n",
       "      <td>0.902352</td>\n",
       "      <td>0.916070</td>\n",
       "      <td>0.928022</td>\n",
       "    </tr>\n",
       "    <tr>\n",
       "      <th>10</th>\n",
       "      <td>Random Forest</td>\n",
       "      <td>{'n_estimators': 30, 'criterion': 'entropy', '...</td>\n",
       "      <td>0.902352</td>\n",
       "      <td>0.916070</td>\n",
       "      <td>0.928022</td>\n",
       "    </tr>\n",
       "    <tr>\n",
       "      <th>11</th>\n",
       "      <td>Random Forest</td>\n",
       "      <td>{'n_estimators': 30, 'criterion': 'entropy', '...</td>\n",
       "      <td>0.893105</td>\n",
       "      <td>0.918456</td>\n",
       "      <td>0.925227</td>\n",
       "    </tr>\n",
       "    <tr>\n",
       "      <th>12</th>\n",
       "      <td>Random Forest</td>\n",
       "      <td>{'n_estimators': 50, 'criterion': 'gini', 'max...</td>\n",
       "      <td>0.906144</td>\n",
       "      <td>0.927070</td>\n",
       "      <td>0.930818</td>\n",
       "    </tr>\n",
       "    <tr>\n",
       "      <th>13</th>\n",
       "      <td>Random Forest</td>\n",
       "      <td>{'n_estimators': 50, 'criterion': 'gini', 'max...</td>\n",
       "      <td>0.906144</td>\n",
       "      <td>0.927070</td>\n",
       "      <td>0.930818</td>\n",
       "    </tr>\n",
       "    <tr>\n",
       "      <th>14</th>\n",
       "      <td>Random Forest</td>\n",
       "      <td>{'n_estimators': 50, 'criterion': 'gini', 'max...</td>\n",
       "      <td>0.890262</td>\n",
       "      <td>0.930236</td>\n",
       "      <td>0.924528</td>\n",
       "    </tr>\n",
       "    <tr>\n",
       "      <th>15</th>\n",
       "      <td>Random Forest</td>\n",
       "      <td>{'n_estimators': 50, 'criterion': 'entropy', '...</td>\n",
       "      <td>0.901830</td>\n",
       "      <td>0.923015</td>\n",
       "      <td>0.928721</td>\n",
       "    </tr>\n",
       "    <tr>\n",
       "      <th>16</th>\n",
       "      <td>Random Forest</td>\n",
       "      <td>{'n_estimators': 50, 'criterion': 'entropy', '...</td>\n",
       "      <td>0.901830</td>\n",
       "      <td>0.923015</td>\n",
       "      <td>0.928721</td>\n",
       "    </tr>\n",
       "    <tr>\n",
       "      <th>17</th>\n",
       "      <td>Random Forest</td>\n",
       "      <td>{'n_estimators': 50, 'criterion': 'entropy', '...</td>\n",
       "      <td>0.893511</td>\n",
       "      <td>0.931432</td>\n",
       "      <td>0.925926</td>\n",
       "    </tr>\n",
       "    <tr>\n",
       "      <th>18</th>\n",
       "      <td>Random Forest</td>\n",
       "      <td>{'n_estimators': 70, 'criterion': 'gini', 'max...</td>\n",
       "      <td>0.904723</td>\n",
       "      <td>0.925817</td>\n",
       "      <td>0.930119</td>\n",
       "    </tr>\n",
       "    <tr>\n",
       "      <th>19</th>\n",
       "      <td>Random Forest</td>\n",
       "      <td>{'n_estimators': 70, 'criterion': 'gini', 'max...</td>\n",
       "      <td>0.904723</td>\n",
       "      <td>0.925817</td>\n",
       "      <td>0.930119</td>\n",
       "    </tr>\n",
       "    <tr>\n",
       "      <th>20</th>\n",
       "      <td>Random Forest</td>\n",
       "      <td>{'n_estimators': 70, 'criterion': 'gini', 'max...</td>\n",
       "      <td>0.891898</td>\n",
       "      <td>0.930834</td>\n",
       "      <td>0.925227</td>\n",
       "    </tr>\n",
       "    <tr>\n",
       "      <th>21</th>\n",
       "      <td>Random Forest</td>\n",
       "      <td>{'n_estimators': 70, 'criterion': 'entropy', '...</td>\n",
       "      <td>0.900357</td>\n",
       "      <td>0.921416</td>\n",
       "      <td>0.928022</td>\n",
       "    </tr>\n",
       "    <tr>\n",
       "      <th>22</th>\n",
       "      <td>Random Forest</td>\n",
       "      <td>{'n_estimators': 70, 'criterion': 'entropy', '...</td>\n",
       "      <td>0.900357</td>\n",
       "      <td>0.921416</td>\n",
       "      <td>0.928022</td>\n",
       "    </tr>\n",
       "    <tr>\n",
       "      <th>23</th>\n",
       "      <td>Random Forest</td>\n",
       "      <td>{'n_estimators': 70, 'criterion': 'entropy', '...</td>\n",
       "      <td>0.895103</td>\n",
       "      <td>0.932031</td>\n",
       "      <td>0.926625</td>\n",
       "    </tr>\n",
       "    <tr>\n",
       "      <th>24</th>\n",
       "      <td>Random Forest</td>\n",
       "      <td>{'n_estimators': 90, 'criterion': 'gini', 'max...</td>\n",
       "      <td>0.904723</td>\n",
       "      <td>0.925817</td>\n",
       "      <td>0.930119</td>\n",
       "    </tr>\n",
       "    <tr>\n",
       "      <th>25</th>\n",
       "      <td>Random Forest</td>\n",
       "      <td>{'n_estimators': 90, 'criterion': 'gini', 'max...</td>\n",
       "      <td>0.904723</td>\n",
       "      <td>0.925817</td>\n",
       "      <td>0.930119</td>\n",
       "    </tr>\n",
       "    <tr>\n",
       "      <th>26</th>\n",
       "      <td>Random Forest</td>\n",
       "      <td>{'n_estimators': 90, 'criterion': 'gini', 'max...</td>\n",
       "      <td>0.890262</td>\n",
       "      <td>0.930236</td>\n",
       "      <td>0.924528</td>\n",
       "    </tr>\n",
       "    <tr>\n",
       "      <th>27</th>\n",
       "      <td>Random Forest</td>\n",
       "      <td>{'n_estimators': 90, 'criterion': 'entropy', '...</td>\n",
       "      <td>0.899308</td>\n",
       "      <td>0.926031</td>\n",
       "      <td>0.928022</td>\n",
       "    </tr>\n",
       "    <tr>\n",
       "      <th>28</th>\n",
       "      <td>Random Forest</td>\n",
       "      <td>{'n_estimators': 90, 'criterion': 'entropy', '...</td>\n",
       "      <td>0.899308</td>\n",
       "      <td>0.926031</td>\n",
       "      <td>0.928022</td>\n",
       "    </tr>\n",
       "    <tr>\n",
       "      <th>29</th>\n",
       "      <td>Random Forest</td>\n",
       "      <td>{'n_estimators': 90, 'criterion': 'entropy', '...</td>\n",
       "      <td>0.891898</td>\n",
       "      <td>0.930834</td>\n",
       "      <td>0.925227</td>\n",
       "    </tr>\n",
       "    <tr>\n",
       "      <th>30</th>\n",
       "      <td>Random Forest</td>\n",
       "      <td>{'n_estimators': 110, 'criterion': 'gini', 'ma...</td>\n",
       "      <td>0.904723</td>\n",
       "      <td>0.925817</td>\n",
       "      <td>0.930119</td>\n",
       "    </tr>\n",
       "    <tr>\n",
       "      <th>31</th>\n",
       "      <td>Random Forest</td>\n",
       "      <td>{'n_estimators': 110, 'criterion': 'gini', 'ma...</td>\n",
       "      <td>0.904723</td>\n",
       "      <td>0.925817</td>\n",
       "      <td>0.930119</td>\n",
       "    </tr>\n",
       "    <tr>\n",
       "      <th>32</th>\n",
       "      <td>Random Forest</td>\n",
       "      <td>{'n_estimators': 110, 'criterion': 'gini', 'ma...</td>\n",
       "      <td>0.890262</td>\n",
       "      <td>0.930236</td>\n",
       "      <td>0.924528</td>\n",
       "    </tr>\n",
       "    <tr>\n",
       "      <th>33</th>\n",
       "      <td>Random Forest</td>\n",
       "      <td>{'n_estimators': 110, 'criterion': 'entropy', ...</td>\n",
       "      <td>0.897788</td>\n",
       "      <td>0.924567</td>\n",
       "      <td>0.927324</td>\n",
       "    </tr>\n",
       "    <tr>\n",
       "      <th>34</th>\n",
       "      <td>Random Forest</td>\n",
       "      <td>{'n_estimators': 110, 'criterion': 'entropy', ...</td>\n",
       "      <td>0.897788</td>\n",
       "      <td>0.924567</td>\n",
       "      <td>0.927324</td>\n",
       "    </tr>\n",
       "    <tr>\n",
       "      <th>35</th>\n",
       "      <td>Random Forest</td>\n",
       "      <td>{'n_estimators': 110, 'criterion': 'entropy', ...</td>\n",
       "      <td>0.890262</td>\n",
       "      <td>0.930236</td>\n",
       "      <td>0.924528</td>\n",
       "    </tr>\n",
       "    <tr>\n",
       "      <th>36</th>\n",
       "      <td>Random Forest</td>\n",
       "      <td>{'n_estimators': 130, 'criterion': 'gini', 'ma...</td>\n",
       "      <td>0.902818</td>\n",
       "      <td>0.919994</td>\n",
       "      <td>0.928721</td>\n",
       "    </tr>\n",
       "    <tr>\n",
       "      <th>37</th>\n",
       "      <td>Random Forest</td>\n",
       "      <td>{'n_estimators': 130, 'criterion': 'gini', 'ma...</td>\n",
       "      <td>0.902818</td>\n",
       "      <td>0.919994</td>\n",
       "      <td>0.928721</td>\n",
       "    </tr>\n",
       "    <tr>\n",
       "      <th>38</th>\n",
       "      <td>Random Forest</td>\n",
       "      <td>{'n_estimators': 130, 'criterion': 'gini', 'ma...</td>\n",
       "      <td>0.886920</td>\n",
       "      <td>0.929044</td>\n",
       "      <td>0.923131</td>\n",
       "    </tr>\n",
       "    <tr>\n",
       "      <th>39</th>\n",
       "      <td>Random Forest</td>\n",
       "      <td>{'n_estimators': 130, 'criterion': 'entropy', ...</td>\n",
       "      <td>0.902291</td>\n",
       "      <td>0.928530</td>\n",
       "      <td>0.929420</td>\n",
       "    </tr>\n",
       "    <tr>\n",
       "      <th>40</th>\n",
       "      <td>Random Forest</td>\n",
       "      <td>{'n_estimators': 130, 'criterion': 'entropy', ...</td>\n",
       "      <td>0.902291</td>\n",
       "      <td>0.928530</td>\n",
       "      <td>0.929420</td>\n",
       "    </tr>\n",
       "    <tr>\n",
       "      <th>41</th>\n",
       "      <td>Random Forest</td>\n",
       "      <td>{'n_estimators': 130, 'criterion': 'entropy', ...</td>\n",
       "      <td>0.890262</td>\n",
       "      <td>0.930236</td>\n",
       "      <td>0.924528</td>\n",
       "    </tr>\n",
       "    <tr>\n",
       "      <th>42</th>\n",
       "      <td>Random Forest</td>\n",
       "      <td>{'n_estimators': 150, 'criterion': 'gini', 'ma...</td>\n",
       "      <td>0.903286</td>\n",
       "      <td>0.924472</td>\n",
       "      <td>0.929420</td>\n",
       "    </tr>\n",
       "    <tr>\n",
       "      <th>43</th>\n",
       "      <td>Random Forest</td>\n",
       "      <td>{'n_estimators': 150, 'criterion': 'gini', 'ma...</td>\n",
       "      <td>0.903286</td>\n",
       "      <td>0.924472</td>\n",
       "      <td>0.929420</td>\n",
       "    </tr>\n",
       "    <tr>\n",
       "      <th>44</th>\n",
       "      <td>Random Forest</td>\n",
       "      <td>{'n_estimators': 150, 'criterion': 'gini', 'ma...</td>\n",
       "      <td>0.886920</td>\n",
       "      <td>0.929044</td>\n",
       "      <td>0.923131</td>\n",
       "    </tr>\n",
       "    <tr>\n",
       "      <th>45</th>\n",
       "      <td>Random Forest</td>\n",
       "      <td>{'n_estimators': 150, 'criterion': 'entropy', ...</td>\n",
       "      <td>0.899308</td>\n",
       "      <td>0.926031</td>\n",
       "      <td>0.928022</td>\n",
       "    </tr>\n",
       "    <tr>\n",
       "      <th>46</th>\n",
       "      <td>Random Forest</td>\n",
       "      <td>{'n_estimators': 150, 'criterion': 'entropy', ...</td>\n",
       "      <td>0.899308</td>\n",
       "      <td>0.926031</td>\n",
       "      <td>0.928022</td>\n",
       "    </tr>\n",
       "    <tr>\n",
       "      <th>47</th>\n",
       "      <td>Random Forest</td>\n",
       "      <td>{'n_estimators': 150, 'criterion': 'entropy', ...</td>\n",
       "      <td>0.890262</td>\n",
       "      <td>0.930236</td>\n",
       "      <td>0.924528</td>\n",
       "    </tr>\n",
       "    <tr>\n",
       "      <th>48</th>\n",
       "      <td>Random Forest</td>\n",
       "      <td>{'n_estimators': 170, 'criterion': 'gini', 'ma...</td>\n",
       "      <td>0.904248</td>\n",
       "      <td>0.921570</td>\n",
       "      <td>0.929420</td>\n",
       "    </tr>\n",
       "    <tr>\n",
       "      <th>49</th>\n",
       "      <td>Random Forest</td>\n",
       "      <td>{'n_estimators': 170, 'criterion': 'gini', 'ma...</td>\n",
       "      <td>0.904248</td>\n",
       "      <td>0.921570</td>\n",
       "      <td>0.929420</td>\n",
       "    </tr>\n",
       "    <tr>\n",
       "      <th>50</th>\n",
       "      <td>Random Forest</td>\n",
       "      <td>{'n_estimators': 170, 'criterion': 'gini', 'ma...</td>\n",
       "      <td>0.888602</td>\n",
       "      <td>0.929640</td>\n",
       "      <td>0.923829</td>\n",
       "    </tr>\n",
       "    <tr>\n",
       "      <th>51</th>\n",
       "      <td>Random Forest</td>\n",
       "      <td>{'n_estimators': 170, 'criterion': 'entropy', ...</td>\n",
       "      <td>0.901263</td>\n",
       "      <td>0.934437</td>\n",
       "      <td>0.929420</td>\n",
       "    </tr>\n",
       "    <tr>\n",
       "      <th>52</th>\n",
       "      <td>Random Forest</td>\n",
       "      <td>{'n_estimators': 170, 'criterion': 'entropy', ...</td>\n",
       "      <td>0.901263</td>\n",
       "      <td>0.934437</td>\n",
       "      <td>0.929420</td>\n",
       "    </tr>\n",
       "    <tr>\n",
       "      <th>53</th>\n",
       "      <td>Random Forest</td>\n",
       "      <td>{'n_estimators': 170, 'criterion': 'entropy', ...</td>\n",
       "      <td>0.891898</td>\n",
       "      <td>0.930834</td>\n",
       "      <td>0.925227</td>\n",
       "    </tr>\n",
       "    <tr>\n",
       "      <th>54</th>\n",
       "      <td>Random Forest</td>\n",
       "      <td>{'n_estimators': 190, 'criterion': 'gini', 'ma...</td>\n",
       "      <td>0.904248</td>\n",
       "      <td>0.921570</td>\n",
       "      <td>0.929420</td>\n",
       "    </tr>\n",
       "    <tr>\n",
       "      <th>55</th>\n",
       "      <td>Random Forest</td>\n",
       "      <td>{'n_estimators': 190, 'criterion': 'gini', 'ma...</td>\n",
       "      <td>0.904248</td>\n",
       "      <td>0.921570</td>\n",
       "      <td>0.929420</td>\n",
       "    </tr>\n",
       "    <tr>\n",
       "      <th>56</th>\n",
       "      <td>Random Forest</td>\n",
       "      <td>{'n_estimators': 190, 'criterion': 'gini', 'ma...</td>\n",
       "      <td>0.888602</td>\n",
       "      <td>0.929640</td>\n",
       "      <td>0.923829</td>\n",
       "    </tr>\n",
       "    <tr>\n",
       "      <th>57</th>\n",
       "      <td>Random Forest</td>\n",
       "      <td>{'n_estimators': 190, 'criterion': 'entropy', ...</td>\n",
       "      <td>0.901263</td>\n",
       "      <td>0.934437</td>\n",
       "      <td>0.929420</td>\n",
       "    </tr>\n",
       "    <tr>\n",
       "      <th>58</th>\n",
       "      <td>Random Forest</td>\n",
       "      <td>{'n_estimators': 190, 'criterion': 'entropy', ...</td>\n",
       "      <td>0.901263</td>\n",
       "      <td>0.934437</td>\n",
       "      <td>0.929420</td>\n",
       "    </tr>\n",
       "    <tr>\n",
       "      <th>59</th>\n",
       "      <td>Random Forest</td>\n",
       "      <td>{'n_estimators': 190, 'criterion': 'entropy', ...</td>\n",
       "      <td>0.890262</td>\n",
       "      <td>0.930236</td>\n",
       "      <td>0.924528</td>\n",
       "    </tr>\n",
       "  </tbody>\n",
       "</table>\n",
       "</div>"
      ],
      "text/plain": [
       "            model                                         parameters  \\\n",
       "0   Random Forest  {'n_estimators': 10, 'criterion': 'gini', 'max...   \n",
       "1   Random Forest  {'n_estimators': 10, 'criterion': 'gini', 'max...   \n",
       "2   Random Forest  {'n_estimators': 10, 'criterion': 'gini', 'max...   \n",
       "3   Random Forest  {'n_estimators': 10, 'criterion': 'entropy', '...   \n",
       "4   Random Forest  {'n_estimators': 10, 'criterion': 'entropy', '...   \n",
       "5   Random Forest  {'n_estimators': 10, 'criterion': 'entropy', '...   \n",
       "6   Random Forest  {'n_estimators': 30, 'criterion': 'gini', 'max...   \n",
       "7   Random Forest  {'n_estimators': 30, 'criterion': 'gini', 'max...   \n",
       "8   Random Forest  {'n_estimators': 30, 'criterion': 'gini', 'max...   \n",
       "9   Random Forest  {'n_estimators': 30, 'criterion': 'entropy', '...   \n",
       "10  Random Forest  {'n_estimators': 30, 'criterion': 'entropy', '...   \n",
       "11  Random Forest  {'n_estimators': 30, 'criterion': 'entropy', '...   \n",
       "12  Random Forest  {'n_estimators': 50, 'criterion': 'gini', 'max...   \n",
       "13  Random Forest  {'n_estimators': 50, 'criterion': 'gini', 'max...   \n",
       "14  Random Forest  {'n_estimators': 50, 'criterion': 'gini', 'max...   \n",
       "15  Random Forest  {'n_estimators': 50, 'criterion': 'entropy', '...   \n",
       "16  Random Forest  {'n_estimators': 50, 'criterion': 'entropy', '...   \n",
       "17  Random Forest  {'n_estimators': 50, 'criterion': 'entropy', '...   \n",
       "18  Random Forest  {'n_estimators': 70, 'criterion': 'gini', 'max...   \n",
       "19  Random Forest  {'n_estimators': 70, 'criterion': 'gini', 'max...   \n",
       "20  Random Forest  {'n_estimators': 70, 'criterion': 'gini', 'max...   \n",
       "21  Random Forest  {'n_estimators': 70, 'criterion': 'entropy', '...   \n",
       "22  Random Forest  {'n_estimators': 70, 'criterion': 'entropy', '...   \n",
       "23  Random Forest  {'n_estimators': 70, 'criterion': 'entropy', '...   \n",
       "24  Random Forest  {'n_estimators': 90, 'criterion': 'gini', 'max...   \n",
       "25  Random Forest  {'n_estimators': 90, 'criterion': 'gini', 'max...   \n",
       "26  Random Forest  {'n_estimators': 90, 'criterion': 'gini', 'max...   \n",
       "27  Random Forest  {'n_estimators': 90, 'criterion': 'entropy', '...   \n",
       "28  Random Forest  {'n_estimators': 90, 'criterion': 'entropy', '...   \n",
       "29  Random Forest  {'n_estimators': 90, 'criterion': 'entropy', '...   \n",
       "30  Random Forest  {'n_estimators': 110, 'criterion': 'gini', 'ma...   \n",
       "31  Random Forest  {'n_estimators': 110, 'criterion': 'gini', 'ma...   \n",
       "32  Random Forest  {'n_estimators': 110, 'criterion': 'gini', 'ma...   \n",
       "33  Random Forest  {'n_estimators': 110, 'criterion': 'entropy', ...   \n",
       "34  Random Forest  {'n_estimators': 110, 'criterion': 'entropy', ...   \n",
       "35  Random Forest  {'n_estimators': 110, 'criterion': 'entropy', ...   \n",
       "36  Random Forest  {'n_estimators': 130, 'criterion': 'gini', 'ma...   \n",
       "37  Random Forest  {'n_estimators': 130, 'criterion': 'gini', 'ma...   \n",
       "38  Random Forest  {'n_estimators': 130, 'criterion': 'gini', 'ma...   \n",
       "39  Random Forest  {'n_estimators': 130, 'criterion': 'entropy', ...   \n",
       "40  Random Forest  {'n_estimators': 130, 'criterion': 'entropy', ...   \n",
       "41  Random Forest  {'n_estimators': 130, 'criterion': 'entropy', ...   \n",
       "42  Random Forest  {'n_estimators': 150, 'criterion': 'gini', 'ma...   \n",
       "43  Random Forest  {'n_estimators': 150, 'criterion': 'gini', 'ma...   \n",
       "44  Random Forest  {'n_estimators': 150, 'criterion': 'gini', 'ma...   \n",
       "45  Random Forest  {'n_estimators': 150, 'criterion': 'entropy', ...   \n",
       "46  Random Forest  {'n_estimators': 150, 'criterion': 'entropy', ...   \n",
       "47  Random Forest  {'n_estimators': 150, 'criterion': 'entropy', ...   \n",
       "48  Random Forest  {'n_estimators': 170, 'criterion': 'gini', 'ma...   \n",
       "49  Random Forest  {'n_estimators': 170, 'criterion': 'gini', 'ma...   \n",
       "50  Random Forest  {'n_estimators': 170, 'criterion': 'gini', 'ma...   \n",
       "51  Random Forest  {'n_estimators': 170, 'criterion': 'entropy', ...   \n",
       "52  Random Forest  {'n_estimators': 170, 'criterion': 'entropy', ...   \n",
       "53  Random Forest  {'n_estimators': 170, 'criterion': 'entropy', ...   \n",
       "54  Random Forest  {'n_estimators': 190, 'criterion': 'gini', 'ma...   \n",
       "55  Random Forest  {'n_estimators': 190, 'criterion': 'gini', 'ma...   \n",
       "56  Random Forest  {'n_estimators': 190, 'criterion': 'gini', 'ma...   \n",
       "57  Random Forest  {'n_estimators': 190, 'criterion': 'entropy', ...   \n",
       "58  Random Forest  {'n_estimators': 190, 'criterion': 'entropy', ...   \n",
       "59  Random Forest  {'n_estimators': 190, 'criterion': 'entropy', ...   \n",
       "\n",
       "          f1  precision    recall  \n",
       "0   0.913754   0.920717  0.932215  \n",
       "1   0.913754   0.920717  0.932215  \n",
       "2   0.894687   0.920902  0.925926  \n",
       "3   0.912244   0.922355  0.932215  \n",
       "4   0.912244   0.922355  0.932215  \n",
       "5   0.902831   0.911483  0.927324  \n",
       "6   0.905596   0.915034  0.928721  \n",
       "7   0.905596   0.915034  0.928721  \n",
       "8   0.890262   0.930236  0.924528  \n",
       "9   0.902352   0.916070  0.928022  \n",
       "10  0.902352   0.916070  0.928022  \n",
       "11  0.893105   0.918456  0.925227  \n",
       "12  0.906144   0.927070  0.930818  \n",
       "13  0.906144   0.927070  0.930818  \n",
       "14  0.890262   0.930236  0.924528  \n",
       "15  0.901830   0.923015  0.928721  \n",
       "16  0.901830   0.923015  0.928721  \n",
       "17  0.893511   0.931432  0.925926  \n",
       "18  0.904723   0.925817  0.930119  \n",
       "19  0.904723   0.925817  0.930119  \n",
       "20  0.891898   0.930834  0.925227  \n",
       "21  0.900357   0.921416  0.928022  \n",
       "22  0.900357   0.921416  0.928022  \n",
       "23  0.895103   0.932031  0.926625  \n",
       "24  0.904723   0.925817  0.930119  \n",
       "25  0.904723   0.925817  0.930119  \n",
       "26  0.890262   0.930236  0.924528  \n",
       "27  0.899308   0.926031  0.928022  \n",
       "28  0.899308   0.926031  0.928022  \n",
       "29  0.891898   0.930834  0.925227  \n",
       "30  0.904723   0.925817  0.930119  \n",
       "31  0.904723   0.925817  0.930119  \n",
       "32  0.890262   0.930236  0.924528  \n",
       "33  0.897788   0.924567  0.927324  \n",
       "34  0.897788   0.924567  0.927324  \n",
       "35  0.890262   0.930236  0.924528  \n",
       "36  0.902818   0.919994  0.928721  \n",
       "37  0.902818   0.919994  0.928721  \n",
       "38  0.886920   0.929044  0.923131  \n",
       "39  0.902291   0.928530  0.929420  \n",
       "40  0.902291   0.928530  0.929420  \n",
       "41  0.890262   0.930236  0.924528  \n",
       "42  0.903286   0.924472  0.929420  \n",
       "43  0.903286   0.924472  0.929420  \n",
       "44  0.886920   0.929044  0.923131  \n",
       "45  0.899308   0.926031  0.928022  \n",
       "46  0.899308   0.926031  0.928022  \n",
       "47  0.890262   0.930236  0.924528  \n",
       "48  0.904248   0.921570  0.929420  \n",
       "49  0.904248   0.921570  0.929420  \n",
       "50  0.888602   0.929640  0.923829  \n",
       "51  0.901263   0.934437  0.929420  \n",
       "52  0.901263   0.934437  0.929420  \n",
       "53  0.891898   0.930834  0.925227  \n",
       "54  0.904248   0.921570  0.929420  \n",
       "55  0.904248   0.921570  0.929420  \n",
       "56  0.888602   0.929640  0.923829  \n",
       "57  0.901263   0.934437  0.929420  \n",
       "58  0.901263   0.934437  0.929420  \n",
       "59  0.890262   0.930236  0.924528  "
      ]
     },
     "execution_count": 25,
     "metadata": {},
     "output_type": "execute_result"
    }
   ],
   "source": [
    "results"
   ]
  },
  {
   "cell_type": "code",
   "execution_count": 26,
   "id": "b73fda4d",
   "metadata": {},
   "outputs": [],
   "source": [
    "# results['model'] = 'Random Forest'\n",
    "# results. to_csv('results/random_forest.csv')"
   ]
  },
  {
   "cell_type": "markdown",
   "id": "fc26db29",
   "metadata": {},
   "source": [
    "### Instantiating model with best parameters"
   ]
  },
  {
   "cell_type": "code",
   "execution_count": 48,
   "id": "664eb157",
   "metadata": {},
   "outputs": [
    {
     "data": {
      "text/plain": [
       "RandomForestClassifier(max_features='sqrt', n_estimators=90, random_state=42)"
      ]
     },
     "execution_count": 48,
     "metadata": {},
     "output_type": "execute_result"
    }
   ],
   "source": [
    "model = RandomForestClassifier(**best_params, random_state=42)\n",
    "model.fit(X_train, y_train)"
   ]
  },
  {
   "cell_type": "code",
   "execution_count": 49,
   "id": "3af17a62",
   "metadata": {},
   "outputs": [
    {
     "name": "stdout",
     "output_type": "stream",
     "text": [
      "              precision    recall  f1-score   support\n",
      "\n",
      "         Bad       0.65      0.15      0.25       111\n",
      "        Good       0.93      0.99      0.96      1320\n",
      "\n",
      "    accuracy                           0.93      1431\n",
      "   macro avg       0.79      0.57      0.61      1431\n",
      "weighted avg       0.91      0.93      0.91      1431\n",
      "\n"
     ]
    }
   ],
   "source": [
    "print(classification_report(y_test, model.predict(X_test)))"
   ]
  },
  {
   "cell_type": "code",
   "execution_count": 50,
   "id": "a6ceddeb",
   "metadata": {},
   "outputs": [
    {
     "data": {
      "text/plain": [
       "<sklearn.metrics._plot.confusion_matrix.ConfusionMatrixDisplay at 0x1842d28f790>"
      ]
     },
     "execution_count": 50,
     "metadata": {},
     "output_type": "execute_result"
    },
    {
     "data": {
      "image/png": "[encoded data removed]",
      "text/plain": [
       "<Figure size 432x288 with 2 Axes>"
      ]
     },
     "metadata": {
      "needs_background": "light"
     },
     "output_type": "display_data"
    }
   ],
   "source": [
    "ConfusionMatrixDisplay.from_estimator(model, X_test, y_test, cmap='Blues', values_format='d')"
   ]
  },
  {
   "cell_type": "markdown",
   "id": "8994c611",
   "metadata": {},
   "source": [
    "# Stemming"
   ]
  },
  {
   "cell_type": "code",
   "execution_count": 27,
   "id": "e9af2072",
   "metadata": {},
   "outputs": [],
   "source": [
    "reviews = df['review'].apply(lambda x: x.lower())\n",
    "reviews_stemmer = []\n",
    "stemmer = PorterStemmer()\n",
    "\n",
    "for r in reviews:\n",
    "    doc = nlp(r)\n",
    "    sentences = doc.sents\n",
    "\n",
    "    for sent in sentences:\n",
    "        tokens = nlp(sent.text)\n",
    "\n",
    "    # remove stop words and stemming\n",
    "    review_processed = []\n",
    "    \n",
    "    for tkn in tokens:\n",
    "        if tkn.is_punct == False and tkn.is_stop == False:\n",
    "            review_processed.append(stemmer.stem(str(tkn)))\n",
    "\n",
    "    review_text = \" \".join(review_processed)\n",
    "    reviews_stemmer.append(review_text)"
   ]
  },
  {
   "cell_type": "code",
   "execution_count": 28,
   "id": "0ff9bdac",
   "metadata": {},
   "outputs": [
    {
     "data": {
      "text/plain": [
       "'até agora estou amando o aparelho. estou bem satisfeita, ainda mais com o ótimo custo benefício dele.comprei dia 16 e chegou dia 21, entrega extremamente rápida.'"
      ]
     },
     "execution_count": 28,
     "metadata": {},
     "output_type": "execute_result"
    }
   ],
   "source": [
    "reviews[0]"
   ]
  },
  {
   "cell_type": "code",
   "execution_count": 29,
   "id": "f20b6aab",
   "metadata": {},
   "outputs": [
    {
     "data": {
      "text/plain": [
       "'satisfeita ótimo custo benefício dele.comprei dia 16 chegou dia 21 entrega extremament rápida'"
      ]
     },
     "execution_count": 29,
     "metadata": {},
     "output_type": "execute_result"
    }
   ],
   "source": [
    "reviews_stemmer[0]"
   ]
  },
  {
   "cell_type": "markdown",
   "id": "c6b028d3",
   "metadata": {},
   "source": [
    "# Model with stemming"
   ]
  },
  {
   "cell_type": "markdown",
   "id": "db6389d5",
   "metadata": {},
   "source": [
    "## Splitting data into training and testing"
   ]
  },
  {
   "cell_type": "code",
   "execution_count": 30,
   "id": "a0bafdea",
   "metadata": {},
   "outputs": [],
   "source": [
    "X_s = vectorizer.fit_transform(reviews_stemmer).toarray()\n",
    "\n",
    "X_train, X_test, y_train, y_test = train_test_split(X_s, y, test_size=.3, random_state=42)"
   ]
  },
  {
   "cell_type": "code",
   "execution_count": 31,
   "id": "b4e6cf1e",
   "metadata": {},
   "outputs": [
    {
     "data": {
      "text/plain": [
       "4039"
      ]
     },
     "execution_count": 31,
     "metadata": {},
     "output_type": "execute_result"
    }
   ],
   "source": [
    "len(X_s[0])"
   ]
  },
  {
   "cell_type": "code",
   "execution_count": 32,
   "id": "06f2a8cb",
   "metadata": {},
   "outputs": [],
   "source": [
    "results_stemmer = metrics_model(list(range(10, 200, 20)))"
   ]
  },
  {
   "cell_type": "code",
   "execution_count": 33,
   "id": "d260f5ac",
   "metadata": {},
   "outputs": [
    {
     "data": {
      "text/html": [
       "<div>\n",
       "<style scoped>\n",
       "    .dataframe tbody tr th:only-of-type {\n",
       "        vertical-align: middle;\n",
       "    }\n",
       "\n",
       "    .dataframe tbody tr th {\n",
       "        vertical-align: top;\n",
       "    }\n",
       "\n",
       "    .dataframe thead th {\n",
       "        text-align: right;\n",
       "    }\n",
       "</style>\n",
       "<table border=\"1\" class=\"dataframe\">\n",
       "  <thead>\n",
       "    <tr style=\"text-align: right;\">\n",
       "      <th></th>\n",
       "      <th>n_estimators</th>\n",
       "      <th>f1</th>\n",
       "      <th>precision</th>\n",
       "      <th>recall</th>\n",
       "    </tr>\n",
       "  </thead>\n",
       "  <tbody>\n",
       "    <tr>\n",
       "      <th>0</th>\n",
       "      <td>10</td>\n",
       "      <td>0.901659</td>\n",
       "      <td>0.897358</td>\n",
       "      <td>0.921733</td>\n",
       "    </tr>\n",
       "    <tr>\n",
       "      <th>1</th>\n",
       "      <td>30</td>\n",
       "      <td>0.896849</td>\n",
       "      <td>0.892424</td>\n",
       "      <td>0.921034</td>\n",
       "    </tr>\n",
       "    <tr>\n",
       "      <th>2</th>\n",
       "      <td>50</td>\n",
       "      <td>0.901856</td>\n",
       "      <td>0.902231</td>\n",
       "      <td>0.924528</td>\n",
       "    </tr>\n",
       "    <tr>\n",
       "      <th>3</th>\n",
       "      <td>70</td>\n",
       "      <td>0.903674</td>\n",
       "      <td>0.905990</td>\n",
       "      <td>0.925926</td>\n",
       "    </tr>\n",
       "    <tr>\n",
       "      <th>4</th>\n",
       "      <td>90</td>\n",
       "      <td>0.906816</td>\n",
       "      <td>0.911435</td>\n",
       "      <td>0.928022</td>\n",
       "    </tr>\n",
       "    <tr>\n",
       "      <th>5</th>\n",
       "      <td>110</td>\n",
       "      <td>0.905491</td>\n",
       "      <td>0.909749</td>\n",
       "      <td>0.927324</td>\n",
       "    </tr>\n",
       "    <tr>\n",
       "      <th>6</th>\n",
       "      <td>130</td>\n",
       "      <td>0.903674</td>\n",
       "      <td>0.905990</td>\n",
       "      <td>0.925926</td>\n",
       "    </tr>\n",
       "    <tr>\n",
       "      <th>7</th>\n",
       "      <td>150</td>\n",
       "      <td>0.904152</td>\n",
       "      <td>0.907974</td>\n",
       "      <td>0.926625</td>\n",
       "    </tr>\n",
       "    <tr>\n",
       "      <th>8</th>\n",
       "      <td>170</td>\n",
       "      <td>0.902798</td>\n",
       "      <td>0.906099</td>\n",
       "      <td>0.925926</td>\n",
       "    </tr>\n",
       "    <tr>\n",
       "      <th>9</th>\n",
       "      <td>190</td>\n",
       "      <td>0.904152</td>\n",
       "      <td>0.907974</td>\n",
       "      <td>0.926625</td>\n",
       "    </tr>\n",
       "  </tbody>\n",
       "</table>\n",
       "</div>"
      ],
      "text/plain": [
       "   n_estimators        f1  precision    recall\n",
       "0            10  0.901659   0.897358  0.921733\n",
       "1            30  0.896849   0.892424  0.921034\n",
       "2            50  0.901856   0.902231  0.924528\n",
       "3            70  0.903674   0.905990  0.925926\n",
       "4            90  0.906816   0.911435  0.928022\n",
       "5           110  0.905491   0.909749  0.927324\n",
       "6           130  0.903674   0.905990  0.925926\n",
       "7           150  0.904152   0.907974  0.926625\n",
       "8           170  0.902798   0.906099  0.925926\n",
       "9           190  0.904152   0.907974  0.926625"
      ]
     },
     "execution_count": 33,
     "metadata": {},
     "output_type": "execute_result"
    }
   ],
   "source": [
    "results_stemmer"
   ]
  },
  {
   "cell_type": "code",
   "execution_count": 34,
   "id": "55bb04b0",
   "metadata": {},
   "outputs": [
    {
     "data": {
      "image/png": "[encoded data removed]",
      "text/plain": [
       "<Figure size 1152x432 with 1 Axes>"
      ]
     },
     "metadata": {
      "needs_background": "light"
     },
     "output_type": "display_data"
    }
   ],
   "source": [
    "plot_results(results_stemmer)"
   ]
  },
  {
   "cell_type": "code",
   "execution_count": 35,
   "id": "7b621d64",
   "metadata": {},
   "outputs": [
    {
     "data": {
      "text/plain": [
       "RandomForestClassifier(n_estimators=70, random_state=42)"
      ]
     },
     "execution_count": 35,
     "metadata": {},
     "output_type": "execute_result"
    }
   ],
   "source": [
    "model_stemmer = RandomForestClassifier(n_estimators=70, random_state=42)\n",
    "model_stemmer.fit(X_train, y_train)"
   ]
  },
  {
   "cell_type": "code",
   "execution_count": 36,
   "id": "5da543a6",
   "metadata": {},
   "outputs": [
    {
     "name": "stdout",
     "output_type": "stream",
     "text": [
      "              precision    recall  f1-score   support\n",
      "\n",
      "         Bad       0.60      0.14      0.22       111\n",
      "        Good       0.93      0.99      0.96      1320\n",
      "\n",
      "    accuracy                           0.93      1431\n",
      "   macro avg       0.77      0.56      0.59      1431\n",
      "weighted avg       0.91      0.93      0.90      1431\n",
      "\n"
     ]
    }
   ],
   "source": [
    "print(classification_report(y_test, model_stemmer.predict(X_test)))"
   ]
  },
  {
   "cell_type": "code",
   "execution_count": 37,
   "id": "24c24033",
   "metadata": {},
   "outputs": [
    {
     "data": {
      "text/plain": [
       "<sklearn.metrics._plot.confusion_matrix.ConfusionMatrixDisplay at 0x184299688e0>"
      ]
     },
     "execution_count": 37,
     "metadata": {},
     "output_type": "execute_result"
    },
    {
     "data": {
      "image/png": "[encoded data removed]",
      "text/plain": [
       "<Figure size 432x288 with 2 Axes>"
      ]
     },
     "metadata": {
      "needs_background": "light"
     },
     "output_type": "display_data"
    }
   ],
   "source": [
    "ConfusionMatrixDisplay.from_estimator(model_stemmer, X_test, y_test, cmap='Blues', values_format='d')"
   ]
  },
  {
   "cell_type": "markdown",
   "id": "14c5940e",
   "metadata": {},
   "source": [
    "## Busca pelos melhores parametros "
   ]
  },
  {
   "cell_type": "code",
   "execution_count": 38,
   "id": "01d6c6a6",
   "metadata": {},
   "outputs": [
    {
     "name": "stderr",
     "output_type": "stream",
     "text": [
      "Treinamento:   2%|█▏                                                                    | 1/60 [00:04<04:24,  4.48s/it]"
     ]
    },
    {
     "name": "stdout",
     "output_type": "stream",
     "text": [
      "Mean f1: 0.931\n",
      "F1-score test: 0.902\n",
      "Precision score: 0.897\n",
      "Recall test: 0.922\n",
      "Parameters:  {'n_estimators': 10, 'criterion': 'gini', 'max_features': 'sqrt'}\n",
      "Score of validation:  0.9307744870619121\n"
     ]
    },
    {
     "name": "stderr",
     "output_type": "stream",
     "text": [
      "\r",
      "Treinamento:   3%|██▎                                                                   | 2/60 [00:09<04:21,  4.51s/it]"
     ]
    },
    {
     "name": "stdout",
     "output_type": "stream",
     "text": [
      "Mean f1: 0.931\n",
      "F1-score test: 0.902\n",
      "Precision score: 0.897\n",
      "Recall test: 0.922\n",
      "Parameters:  {'n_estimators': 10, 'criterion': 'gini', 'max_features': 'auto'}\n",
      "Score of validation:  0.9307744870619121\n"
     ]
    },
    {
     "name": "stderr",
     "output_type": "stream",
     "text": [
      "\r",
      "Treinamento:   5%|███▌                                                                  | 3/60 [00:11<03:13,  3.40s/it]"
     ]
    },
    {
     "name": "stdout",
     "output_type": "stream",
     "text": [
      "Mean f1: 0.936\n",
      "F1-score test: 0.900\n",
      "Precision score: 0.907\n",
      "Recall test: 0.926\n",
      "Parameters:  {'n_estimators': 10, 'criterion': 'gini', 'max_features': 'log2'}\n",
      "Score of validation:  0.9361673050295805\n"
     ]
    },
    {
     "name": "stderr",
     "output_type": "stream",
     "text": [
      "\r",
      "Treinamento:   7%|████▋                                                                 | 4/60 [00:14<03:16,  3.50s/it]"
     ]
    },
    {
     "name": "stdout",
     "output_type": "stream",
     "text": [
      "Mean f1: 0.933\n",
      "F1-score test: 0.904\n",
      "Precision score: 0.902\n",
      "Recall test: 0.924\n",
      "Parameters:  {'n_estimators': 10, 'criterion': 'entropy', 'max_features': 'sqrt'}\n",
      "Score of validation:  0.9334690978403553\n"
     ]
    },
    {
     "name": "stderr",
     "output_type": "stream",
     "text": [
      "\r",
      "Treinamento:   8%|█████▊                                                                | 5/60 [00:18<03:15,  3.56s/it]"
     ]
    },
    {
     "name": "stdout",
     "output_type": "stream",
     "text": [
      "Mean f1: 0.933\n",
      "F1-score test: 0.904\n",
      "Precision score: 0.902\n",
      "Recall test: 0.924\n",
      "Parameters:  {'n_estimators': 10, 'criterion': 'entropy', 'max_features': 'auto'}\n",
      "Score of validation:  0.9334690978403553\n"
     ]
    },
    {
     "name": "stderr",
     "output_type": "stream",
     "text": [
      "\r",
      "Treinamento:  10%|███████                                                               | 6/60 [00:20<02:42,  3.01s/it]"
     ]
    },
    {
     "name": "stdout",
     "output_type": "stream",
     "text": [
      "Mean f1: 0.940\n",
      "F1-score test: 0.898\n",
      "Precision score: 0.900\n",
      "Recall test: 0.924\n",
      "Parameters:  {'n_estimators': 10, 'criterion': 'entropy', 'max_features': 'log2'}\n",
      "Score of validation:  0.9403616191041339\n"
     ]
    },
    {
     "name": "stderr",
     "output_type": "stream",
     "text": [
      "\r",
      "Treinamento:  12%|████████▏                                                             | 7/60 [00:32<05:16,  5.98s/it]"
     ]
    },
    {
     "name": "stdout",
     "output_type": "stream",
     "text": [
      "Mean f1: 0.935\n",
      "F1-score test: 0.897\n",
      "Precision score: 0.892\n",
      "Recall test: 0.921\n",
      "Parameters:  {'n_estimators': 30, 'criterion': 'gini', 'max_features': 'sqrt'}\n",
      "Score of validation:  0.9346738954523387\n"
     ]
    },
    {
     "name": "stderr",
     "output_type": "stream",
     "text": [
      "\r",
      "Treinamento:  13%|█████████▎                                                            | 8/60 [00:44<06:52,  7.94s/it]"
     ]
    },
    {
     "name": "stdout",
     "output_type": "stream",
     "text": [
      "Mean f1: 0.935\n",
      "F1-score test: 0.897\n",
      "Precision score: 0.892\n",
      "Recall test: 0.921\n",
      "Parameters:  {'n_estimators': 30, 'criterion': 'gini', 'max_features': 'auto'}\n",
      "Score of validation:  0.9346738954523387\n"
     ]
    },
    {
     "name": "stderr",
     "output_type": "stream",
     "text": [
      "\r",
      "Treinamento:  15%|██████████▌                                                           | 9/60 [00:49<05:55,  6.97s/it]"
     ]
    },
    {
     "name": "stdout",
     "output_type": "stream",
     "text": [
      "Mean f1: 0.939\n",
      "F1-score test: 0.896\n",
      "Precision score: 0.900\n",
      "Recall test: 0.924\n",
      "Parameters:  {'n_estimators': 30, 'criterion': 'gini', 'max_features': 'log2'}\n",
      "Score of validation:  0.9385670101238963\n"
     ]
    },
    {
     "name": "stderr",
     "output_type": "stream",
     "text": [
      "\r",
      "Treinamento:  17%|███████████▌                                                         | 10/60 [00:58<06:27,  7.76s/it]"
     ]
    },
    {
     "name": "stdout",
     "output_type": "stream",
     "text": [
      "Mean f1: 0.939\n",
      "F1-score test: 0.902\n",
      "Precision score: 0.902\n",
      "Recall test: 0.925\n",
      "Parameters:  {'n_estimators': 30, 'criterion': 'entropy', 'max_features': 'sqrt'}\n",
      "Score of validation:  0.9391676107244971\n"
     ]
    },
    {
     "name": "stderr",
     "output_type": "stream",
     "text": [
      "\r",
      "Treinamento:  18%|████████████▋                                                        | 11/60 [01:08<06:46,  8.29s/it]"
     ]
    },
    {
     "name": "stdout",
     "output_type": "stream",
     "text": [
      "Mean f1: 0.939\n",
      "F1-score test: 0.902\n",
      "Precision score: 0.902\n",
      "Recall test: 0.925\n",
      "Parameters:  {'n_estimators': 30, 'criterion': 'entropy', 'max_features': 'auto'}\n",
      "Score of validation:  0.9391676107244971\n"
     ]
    },
    {
     "name": "stderr",
     "output_type": "stream",
     "text": [
      "\r",
      "Treinamento:  20%|█████████████▊                                                       | 12/60 [01:13<05:44,  7.18s/it]"
     ]
    },
    {
     "name": "stdout",
     "output_type": "stream",
     "text": [
      "Mean f1: 0.939\n",
      "F1-score test: 0.893\n",
      "Precision score: 0.897\n",
      "Recall test: 0.923\n",
      "Parameters:  {'n_estimators': 30, 'criterion': 'entropy', 'max_features': 'log2'}\n",
      "Score of validation:  0.9391658125191059\n"
     ]
    },
    {
     "name": "stderr",
     "output_type": "stream",
     "text": [
      "\r",
      "Treinamento:  22%|██████████████▉                                                      | 13/60 [01:32<08:38, 11.03s/it]"
     ]
    },
    {
     "name": "stdout",
     "output_type": "stream",
     "text": [
      "Mean f1: 0.938\n",
      "F1-score test: 0.902\n",
      "Precision score: 0.902\n",
      "Recall test: 0.925\n",
      "Parameters:  {'n_estimators': 50, 'criterion': 'gini', 'max_features': 'sqrt'}\n",
      "Score of validation:  0.9379673086259913\n"
     ]
    },
    {
     "name": "stderr",
     "output_type": "stream",
     "text": [
      "\r",
      "Treinamento:  23%|████████████████                                                     | 14/60 [01:52<10:30, 13.71s/it]"
     ]
    },
    {
     "name": "stdout",
     "output_type": "stream",
     "text": [
      "Mean f1: 0.938\n",
      "F1-score test: 0.902\n",
      "Precision score: 0.902\n",
      "Recall test: 0.925\n",
      "Parameters:  {'n_estimators': 50, 'criterion': 'gini', 'max_features': 'auto'}\n",
      "Score of validation:  0.9379673086259913\n"
     ]
    },
    {
     "name": "stderr",
     "output_type": "stream",
     "text": [
      "\r",
      "Treinamento:  25%|█████████████████▎                                                   | 15/60 [02:00<08:54, 11.87s/it]"
     ]
    },
    {
     "name": "stdout",
     "output_type": "stream",
     "text": [
      "Mean f1: 0.939\n",
      "F1-score test: 0.895\n",
      "Precision score: 0.900\n",
      "Recall test: 0.924\n",
      "Parameters:  {'n_estimators': 50, 'criterion': 'gini', 'max_features': 'log2'}\n",
      "Score of validation:  0.9388664113215013\n"
     ]
    },
    {
     "name": "stderr",
     "output_type": "stream",
     "text": [
      "\r",
      "Treinamento:  27%|██████████████████▍                                                  | 16/60 [02:16<09:31, 12.99s/it]"
     ]
    },
    {
     "name": "stdout",
     "output_type": "stream",
     "text": [
      "Mean f1: 0.938\n",
      "F1-score test: 0.901\n",
      "Precision score: 0.904\n",
      "Recall test: 0.925\n",
      "Parameters:  {'n_estimators': 50, 'criterion': 'entropy', 'max_features': 'sqrt'}\n",
      "Score of validation:  0.9382676089262916\n"
     ]
    },
    {
     "name": "stderr",
     "output_type": "stream",
     "text": [
      "\r",
      "Treinamento:  28%|███████████████████▌                                                 | 17/60 [02:31<09:53, 13.79s/it]"
     ]
    },
    {
     "name": "stdout",
     "output_type": "stream",
     "text": [
      "Mean f1: 0.938\n",
      "F1-score test: 0.901\n",
      "Precision score: 0.904\n",
      "Recall test: 0.925\n",
      "Parameters:  {'n_estimators': 50, 'criterion': 'entropy', 'max_features': 'auto'}\n",
      "Score of validation:  0.9382676089262916\n"
     ]
    },
    {
     "name": "stderr",
     "output_type": "stream",
     "text": [
      "\r",
      "Treinamento:  30%|████████████████████▋                                                | 18/60 [02:39<08:19, 11.89s/it]"
     ]
    },
    {
     "name": "stdout",
     "output_type": "stream",
     "text": [
      "Mean f1: 0.939\n",
      "F1-score test: 0.893\n",
      "Precision score: 0.897\n",
      "Recall test: 0.923\n",
      "Parameters:  {'n_estimators': 50, 'criterion': 'entropy', 'max_features': 'log2'}\n",
      "Score of validation:  0.9391649134164105\n"
     ]
    },
    {
     "name": "stderr",
     "output_type": "stream",
     "text": [
      "\r",
      "Treinamento:  32%|█████████████████████▊                                               | 19/60 [03:06<11:22, 16.63s/it]"
     ]
    },
    {
     "name": "stdout",
     "output_type": "stream",
     "text": [
      "Mean f1: 0.939\n",
      "F1-score test: 0.904\n",
      "Precision score: 0.906\n",
      "Recall test: 0.926\n",
      "Parameters:  {'n_estimators': 70, 'criterion': 'gini', 'max_features': 'sqrt'}\n",
      "Score of validation:  0.9385670101238963\n"
     ]
    },
    {
     "name": "stderr",
     "output_type": "stream",
     "text": [
      "\r",
      "Treinamento:  33%|███████████████████████                                              | 20/60 [03:34<13:18, 19.96s/it]"
     ]
    },
    {
     "name": "stdout",
     "output_type": "stream",
     "text": [
      "Mean f1: 0.939\n",
      "F1-score test: 0.904\n",
      "Precision score: 0.906\n",
      "Recall test: 0.926\n",
      "Parameters:  {'n_estimators': 70, 'criterion': 'gini', 'max_features': 'auto'}\n",
      "Score of validation:  0.9385670101238963\n"
     ]
    },
    {
     "name": "stderr",
     "output_type": "stream",
     "text": [
      "\r",
      "Treinamento:  35%|████████████████████████▏                                            | 21/60 [03:45<11:07, 17.12s/it]"
     ]
    },
    {
     "name": "stdout",
     "output_type": "stream",
     "text": [
      "Mean f1: 0.939\n",
      "F1-score test: 0.895\n",
      "Precision score: 0.900\n",
      "Recall test: 0.924\n",
      "Parameters:  {'n_estimators': 70, 'criterion': 'gini', 'max_features': 'log2'}\n",
      "Score of validation:  0.9388655122188057\n"
     ]
    },
    {
     "name": "stderr",
     "output_type": "stream",
     "text": [
      "\r",
      "Treinamento:  37%|█████████████████████████▎                                           | 22/60 [04:06<11:40, 18.43s/it]"
     ]
    },
    {
     "name": "stdout",
     "output_type": "stream",
     "text": [
      "Mean f1: 0.939\n",
      "F1-score test: 0.903\n",
      "Precision score: 0.906\n",
      "Recall test: 0.926\n",
      "Parameters:  {'n_estimators': 70, 'criterion': 'entropy', 'max_features': 'sqrt'}\n",
      "Score of validation:  0.938567909226592\n"
     ]
    },
    {
     "name": "stderr",
     "output_type": "stream",
     "text": [
      "\r",
      "Treinamento:  38%|██████████████████████████▍                                          | 23/60 [04:28<11:55, 19.35s/it]"
     ]
    },
    {
     "name": "stdout",
     "output_type": "stream",
     "text": [
      "Mean f1: 0.939\n",
      "F1-score test: 0.903\n",
      "Precision score: 0.906\n",
      "Recall test: 0.926\n",
      "Parameters:  {'n_estimators': 70, 'criterion': 'entropy', 'max_features': 'auto'}\n",
      "Score of validation:  0.938567909226592\n"
     ]
    },
    {
     "name": "stderr",
     "output_type": "stream",
     "text": [
      "\r",
      "Treinamento:  40%|███████████████████████████▌                                         | 24/60 [04:38<09:58, 16.61s/it]"
     ]
    },
    {
     "name": "stdout",
     "output_type": "stream",
     "text": [
      "Mean f1: 0.939\n",
      "F1-score test: 0.893\n",
      "Precision score: 0.897\n",
      "Recall test: 0.923\n",
      "Parameters:  {'n_estimators': 70, 'criterion': 'entropy', 'max_features': 'log2'}\n",
      "Score of validation:  0.9394652137167109\n"
     ]
    },
    {
     "name": "stderr",
     "output_type": "stream",
     "text": [
      "\r",
      "Treinamento:  42%|████████████████████████████▊                                        | 25/60 [05:13<12:58, 22.24s/it]"
     ]
    },
    {
     "name": "stdout",
     "output_type": "stream",
     "text": [
      "Mean f1: 0.938\n",
      "F1-score test: 0.907\n",
      "Precision score: 0.911\n",
      "Recall test: 0.928\n",
      "Parameters:  {'n_estimators': 90, 'criterion': 'gini', 'max_features': 'sqrt'}\n",
      "Score of validation:  0.9382667098235962\n"
     ]
    },
    {
     "name": "stderr",
     "output_type": "stream",
     "text": [
      "\r",
      "Treinamento:  43%|█████████████████████████████▉                                       | 26/60 [05:49<14:50, 26.18s/it]"
     ]
    },
    {
     "name": "stdout",
     "output_type": "stream",
     "text": [
      "Mean f1: 0.938\n",
      "F1-score test: 0.907\n",
      "Precision score: 0.911\n",
      "Recall test: 0.928\n",
      "Parameters:  {'n_estimators': 90, 'criterion': 'gini', 'max_features': 'auto'}\n",
      "Score of validation:  0.9382667098235962\n"
     ]
    },
    {
     "name": "stderr",
     "output_type": "stream",
     "text": [
      "\r",
      "Treinamento:  45%|███████████████████████████████                                      | 27/60 [06:02<12:16, 22.32s/it]"
     ]
    },
    {
     "name": "stdout",
     "output_type": "stream",
     "text": [
      "Mean f1: 0.939\n",
      "F1-score test: 0.895\n",
      "Precision score: 0.900\n",
      "Recall test: 0.924\n",
      "Parameters:  {'n_estimators': 90, 'criterion': 'gini', 'max_features': 'log2'}\n",
      "Score of validation:  0.9385661110212009\n"
     ]
    },
    {
     "name": "stderr",
     "output_type": "stream",
     "text": [
      "\r",
      "Treinamento:  47%|████████████████████████████████▏                                    | 28/60 [06:29<12:43, 23.85s/it]"
     ]
    },
    {
     "name": "stdout",
     "output_type": "stream",
     "text": [
      "Mean f1: 0.939\n",
      "F1-score test: 0.901\n",
      "Precision score: 0.907\n",
      "Recall test: 0.926\n",
      "Parameters:  {'n_estimators': 90, 'criterion': 'entropy', 'max_features': 'sqrt'}\n",
      "Score of validation:  0.9388664113215011\n"
     ]
    },
    {
     "name": "stderr",
     "output_type": "stream",
     "text": [
      "\r",
      "Treinamento:  48%|█████████████████████████████████▎                                   | 29/60 [06:57<12:53, 24.96s/it]"
     ]
    },
    {
     "name": "stdout",
     "output_type": "stream",
     "text": [
      "Mean f1: 0.939\n",
      "F1-score test: 0.901\n",
      "Precision score: 0.907\n",
      "Recall test: 0.926\n",
      "Parameters:  {'n_estimators': 90, 'criterion': 'entropy', 'max_features': 'auto'}\n",
      "Score of validation:  0.9388664113215011\n"
     ]
    },
    {
     "name": "stderr",
     "output_type": "stream",
     "text": [
      "\r",
      "Treinamento:  50%|██████████████████████████████████▌                                  | 30/60 [07:10<10:39, 21.33s/it]"
     ]
    },
    {
     "name": "stdout",
     "output_type": "stream",
     "text": [
      "Mean f1: 0.939\n",
      "F1-score test: 0.895\n",
      "Precision score: 0.900\n",
      "Recall test: 0.924\n",
      "Parameters:  {'n_estimators': 90, 'criterion': 'entropy', 'max_features': 'log2'}\n",
      "Score of validation:  0.9388655122188055\n"
     ]
    },
    {
     "name": "stderr",
     "output_type": "stream",
     "text": [
      "\r",
      "Treinamento:  52%|███████████████████████████████████▋                                 | 31/60 [07:53<13:28, 27.87s/it]"
     ]
    },
    {
     "name": "stdout",
     "output_type": "stream",
     "text": [
      "Mean f1: 0.937\n",
      "F1-score test: 0.905\n",
      "Precision score: 0.910\n",
      "Recall test: 0.927\n",
      "Parameters:  {'n_estimators': 110, 'criterion': 'gini', 'max_features': 'sqrt'}\n",
      "Score of validation:  0.9370664077250904\n"
     ]
    },
    {
     "name": "stderr",
     "output_type": "stream",
     "text": [
      "\r",
      "Treinamento:  53%|████████████████████████████████████▊                                | 32/60 [08:36<15:08, 32.44s/it]"
     ]
    },
    {
     "name": "stdout",
     "output_type": "stream",
     "text": [
      "Mean f1: 0.937\n",
      "F1-score test: 0.905\n",
      "Precision score: 0.910\n",
      "Recall test: 0.927\n",
      "Parameters:  {'n_estimators': 110, 'criterion': 'gini', 'max_features': 'auto'}\n",
      "Score of validation:  0.9370664077250904\n"
     ]
    },
    {
     "name": "stderr",
     "output_type": "stream",
     "text": [
      "\r",
      "Treinamento:  55%|█████████████████████████████████████▉                               | 33/60 [08:52<12:23, 27.53s/it]"
     ]
    },
    {
     "name": "stdout",
     "output_type": "stream",
     "text": [
      "Mean f1: 0.939\n",
      "F1-score test: 0.895\n",
      "Precision score: 0.900\n",
      "Recall test: 0.924\n",
      "Parameters:  {'n_estimators': 110, 'criterion': 'gini', 'max_features': 'log2'}\n",
      "Score of validation:  0.9385661110212009\n"
     ]
    },
    {
     "name": "stderr",
     "output_type": "stream",
     "text": [
      "\r",
      "Treinamento:  57%|███████████████████████████████████████                              | 34/60 [09:25<12:36, 29.08s/it]"
     ]
    },
    {
     "name": "stdout",
     "output_type": "stream",
     "text": [
      "Mean f1: 0.939\n",
      "F1-score test: 0.899\n",
      "Precision score: 0.902\n",
      "Recall test: 0.925\n",
      "Parameters:  {'n_estimators': 110, 'criterion': 'entropy', 'max_features': 'sqrt'}\n",
      "Score of validation:  0.9391667116218013\n"
     ]
    },
    {
     "name": "stderr",
     "output_type": "stream",
     "text": [
      "\r",
      "Treinamento:  58%|████████████████████████████████████████▎                            | 35/60 [09:57<12:32, 30.09s/it]"
     ]
    },
    {
     "name": "stdout",
     "output_type": "stream",
     "text": [
      "Mean f1: 0.939\n",
      "F1-score test: 0.899\n",
      "Precision score: 0.902\n",
      "Recall test: 0.925\n",
      "Parameters:  {'n_estimators': 110, 'criterion': 'entropy', 'max_features': 'auto'}\n",
      "Score of validation:  0.9391667116218013\n"
     ]
    },
    {
     "name": "stderr",
     "output_type": "stream",
     "text": [
      "\r",
      "Treinamento:  60%|█████████████████████████████████████████▍                           | 36/60 [10:12<10:15, 25.64s/it]"
     ]
    },
    {
     "name": "stdout",
     "output_type": "stream",
     "text": [
      "Mean f1: 0.939\n",
      "F1-score test: 0.895\n",
      "Precision score: 0.900\n",
      "Recall test: 0.924\n",
      "Parameters:  {'n_estimators': 110, 'criterion': 'entropy', 'max_features': 'log2'}\n",
      "Score of validation:  0.9391649134164105\n"
     ]
    },
    {
     "name": "stderr",
     "output_type": "stream",
     "text": [
      "\r",
      "Treinamento:  62%|██████████████████████████████████████████▌                          | 37/60 [11:02<12:35, 32.83s/it]"
     ]
    },
    {
     "name": "stdout",
     "output_type": "stream",
     "text": [
      "Mean f1: 0.938\n",
      "F1-score test: 0.904\n",
      "Precision score: 0.906\n",
      "Recall test: 0.926\n",
      "Parameters:  {'n_estimators': 130, 'criterion': 'gini', 'max_features': 'sqrt'}\n",
      "Score of validation:  0.9382658107209003\n"
     ]
    },
    {
     "name": "stderr",
     "output_type": "stream",
     "text": [
      "\r",
      "Treinamento:  63%|███████████████████████████████████████████▋                         | 38/60 [11:52<13:54, 37.91s/it]"
     ]
    },
    {
     "name": "stdout",
     "output_type": "stream",
     "text": [
      "Mean f1: 0.938\n",
      "F1-score test: 0.904\n",
      "Precision score: 0.906\n",
      "Recall test: 0.926\n",
      "Parameters:  {'n_estimators': 130, 'criterion': 'gini', 'max_features': 'auto'}\n",
      "Score of validation:  0.9382658107209003\n"
     ]
    },
    {
     "name": "stderr",
     "output_type": "stream",
     "text": [
      "\r",
      "Treinamento:  65%|████████████████████████████████████████████▊                        | 39/60 [12:10<11:14, 32.13s/it]"
     ]
    },
    {
     "name": "stdout",
     "output_type": "stream",
     "text": [
      "Mean f1: 0.939\n",
      "F1-score test: 0.895\n",
      "Precision score: 0.900\n",
      "Recall test: 0.924\n",
      "Parameters:  {'n_estimators': 130, 'criterion': 'gini', 'max_features': 'log2'}\n",
      "Score of validation:  0.9385661110212009\n"
     ]
    },
    {
     "name": "stderr",
     "output_type": "stream",
     "text": [
      "\r",
      "Treinamento:  67%|██████████████████████████████████████████████                       | 40/60 [12:49<11:18, 33.94s/it]"
     ]
    },
    {
     "name": "stdout",
     "output_type": "stream",
     "text": [
      "Mean f1: 0.938\n",
      "F1-score test: 0.898\n",
      "Precision score: 0.902\n",
      "Recall test: 0.925\n",
      "Parameters:  {'n_estimators': 130, 'criterion': 'entropy', 'max_features': 'sqrt'}\n",
      "Score of validation:  0.938266709823596\n"
     ]
    },
    {
     "name": "stderr",
     "output_type": "stream",
     "text": [
      "\r",
      "Treinamento:  68%|███████████████████████████████████████████████▏                     | 41/60 [13:27<11:08, 35.20s/it]"
     ]
    },
    {
     "name": "stdout",
     "output_type": "stream",
     "text": [
      "Mean f1: 0.938\n",
      "F1-score test: 0.898\n",
      "Precision score: 0.902\n",
      "Recall test: 0.925\n",
      "Parameters:  {'n_estimators': 130, 'criterion': 'entropy', 'max_features': 'auto'}\n",
      "Score of validation:  0.938266709823596\n"
     ]
    },
    {
     "name": "stderr",
     "output_type": "stream",
     "text": [
      "\r",
      "Treinamento:  70%|████████████████████████████████████████████████▎                    | 42/60 [13:45<09:00, 30.05s/it]"
     ]
    },
    {
     "name": "stdout",
     "output_type": "stream",
     "text": [
      "Mean f1: 0.939\n",
      "F1-score test: 0.893\n",
      "Precision score: 0.897\n",
      "Recall test: 0.923\n",
      "Parameters:  {'n_estimators': 130, 'criterion': 'entropy', 'max_features': 'log2'}\n",
      "Score of validation:  0.9391649134164105\n"
     ]
    },
    {
     "name": "stderr",
     "output_type": "stream",
     "text": [
      "\r",
      "Treinamento:  72%|█████████████████████████████████████████████████▍                   | 43/60 [14:42<10:49, 38.21s/it]"
     ]
    },
    {
     "name": "stdout",
     "output_type": "stream",
     "text": [
      "Mean f1: 0.938\n",
      "F1-score test: 0.904\n",
      "Precision score: 0.908\n",
      "Recall test: 0.927\n",
      "Parameters:  {'n_estimators': 150, 'criterion': 'gini', 'max_features': 'sqrt'}\n",
      "Score of validation:  0.9376661092229954\n"
     ]
    },
    {
     "name": "stderr",
     "output_type": "stream",
     "text": [
      "\r",
      "Treinamento:  73%|██████████████████████████████████████████████████▌                  | 44/60 [15:39<11:42, 43.90s/it]"
     ]
    },
    {
     "name": "stdout",
     "output_type": "stream",
     "text": [
      "Mean f1: 0.938\n",
      "F1-score test: 0.904\n",
      "Precision score: 0.908\n",
      "Recall test: 0.927\n",
      "Parameters:  {'n_estimators': 150, 'criterion': 'gini', 'max_features': 'auto'}\n",
      "Score of validation:  0.9376661092229954\n"
     ]
    },
    {
     "name": "stderr",
     "output_type": "stream",
     "text": [
      "\r",
      "Treinamento:  75%|███████████████████████████████████████████████████▊                 | 45/60 [16:00<09:16, 37.12s/it]"
     ]
    },
    {
     "name": "stdout",
     "output_type": "stream",
     "text": [
      "Mean f1: 0.939\n",
      "F1-score test: 0.891\n",
      "Precision score: 0.892\n",
      "Recall test: 0.922\n",
      "Parameters:  {'n_estimators': 150, 'criterion': 'gini', 'max_features': 'log2'}\n",
      "Score of validation:  0.9385661110212009\n"
     ]
    },
    {
     "name": "stderr",
     "output_type": "stream",
     "text": [
      "\r",
      "Treinamento:  77%|████████████████████████████████████████████████████▉                | 46/60 [16:45<09:09, 39.24s/it]"
     ]
    },
    {
     "name": "stdout",
     "output_type": "stream",
     "text": [
      "Mean f1: 0.938\n",
      "F1-score test: 0.899\n",
      "Precision score: 0.905\n",
      "Recall test: 0.925\n",
      "Parameters:  {'n_estimators': 150, 'criterion': 'entropy', 'max_features': 'sqrt'}\n",
      "Score of validation:  0.9376670083256909\n"
     ]
    },
    {
     "name": "stderr",
     "output_type": "stream",
     "text": [
      "\r",
      "Treinamento:  78%|██████████████████████████████████████████████████████               | 47/60 [17:29<08:49, 40.73s/it]"
     ]
    },
    {
     "name": "stdout",
     "output_type": "stream",
     "text": [
      "Mean f1: 0.938\n",
      "F1-score test: 0.899\n",
      "Precision score: 0.905\n",
      "Recall test: 0.925\n",
      "Parameters:  {'n_estimators': 150, 'criterion': 'entropy', 'max_features': 'auto'}\n",
      "Score of validation:  0.9376670083256909\n"
     ]
    },
    {
     "name": "stderr",
     "output_type": "stream",
     "text": [
      "\r",
      "Treinamento:  80%|███████████████████████████████████████████████████████▏             | 48/60 [17:50<06:56, 34.72s/it]"
     ]
    },
    {
     "name": "stdout",
     "output_type": "stream",
     "text": [
      "Mean f1: 0.939\n",
      "F1-score test: 0.893\n",
      "Precision score: 0.897\n",
      "Recall test: 0.923\n",
      "Parameters:  {'n_estimators': 150, 'criterion': 'entropy', 'max_features': 'log2'}\n",
      "Score of validation:  0.9385661110212009\n"
     ]
    },
    {
     "name": "stderr",
     "output_type": "stream",
     "text": [
      "\r",
      "Treinamento:  82%|████████████████████████████████████████████████████████▎            | 49/60 [18:54<08:00, 43.66s/it]"
     ]
    },
    {
     "name": "stdout",
     "output_type": "stream",
     "text": [
      "Mean f1: 0.938\n",
      "F1-score test: 0.903\n",
      "Precision score: 0.906\n",
      "Recall test: 0.926\n",
      "Parameters:  {'n_estimators': 170, 'criterion': 'gini', 'max_features': 'sqrt'}\n",
      "Score of validation:  0.9376670083256909\n"
     ]
    },
    {
     "name": "stderr",
     "output_type": "stream",
     "text": [
      "\r",
      "Treinamento:  83%|█████████████████████████████████████████████████████████▌           | 50/60 [19:58<08:18, 49.89s/it]"
     ]
    },
    {
     "name": "stdout",
     "output_type": "stream",
     "text": [
      "Mean f1: 0.938\n",
      "F1-score test: 0.903\n",
      "Precision score: 0.906\n",
      "Recall test: 0.926\n",
      "Parameters:  {'n_estimators': 170, 'criterion': 'gini', 'max_features': 'auto'}\n",
      "Score of validation:  0.9376670083256909\n"
     ]
    },
    {
     "name": "stderr",
     "output_type": "stream",
     "text": [
      "\r",
      "Treinamento:  85%|██████████████████████████████████████████████████████████▋          | 51/60 [20:22<06:18, 42.11s/it]"
     ]
    },
    {
     "name": "stdout",
     "output_type": "stream",
     "text": [
      "Mean f1: 0.939\n",
      "F1-score test: 0.893\n",
      "Precision score: 0.897\n",
      "Recall test: 0.923\n",
      "Parameters:  {'n_estimators': 170, 'criterion': 'gini', 'max_features': 'log2'}\n",
      "Score of validation:  0.9385661110212009\n"
     ]
    },
    {
     "name": "stderr",
     "output_type": "stream",
     "text": [
      "\r",
      "Treinamento:  87%|███████████████████████████████████████████████████████████▊         | 52/60 [21:12<05:55, 44.47s/it]"
     ]
    },
    {
     "name": "stdout",
     "output_type": "stream",
     "text": [
      "Mean f1: 0.938\n",
      "F1-score test: 0.899\n",
      "Precision score: 0.905\n",
      "Recall test: 0.925\n",
      "Parameters:  {'n_estimators': 170, 'criterion': 'entropy', 'max_features': 'sqrt'}\n",
      "Score of validation:  0.9379664095232958\n"
     ]
    },
    {
     "name": "stderr",
     "output_type": "stream",
     "text": [
      "\r",
      "Treinamento:  88%|████████████████████████████████████████████████████████████▉        | 53/60 [22:02<05:22, 46.05s/it]"
     ]
    },
    {
     "name": "stdout",
     "output_type": "stream",
     "text": [
      "Mean f1: 0.938\n",
      "F1-score test: 0.899\n",
      "Precision score: 0.905\n",
      "Recall test: 0.925\n",
      "Parameters:  {'n_estimators': 170, 'criterion': 'entropy', 'max_features': 'auto'}\n",
      "Score of validation:  0.9379664095232958\n"
     ]
    },
    {
     "name": "stderr",
     "output_type": "stream",
     "text": [
      "\r",
      "Treinamento:  90%|██████████████████████████████████████████████████████████████       | 54/60 [22:26<03:55, 39.30s/it]"
     ]
    },
    {
     "name": "stdout",
     "output_type": "stream",
     "text": [
      "Mean f1: 0.939\n",
      "F1-score test: 0.893\n",
      "Precision score: 0.897\n",
      "Recall test: 0.923\n",
      "Parameters:  {'n_estimators': 170, 'criterion': 'entropy', 'max_features': 'log2'}\n",
      "Score of validation:  0.9385661110212009\n"
     ]
    },
    {
     "name": "stderr",
     "output_type": "stream",
     "text": [
      "\r",
      "Treinamento:  92%|███████████████████████████████████████████████████████████████▎     | 55/60 [23:38<04:06, 49.22s/it]"
     ]
    },
    {
     "name": "stdout",
     "output_type": "stream",
     "text": [
      "Mean f1: 0.937\n",
      "F1-score test: 0.904\n",
      "Precision score: 0.908\n",
      "Recall test: 0.927\n",
      "Parameters:  {'n_estimators': 190, 'criterion': 'gini', 'max_features': 'sqrt'}\n",
      "Score of validation:  0.9373676071280862\n"
     ]
    },
    {
     "name": "stderr",
     "output_type": "stream",
     "text": [
      "\r",
      "Treinamento:  93%|████████████████████████████████████████████████████████████████▍    | 56/60 [24:51<03:44, 56.25s/it]"
     ]
    },
    {
     "name": "stdout",
     "output_type": "stream",
     "text": [
      "Mean f1: 0.937\n",
      "F1-score test: 0.904\n",
      "Precision score: 0.908\n",
      "Recall test: 0.927\n",
      "Parameters:  {'n_estimators': 190, 'criterion': 'gini', 'max_features': 'auto'}\n",
      "Score of validation:  0.9373676071280862\n"
     ]
    },
    {
     "name": "stderr",
     "output_type": "stream",
     "text": [
      "\r",
      "Treinamento:  95%|█████████████████████████████████████████████████████████████████▌   | 57/60 [25:18<02:22, 47.44s/it]"
     ]
    },
    {
     "name": "stdout",
     "output_type": "stream",
     "text": [
      "Mean f1: 0.938\n",
      "F1-score test: 0.893\n",
      "Precision score: 0.897\n",
      "Recall test: 0.923\n",
      "Parameters:  {'n_estimators': 190, 'criterion': 'gini', 'max_features': 'log2'}\n",
      "Score of validation:  0.9382667098235962\n"
     ]
    },
    {
     "name": "stderr",
     "output_type": "stream",
     "text": [
      "\r",
      "Treinamento:  97%|██████████████████████████████████████████████████████████████████▋  | 58/60 [26:14<01:39, 50.00s/it]"
     ]
    },
    {
     "name": "stdout",
     "output_type": "stream",
     "text": [
      "Mean f1: 0.939\n",
      "F1-score test: 0.900\n",
      "Precision score: 0.907\n",
      "Recall test: 0.926\n",
      "Parameters:  {'n_estimators': 190, 'criterion': 'entropy', 'max_features': 'sqrt'}\n",
      "Score of validation:  0.9388664113215011\n"
     ]
    },
    {
     "name": "stderr",
     "output_type": "stream",
     "text": [
      "\r",
      "Treinamento:  98%|███████████████████████████████████████████████████████████████████▊ | 59/60 [27:10<00:51, 51.77s/it]"
     ]
    },
    {
     "name": "stdout",
     "output_type": "stream",
     "text": [
      "Mean f1: 0.939\n",
      "F1-score test: 0.900\n",
      "Precision score: 0.907\n",
      "Recall test: 0.926\n",
      "Parameters:  {'n_estimators': 190, 'criterion': 'entropy', 'max_features': 'auto'}\n",
      "Score of validation:  0.9388664113215011\n"
     ]
    },
    {
     "name": "stderr",
     "output_type": "stream",
     "text": [
      "Treinamento: 100%|█████████████████████████████████████████████████████████████████████| 60/60 [27:36<00:00, 27.60s/it]"
     ]
    },
    {
     "name": "stdout",
     "output_type": "stream",
     "text": [
      "Mean f1: 0.939\n",
      "F1-score test: 0.893\n",
      "Precision score: 0.897\n",
      "Recall test: 0.923\n",
      "Parameters:  {'n_estimators': 190, 'criterion': 'entropy', 'max_features': 'log2'}\n",
      "Score of validation:  0.9385670101238963\n",
      "------------------------------\n",
      "Best parameters:  {'n_estimators': 90, 'criterion': 'gini', 'max_features': 'sqrt'}\n",
      "Best f1-score score:  0.9068161196882063\n",
      "Best precision score:  0.9114351892502701\n",
      "Best recall score:  0.9280223619846262\n"
     ]
    },
    {
     "name": "stderr",
     "output_type": "stream",
     "text": [
      "\n"
     ]
    }
   ],
   "source": [
    "best_params, results = search_cross_valid(search_space, X_train, y_train, X_test, y_test)"
   ]
  },
  {
   "cell_type": "code",
   "execution_count": 39,
   "id": "117c9370",
   "metadata": {},
   "outputs": [
    {
     "data": {
      "text/html": [
       "<div>\n",
       "<style scoped>\n",
       "    .dataframe tbody tr th:only-of-type {\n",
       "        vertical-align: middle;\n",
       "    }\n",
       "\n",
       "    .dataframe tbody tr th {\n",
       "        vertical-align: top;\n",
       "    }\n",
       "\n",
       "    .dataframe thead th {\n",
       "        text-align: right;\n",
       "    }\n",
       "</style>\n",
       "<table border=\"1\" class=\"dataframe\">\n",
       "  <thead>\n",
       "    <tr style=\"text-align: right;\">\n",
       "      <th></th>\n",
       "      <th>model</th>\n",
       "      <th>parameters</th>\n",
       "      <th>f1</th>\n",
       "      <th>precision</th>\n",
       "      <th>recall</th>\n",
       "    </tr>\n",
       "  </thead>\n",
       "  <tbody>\n",
       "    <tr>\n",
       "      <th>0</th>\n",
       "      <td>Random Forest</td>\n",
       "      <td>{'n_estimators': 10, 'criterion': 'gini', 'max...</td>\n",
       "      <td>0.901659</td>\n",
       "      <td>0.897358</td>\n",
       "      <td>0.921733</td>\n",
       "    </tr>\n",
       "    <tr>\n",
       "      <th>1</th>\n",
       "      <td>Random Forest</td>\n",
       "      <td>{'n_estimators': 10, 'criterion': 'gini', 'max...</td>\n",
       "      <td>0.901659</td>\n",
       "      <td>0.897358</td>\n",
       "      <td>0.921733</td>\n",
       "    </tr>\n",
       "    <tr>\n",
       "      <th>2</th>\n",
       "      <td>Random Forest</td>\n",
       "      <td>{'n_estimators': 10, 'criterion': 'gini', 'max...</td>\n",
       "      <td>0.900000</td>\n",
       "      <td>0.907387</td>\n",
       "      <td>0.925926</td>\n",
       "    </tr>\n",
       "    <tr>\n",
       "      <th>3</th>\n",
       "      <td>Random Forest</td>\n",
       "      <td>{'n_estimators': 10, 'criterion': 'entropy', '...</td>\n",
       "      <td>0.903896</td>\n",
       "      <td>0.901661</td>\n",
       "      <td>0.923829</td>\n",
       "    </tr>\n",
       "    <tr>\n",
       "      <th>4</th>\n",
       "      <td>Random Forest</td>\n",
       "      <td>{'n_estimators': 10, 'criterion': 'entropy', '...</td>\n",
       "      <td>0.903896</td>\n",
       "      <td>0.901661</td>\n",
       "      <td>0.923829</td>\n",
       "    </tr>\n",
       "    <tr>\n",
       "      <th>5</th>\n",
       "      <td>Random Forest</td>\n",
       "      <td>{'n_estimators': 10, 'criterion': 'entropy', '...</td>\n",
       "      <td>0.897669</td>\n",
       "      <td>0.899591</td>\n",
       "      <td>0.923829</td>\n",
       "    </tr>\n",
       "    <tr>\n",
       "      <th>6</th>\n",
       "      <td>Random Forest</td>\n",
       "      <td>{'n_estimators': 30, 'criterion': 'gini', 'max...</td>\n",
       "      <td>0.896849</td>\n",
       "      <td>0.892424</td>\n",
       "      <td>0.921034</td>\n",
       "    </tr>\n",
       "    <tr>\n",
       "      <th>7</th>\n",
       "      <td>Random Forest</td>\n",
       "      <td>{'n_estimators': 30, 'criterion': 'gini', 'max...</td>\n",
       "      <td>0.896849</td>\n",
       "      <td>0.892424</td>\n",
       "      <td>0.921034</td>\n",
       "    </tr>\n",
       "    <tr>\n",
       "      <th>8</th>\n",
       "      <td>Random Forest</td>\n",
       "      <td>{'n_estimators': 30, 'criterion': 'gini', 'max...</td>\n",
       "      <td>0.895625</td>\n",
       "      <td>0.899706</td>\n",
       "      <td>0.923829</td>\n",
       "    </tr>\n",
       "    <tr>\n",
       "      <th>9</th>\n",
       "      <td>Random Forest</td>\n",
       "      <td>{'n_estimators': 30, 'criterion': 'entropy', '...</td>\n",
       "      <td>0.901856</td>\n",
       "      <td>0.902231</td>\n",
       "      <td>0.924528</td>\n",
       "    </tr>\n",
       "    <tr>\n",
       "      <th>10</th>\n",
       "      <td>Random Forest</td>\n",
       "      <td>{'n_estimators': 30, 'criterion': 'entropy', '...</td>\n",
       "      <td>0.901856</td>\n",
       "      <td>0.902231</td>\n",
       "      <td>0.924528</td>\n",
       "    </tr>\n",
       "    <tr>\n",
       "      <th>11</th>\n",
       "      <td>Random Forest</td>\n",
       "      <td>{'n_estimators': 30, 'criterion': 'entropy', '...</td>\n",
       "      <td>0.893030</td>\n",
       "      <td>0.896534</td>\n",
       "      <td>0.923131</td>\n",
       "    </tr>\n",
       "    <tr>\n",
       "      <th>12</th>\n",
       "      <td>Random Forest</td>\n",
       "      <td>{'n_estimators': 50, 'criterion': 'gini', 'max...</td>\n",
       "      <td>0.901856</td>\n",
       "      <td>0.902231</td>\n",
       "      <td>0.924528</td>\n",
       "    </tr>\n",
       "    <tr>\n",
       "      <th>13</th>\n",
       "      <td>Random Forest</td>\n",
       "      <td>{'n_estimators': 50, 'criterion': 'gini', 'max...</td>\n",
       "      <td>0.901856</td>\n",
       "      <td>0.902231</td>\n",
       "      <td>0.924528</td>\n",
       "    </tr>\n",
       "    <tr>\n",
       "      <th>14</th>\n",
       "      <td>Random Forest</td>\n",
       "      <td>{'n_estimators': 50, 'criterion': 'gini', 'max...</td>\n",
       "      <td>0.894552</td>\n",
       "      <td>0.900074</td>\n",
       "      <td>0.923829</td>\n",
       "    </tr>\n",
       "    <tr>\n",
       "      <th>15</th>\n",
       "      <td>Random Forest</td>\n",
       "      <td>{'n_estimators': 50, 'criterion': 'entropy', '...</td>\n",
       "      <td>0.901428</td>\n",
       "      <td>0.904110</td>\n",
       "      <td>0.925227</td>\n",
       "    </tr>\n",
       "    <tr>\n",
       "      <th>16</th>\n",
       "      <td>Random Forest</td>\n",
       "      <td>{'n_estimators': 50, 'criterion': 'entropy', '...</td>\n",
       "      <td>0.901428</td>\n",
       "      <td>0.904110</td>\n",
       "      <td>0.925227</td>\n",
       "    </tr>\n",
       "    <tr>\n",
       "      <th>17</th>\n",
       "      <td>Random Forest</td>\n",
       "      <td>{'n_estimators': 50, 'criterion': 'entropy', '...</td>\n",
       "      <td>0.893030</td>\n",
       "      <td>0.896534</td>\n",
       "      <td>0.923131</td>\n",
       "    </tr>\n",
       "    <tr>\n",
       "      <th>18</th>\n",
       "      <td>Random Forest</td>\n",
       "      <td>{'n_estimators': 70, 'criterion': 'gini', 'max...</td>\n",
       "      <td>0.903674</td>\n",
       "      <td>0.905990</td>\n",
       "      <td>0.925926</td>\n",
       "    </tr>\n",
       "    <tr>\n",
       "      <th>19</th>\n",
       "      <td>Random Forest</td>\n",
       "      <td>{'n_estimators': 70, 'criterion': 'gini', 'max...</td>\n",
       "      <td>0.903674</td>\n",
       "      <td>0.905990</td>\n",
       "      <td>0.925926</td>\n",
       "    </tr>\n",
       "    <tr>\n",
       "      <th>20</th>\n",
       "      <td>Random Forest</td>\n",
       "      <td>{'n_estimators': 70, 'criterion': 'gini', 'max...</td>\n",
       "      <td>0.894552</td>\n",
       "      <td>0.900074</td>\n",
       "      <td>0.923829</td>\n",
       "    </tr>\n",
       "    <tr>\n",
       "      <th>21</th>\n",
       "      <td>Random Forest</td>\n",
       "      <td>{'n_estimators': 70, 'criterion': 'entropy', '...</td>\n",
       "      <td>0.902798</td>\n",
       "      <td>0.906099</td>\n",
       "      <td>0.925926</td>\n",
       "    </tr>\n",
       "    <tr>\n",
       "      <th>22</th>\n",
       "      <td>Random Forest</td>\n",
       "      <td>{'n_estimators': 70, 'criterion': 'entropy', '...</td>\n",
       "      <td>0.902798</td>\n",
       "      <td>0.906099</td>\n",
       "      <td>0.925926</td>\n",
       "    </tr>\n",
       "    <tr>\n",
       "      <th>23</th>\n",
       "      <td>Random Forest</td>\n",
       "      <td>{'n_estimators': 70, 'criterion': 'entropy', '...</td>\n",
       "      <td>0.893030</td>\n",
       "      <td>0.896534</td>\n",
       "      <td>0.923131</td>\n",
       "    </tr>\n",
       "    <tr>\n",
       "      <th>24</th>\n",
       "      <td>Random Forest</td>\n",
       "      <td>{'n_estimators': 90, 'criterion': 'gini', 'max...</td>\n",
       "      <td>0.906816</td>\n",
       "      <td>0.911435</td>\n",
       "      <td>0.928022</td>\n",
       "    </tr>\n",
       "    <tr>\n",
       "      <th>25</th>\n",
       "      <td>Random Forest</td>\n",
       "      <td>{'n_estimators': 90, 'criterion': 'gini', 'max...</td>\n",
       "      <td>0.906816</td>\n",
       "      <td>0.911435</td>\n",
       "      <td>0.928022</td>\n",
       "    </tr>\n",
       "    <tr>\n",
       "      <th>26</th>\n",
       "      <td>Random Forest</td>\n",
       "      <td>{'n_estimators': 90, 'criterion': 'gini', 'max...</td>\n",
       "      <td>0.894552</td>\n",
       "      <td>0.900074</td>\n",
       "      <td>0.923829</td>\n",
       "    </tr>\n",
       "    <tr>\n",
       "      <th>27</th>\n",
       "      <td>Random Forest</td>\n",
       "      <td>{'n_estimators': 90, 'criterion': 'entropy', '...</td>\n",
       "      <td>0.900962</td>\n",
       "      <td>0.906748</td>\n",
       "      <td>0.925926</td>\n",
       "    </tr>\n",
       "    <tr>\n",
       "      <th>28</th>\n",
       "      <td>Random Forest</td>\n",
       "      <td>{'n_estimators': 90, 'criterion': 'entropy', '...</td>\n",
       "      <td>0.900962</td>\n",
       "      <td>0.906748</td>\n",
       "      <td>0.925926</td>\n",
       "    </tr>\n",
       "    <tr>\n",
       "      <th>29</th>\n",
       "      <td>Random Forest</td>\n",
       "      <td>{'n_estimators': 90, 'criterion': 'entropy', '...</td>\n",
       "      <td>0.894552</td>\n",
       "      <td>0.900074</td>\n",
       "      <td>0.923829</td>\n",
       "    </tr>\n",
       "    <tr>\n",
       "      <th>30</th>\n",
       "      <td>Random Forest</td>\n",
       "      <td>{'n_estimators': 110, 'criterion': 'gini', 'ma...</td>\n",
       "      <td>0.905491</td>\n",
       "      <td>0.909749</td>\n",
       "      <td>0.927324</td>\n",
       "    </tr>\n",
       "    <tr>\n",
       "      <th>31</th>\n",
       "      <td>Random Forest</td>\n",
       "      <td>{'n_estimators': 110, 'criterion': 'gini', 'ma...</td>\n",
       "      <td>0.905491</td>\n",
       "      <td>0.909749</td>\n",
       "      <td>0.927324</td>\n",
       "    </tr>\n",
       "    <tr>\n",
       "      <th>32</th>\n",
       "      <td>Random Forest</td>\n",
       "      <td>{'n_estimators': 110, 'criterion': 'gini', 'ma...</td>\n",
       "      <td>0.894552</td>\n",
       "      <td>0.900074</td>\n",
       "      <td>0.923829</td>\n",
       "    </tr>\n",
       "    <tr>\n",
       "      <th>33</th>\n",
       "      <td>Random Forest</td>\n",
       "      <td>{'n_estimators': 110, 'criterion': 'entropy', ...</td>\n",
       "      <td>0.899094</td>\n",
       "      <td>0.902012</td>\n",
       "      <td>0.924528</td>\n",
       "    </tr>\n",
       "    <tr>\n",
       "      <th>34</th>\n",
       "      <td>Random Forest</td>\n",
       "      <td>{'n_estimators': 110, 'criterion': 'entropy', ...</td>\n",
       "      <td>0.899094</td>\n",
       "      <td>0.902012</td>\n",
       "      <td>0.924528</td>\n",
       "    </tr>\n",
       "    <tr>\n",
       "      <th>35</th>\n",
       "      <td>Random Forest</td>\n",
       "      <td>{'n_estimators': 110, 'criterion': 'entropy', ...</td>\n",
       "      <td>0.894552</td>\n",
       "      <td>0.900074</td>\n",
       "      <td>0.923829</td>\n",
       "    </tr>\n",
       "    <tr>\n",
       "      <th>36</th>\n",
       "      <td>Random Forest</td>\n",
       "      <td>{'n_estimators': 130, 'criterion': 'gini', 'ma...</td>\n",
       "      <td>0.903674</td>\n",
       "      <td>0.905990</td>\n",
       "      <td>0.925926</td>\n",
       "    </tr>\n",
       "    <tr>\n",
       "      <th>37</th>\n",
       "      <td>Random Forest</td>\n",
       "      <td>{'n_estimators': 130, 'criterion': 'gini', 'ma...</td>\n",
       "      <td>0.903674</td>\n",
       "      <td>0.905990</td>\n",
       "      <td>0.925926</td>\n",
       "    </tr>\n",
       "    <tr>\n",
       "      <th>38</th>\n",
       "      <td>Random Forest</td>\n",
       "      <td>{'n_estimators': 130, 'criterion': 'gini', 'ma...</td>\n",
       "      <td>0.894552</td>\n",
       "      <td>0.900074</td>\n",
       "      <td>0.923829</td>\n",
       "    </tr>\n",
       "    <tr>\n",
       "      <th>39</th>\n",
       "      <td>Random Forest</td>\n",
       "      <td>{'n_estimators': 130, 'criterion': 'entropy', ...</td>\n",
       "      <td>0.898113</td>\n",
       "      <td>0.902172</td>\n",
       "      <td>0.924528</td>\n",
       "    </tr>\n",
       "    <tr>\n",
       "      <th>40</th>\n",
       "      <td>Random Forest</td>\n",
       "      <td>{'n_estimators': 130, 'criterion': 'entropy', ...</td>\n",
       "      <td>0.898113</td>\n",
       "      <td>0.902172</td>\n",
       "      <td>0.924528</td>\n",
       "    </tr>\n",
       "    <tr>\n",
       "      <th>41</th>\n",
       "      <td>Random Forest</td>\n",
       "      <td>{'n_estimators': 130, 'criterion': 'entropy', ...</td>\n",
       "      <td>0.893030</td>\n",
       "      <td>0.896534</td>\n",
       "      <td>0.923131</td>\n",
       "    </tr>\n",
       "    <tr>\n",
       "      <th>42</th>\n",
       "      <td>Random Forest</td>\n",
       "      <td>{'n_estimators': 150, 'criterion': 'gini', 'ma...</td>\n",
       "      <td>0.904152</td>\n",
       "      <td>0.907974</td>\n",
       "      <td>0.926625</td>\n",
       "    </tr>\n",
       "    <tr>\n",
       "      <th>43</th>\n",
       "      <td>Random Forest</td>\n",
       "      <td>{'n_estimators': 150, 'criterion': 'gini', 'ma...</td>\n",
       "      <td>0.904152</td>\n",
       "      <td>0.907974</td>\n",
       "      <td>0.926625</td>\n",
       "    </tr>\n",
       "    <tr>\n",
       "      <th>44</th>\n",
       "      <td>Random Forest</td>\n",
       "      <td>{'n_estimators': 150, 'criterion': 'gini', 'ma...</td>\n",
       "      <td>0.891487</td>\n",
       "      <td>0.892407</td>\n",
       "      <td>0.922432</td>\n",
       "    </tr>\n",
       "    <tr>\n",
       "      <th>45</th>\n",
       "      <td>Random Forest</td>\n",
       "      <td>{'n_estimators': 150, 'criterion': 'entropy', ...</td>\n",
       "      <td>0.898559</td>\n",
       "      <td>0.905071</td>\n",
       "      <td>0.925227</td>\n",
       "    </tr>\n",
       "    <tr>\n",
       "      <th>46</th>\n",
       "      <td>Random Forest</td>\n",
       "      <td>{'n_estimators': 150, 'criterion': 'entropy', ...</td>\n",
       "      <td>0.898559</td>\n",
       "      <td>0.905071</td>\n",
       "      <td>0.925227</td>\n",
       "    </tr>\n",
       "    <tr>\n",
       "      <th>47</th>\n",
       "      <td>Random Forest</td>\n",
       "      <td>{'n_estimators': 150, 'criterion': 'entropy', ...</td>\n",
       "      <td>0.893030</td>\n",
       "      <td>0.896534</td>\n",
       "      <td>0.923131</td>\n",
       "    </tr>\n",
       "    <tr>\n",
       "      <th>48</th>\n",
       "      <td>Random Forest</td>\n",
       "      <td>{'n_estimators': 170, 'criterion': 'gini', 'ma...</td>\n",
       "      <td>0.902798</td>\n",
       "      <td>0.906099</td>\n",
       "      <td>0.925926</td>\n",
       "    </tr>\n",
       "    <tr>\n",
       "      <th>49</th>\n",
       "      <td>Random Forest</td>\n",
       "      <td>{'n_estimators': 170, 'criterion': 'gini', 'ma...</td>\n",
       "      <td>0.902798</td>\n",
       "      <td>0.906099</td>\n",
       "      <td>0.925926</td>\n",
       "    </tr>\n",
       "    <tr>\n",
       "      <th>50</th>\n",
       "      <td>Random Forest</td>\n",
       "      <td>{'n_estimators': 170, 'criterion': 'gini', 'ma...</td>\n",
       "      <td>0.893030</td>\n",
       "      <td>0.896534</td>\n",
       "      <td>0.923131</td>\n",
       "    </tr>\n",
       "    <tr>\n",
       "      <th>51</th>\n",
       "      <td>Random Forest</td>\n",
       "      <td>{'n_estimators': 170, 'criterion': 'entropy', ...</td>\n",
       "      <td>0.898559</td>\n",
       "      <td>0.905071</td>\n",
       "      <td>0.925227</td>\n",
       "    </tr>\n",
       "    <tr>\n",
       "      <th>52</th>\n",
       "      <td>Random Forest</td>\n",
       "      <td>{'n_estimators': 170, 'criterion': 'entropy', ...</td>\n",
       "      <td>0.898559</td>\n",
       "      <td>0.905071</td>\n",
       "      <td>0.925227</td>\n",
       "    </tr>\n",
       "    <tr>\n",
       "      <th>53</th>\n",
       "      <td>Random Forest</td>\n",
       "      <td>{'n_estimators': 170, 'criterion': 'entropy', ...</td>\n",
       "      <td>0.893030</td>\n",
       "      <td>0.896534</td>\n",
       "      <td>0.923131</td>\n",
       "    </tr>\n",
       "    <tr>\n",
       "      <th>54</th>\n",
       "      <td>Random Forest</td>\n",
       "      <td>{'n_estimators': 190, 'criterion': 'gini', 'ma...</td>\n",
       "      <td>0.904152</td>\n",
       "      <td>0.907974</td>\n",
       "      <td>0.926625</td>\n",
       "    </tr>\n",
       "    <tr>\n",
       "      <th>55</th>\n",
       "      <td>Random Forest</td>\n",
       "      <td>{'n_estimators': 190, 'criterion': 'gini', 'ma...</td>\n",
       "      <td>0.904152</td>\n",
       "      <td>0.907974</td>\n",
       "      <td>0.926625</td>\n",
       "    </tr>\n",
       "    <tr>\n",
       "      <th>56</th>\n",
       "      <td>Random Forest</td>\n",
       "      <td>{'n_estimators': 190, 'criterion': 'gini', 'ma...</td>\n",
       "      <td>0.893030</td>\n",
       "      <td>0.896534</td>\n",
       "      <td>0.923131</td>\n",
       "    </tr>\n",
       "    <tr>\n",
       "      <th>57</th>\n",
       "      <td>Random Forest</td>\n",
       "      <td>{'n_estimators': 190, 'criterion': 'entropy', ...</td>\n",
       "      <td>0.900000</td>\n",
       "      <td>0.907387</td>\n",
       "      <td>0.925926</td>\n",
       "    </tr>\n",
       "    <tr>\n",
       "      <th>58</th>\n",
       "      <td>Random Forest</td>\n",
       "      <td>{'n_estimators': 190, 'criterion': 'entropy', ...</td>\n",
       "      <td>0.900000</td>\n",
       "      <td>0.907387</td>\n",
       "      <td>0.925926</td>\n",
       "    </tr>\n",
       "    <tr>\n",
       "      <th>59</th>\n",
       "      <td>Random Forest</td>\n",
       "      <td>{'n_estimators': 190, 'criterion': 'entropy', ...</td>\n",
       "      <td>0.893030</td>\n",
       "      <td>0.896534</td>\n",
       "      <td>0.923131</td>\n",
       "    </tr>\n",
       "  </tbody>\n",
       "</table>\n",
       "</div>"
      ],
      "text/plain": [
       "            model                                         parameters  \\\n",
       "0   Random Forest  {'n_estimators': 10, 'criterion': 'gini', 'max...   \n",
       "1   Random Forest  {'n_estimators': 10, 'criterion': 'gini', 'max...   \n",
       "2   Random Forest  {'n_estimators': 10, 'criterion': 'gini', 'max...   \n",
       "3   Random Forest  {'n_estimators': 10, 'criterion': 'entropy', '...   \n",
       "4   Random Forest  {'n_estimators': 10, 'criterion': 'entropy', '...   \n",
       "5   Random Forest  {'n_estimators': 10, 'criterion': 'entropy', '...   \n",
       "6   Random Forest  {'n_estimators': 30, 'criterion': 'gini', 'max...   \n",
       "7   Random Forest  {'n_estimators': 30, 'criterion': 'gini', 'max...   \n",
       "8   Random Forest  {'n_estimators': 30, 'criterion': 'gini', 'max...   \n",
       "9   Random Forest  {'n_estimators': 30, 'criterion': 'entropy', '...   \n",
       "10  Random Forest  {'n_estimators': 30, 'criterion': 'entropy', '...   \n",
       "11  Random Forest  {'n_estimators': 30, 'criterion': 'entropy', '...   \n",
       "12  Random Forest  {'n_estimators': 50, 'criterion': 'gini', 'max...   \n",
       "13  Random Forest  {'n_estimators': 50, 'criterion': 'gini', 'max...   \n",
       "14  Random Forest  {'n_estimators': 50, 'criterion': 'gini', 'max...   \n",
       "15  Random Forest  {'n_estimators': 50, 'criterion': 'entropy', '...   \n",
       "16  Random Forest  {'n_estimators': 50, 'criterion': 'entropy', '...   \n",
       "17  Random Forest  {'n_estimators': 50, 'criterion': 'entropy', '...   \n",
       "18  Random Forest  {'n_estimators': 70, 'criterion': 'gini', 'max...   \n",
       "19  Random Forest  {'n_estimators': 70, 'criterion': 'gini', 'max...   \n",
       "20  Random Forest  {'n_estimators': 70, 'criterion': 'gini', 'max...   \n",
       "21  Random Forest  {'n_estimators': 70, 'criterion': 'entropy', '...   \n",
       "22  Random Forest  {'n_estimators': 70, 'criterion': 'entropy', '...   \n",
       "23  Random Forest  {'n_estimators': 70, 'criterion': 'entropy', '...   \n",
       "24  Random Forest  {'n_estimators': 90, 'criterion': 'gini', 'max...   \n",
       "25  Random Forest  {'n_estimators': 90, 'criterion': 'gini', 'max...   \n",
       "26  Random Forest  {'n_estimators': 90, 'criterion': 'gini', 'max...   \n",
       "27  Random Forest  {'n_estimators': 90, 'criterion': 'entropy', '...   \n",
       "28  Random Forest  {'n_estimators': 90, 'criterion': 'entropy', '...   \n",
       "29  Random Forest  {'n_estimators': 90, 'criterion': 'entropy', '...   \n",
       "30  Random Forest  {'n_estimators': 110, 'criterion': 'gini', 'ma...   \n",
       "31  Random Forest  {'n_estimators': 110, 'criterion': 'gini', 'ma...   \n",
       "32  Random Forest  {'n_estimators': 110, 'criterion': 'gini', 'ma...   \n",
       "33  Random Forest  {'n_estimators': 110, 'criterion': 'entropy', ...   \n",
       "34  Random Forest  {'n_estimators': 110, 'criterion': 'entropy', ...   \n",
       "35  Random Forest  {'n_estimators': 110, 'criterion': 'entropy', ...   \n",
       "36  Random Forest  {'n_estimators': 130, 'criterion': 'gini', 'ma...   \n",
       "37  Random Forest  {'n_estimators': 130, 'criterion': 'gini', 'ma...   \n",
       "38  Random Forest  {'n_estimators': 130, 'criterion': 'gini', 'ma...   \n",
       "39  Random Forest  {'n_estimators': 130, 'criterion': 'entropy', ...   \n",
       "40  Random Forest  {'n_estimators': 130, 'criterion': 'entropy', ...   \n",
       "41  Random Forest  {'n_estimators': 130, 'criterion': 'entropy', ...   \n",
       "42  Random Forest  {'n_estimators': 150, 'criterion': 'gini', 'ma...   \n",
       "43  Random Forest  {'n_estimators': 150, 'criterion': 'gini', 'ma...   \n",
       "44  Random Forest  {'n_estimators': 150, 'criterion': 'gini', 'ma...   \n",
       "45  Random Forest  {'n_estimators': 150, 'criterion': 'entropy', ...   \n",
       "46  Random Forest  {'n_estimators': 150, 'criterion': 'entropy', ...   \n",
       "47  Random Forest  {'n_estimators': 150, 'criterion': 'entropy', ...   \n",
       "48  Random Forest  {'n_estimators': 170, 'criterion': 'gini', 'ma...   \n",
       "49  Random Forest  {'n_estimators': 170, 'criterion': 'gini', 'ma...   \n",
       "50  Random Forest  {'n_estimators': 170, 'criterion': 'gini', 'ma...   \n",
       "51  Random Forest  {'n_estimators': 170, 'criterion': 'entropy', ...   \n",
       "52  Random Forest  {'n_estimators': 170, 'criterion': 'entropy', ...   \n",
       "53  Random Forest  {'n_estimators': 170, 'criterion': 'entropy', ...   \n",
       "54  Random Forest  {'n_estimators': 190, 'criterion': 'gini', 'ma...   \n",
       "55  Random Forest  {'n_estimators': 190, 'criterion': 'gini', 'ma...   \n",
       "56  Random Forest  {'n_estimators': 190, 'criterion': 'gini', 'ma...   \n",
       "57  Random Forest  {'n_estimators': 190, 'criterion': 'entropy', ...   \n",
       "58  Random Forest  {'n_estimators': 190, 'criterion': 'entropy', ...   \n",
       "59  Random Forest  {'n_estimators': 190, 'criterion': 'entropy', ...   \n",
       "\n",
       "          f1  precision    recall  \n",
       "0   0.901659   0.897358  0.921733  \n",
       "1   0.901659   0.897358  0.921733  \n",
       "2   0.900000   0.907387  0.925926  \n",
       "3   0.903896   0.901661  0.923829  \n",
       "4   0.903896   0.901661  0.923829  \n",
       "5   0.897669   0.899591  0.923829  \n",
       "6   0.896849   0.892424  0.921034  \n",
       "7   0.896849   0.892424  0.921034  \n",
       "8   0.895625   0.899706  0.923829  \n",
       "9   0.901856   0.902231  0.924528  \n",
       "10  0.901856   0.902231  0.924528  \n",
       "11  0.893030   0.896534  0.923131  \n",
       "12  0.901856   0.902231  0.924528  \n",
       "13  0.901856   0.902231  0.924528  \n",
       "14  0.894552   0.900074  0.923829  \n",
       "15  0.901428   0.904110  0.925227  \n",
       "16  0.901428   0.904110  0.925227  \n",
       "17  0.893030   0.896534  0.923131  \n",
       "18  0.903674   0.905990  0.925926  \n",
       "19  0.903674   0.905990  0.925926  \n",
       "20  0.894552   0.900074  0.923829  \n",
       "21  0.902798   0.906099  0.925926  \n",
       "22  0.902798   0.906099  0.925926  \n",
       "23  0.893030   0.896534  0.923131  \n",
       "24  0.906816   0.911435  0.928022  \n",
       "25  0.906816   0.911435  0.928022  \n",
       "26  0.894552   0.900074  0.923829  \n",
       "27  0.900962   0.906748  0.925926  \n",
       "28  0.900962   0.906748  0.925926  \n",
       "29  0.894552   0.900074  0.923829  \n",
       "30  0.905491   0.909749  0.927324  \n",
       "31  0.905491   0.909749  0.927324  \n",
       "32  0.894552   0.900074  0.923829  \n",
       "33  0.899094   0.902012  0.924528  \n",
       "34  0.899094   0.902012  0.924528  \n",
       "35  0.894552   0.900074  0.923829  \n",
       "36  0.903674   0.905990  0.925926  \n",
       "37  0.903674   0.905990  0.925926  \n",
       "38  0.894552   0.900074  0.923829  \n",
       "39  0.898113   0.902172  0.924528  \n",
       "40  0.898113   0.902172  0.924528  \n",
       "41  0.893030   0.896534  0.923131  \n",
       "42  0.904152   0.907974  0.926625  \n",
       "43  0.904152   0.907974  0.926625  \n",
       "44  0.891487   0.892407  0.922432  \n",
       "45  0.898559   0.905071  0.925227  \n",
       "46  0.898559   0.905071  0.925227  \n",
       "47  0.893030   0.896534  0.923131  \n",
       "48  0.902798   0.906099  0.925926  \n",
       "49  0.902798   0.906099  0.925926  \n",
       "50  0.893030   0.896534  0.923131  \n",
       "51  0.898559   0.905071  0.925227  \n",
       "52  0.898559   0.905071  0.925227  \n",
       "53  0.893030   0.896534  0.923131  \n",
       "54  0.904152   0.907974  0.926625  \n",
       "55  0.904152   0.907974  0.926625  \n",
       "56  0.893030   0.896534  0.923131  \n",
       "57  0.900000   0.907387  0.925926  \n",
       "58  0.900000   0.907387  0.925926  \n",
       "59  0.893030   0.896534  0.923131  "
      ]
     },
     "execution_count": 39,
     "metadata": {},
     "output_type": "execute_result"
    }
   ],
   "source": [
    "results"
   ]
  },
  {
   "cell_type": "markdown",
   "id": "4fa3d3c5",
   "metadata": {},
   "source": [
    "### Salvando os resultados"
   ]
  },
  {
   "cell_type": "code",
   "execution_count": 42,
   "id": "5708a625",
   "metadata": {},
   "outputs": [],
   "source": [
    "results['model'] = 'Random Forest'\n",
    "results.to_csv('results/random_forest.csv', index=False)"
   ]
  },
  {
   "cell_type": "markdown",
   "id": "3fa26847",
   "metadata": {},
   "source": [
    "## Instantiating model with best parameters"
   ]
  },
  {
   "cell_type": "code",
   "execution_count": 51,
   "id": "10cf61e5",
   "metadata": {},
   "outputs": [
    {
     "data": {
      "text/plain": [
       "RandomForestClassifier(max_features='sqrt', n_estimators=90, random_state=42)"
      ]
     },
     "execution_count": 51,
     "metadata": {},
     "output_type": "execute_result"
    }
   ],
   "source": [
    "model = RandomForestClassifier(**best_params, random_state=42)\n",
    "model.fit(X_train, y_train)"
   ]
  },
  {
   "cell_type": "code",
   "execution_count": 52,
   "id": "e48ad994",
   "metadata": {},
   "outputs": [
    {
     "name": "stdout",
     "output_type": "stream",
     "text": [
      "              precision    recall  f1-score   support\n",
      "\n",
      "         Bad       0.65      0.15      0.25       111\n",
      "        Good       0.93      0.99      0.96      1320\n",
      "\n",
      "    accuracy                           0.93      1431\n",
      "   macro avg       0.79      0.57      0.61      1431\n",
      "weighted avg       0.91      0.93      0.91      1431\n",
      "\n"
     ]
    }
   ],
   "source": [
    "print(classification_report(y_test, model.predict(X_test)))"
   ]
  },
  {
   "cell_type": "code",
   "execution_count": 53,
   "id": "a02ba80f",
   "metadata": {},
   "outputs": [
    {
     "data": {
      "text/plain": [
       "<sklearn.metrics._plot.confusion_matrix.ConfusionMatrixDisplay at 0x1842d1d6640>"
      ]
     },
     "execution_count": 53,
     "metadata": {},
     "output_type": "execute_result"
    },
    {
     "data": {
      "image/png": "[encoded data removed]",
      "text/plain": [
       "<Figure size 432x288 with 2 Axes>"
      ]
     },
     "metadata": {
      "needs_background": "light"
     },
     "output_type": "display_data"
    }
   ],
   "source": [
    "ConfusionMatrixDisplay.from_estimator(model, X_test, y_test, cmap='Blues', values_format='d')"
   ]
  }
 ],
 "metadata": {
  "kernelspec": {
   "display_name": "Python 3 (ipykernel)",
   "language": "python",
   "name": "python3"
  },
  "language_info": {
   "codemirror_mode": {
    "name": "ipython",
    "version": 3
   },
   "file_extension": ".py",
   "mimetype": "text/x-python",
   "name": "python",
   "nbconvert_exporter": "python",
   "pygments_lexer": "ipython3",
   "version": "3.9.7"
  }
 },
 "nbformat": 4,
 "nbformat_minor": 5
}
