{
 "cells": [
  {
   "cell_type": "markdown",
   "id": "6aa8d403",
   "metadata": {},
   "source": [
    "# Imports"
   ]
  },
  {
   "cell_type": "code",
   "execution_count": 16,
   "id": "408f55e2",
   "metadata": {},
   "outputs": [],
   "source": [
    "import pandas as pd     \n",
    "import numpy as np\n",
    "\n",
    "import spacy\n",
    "from nltk.stem.porter import *\n",
    "from sklearn.feature_extraction.text import CountVectorizer\n",
    "\n",
    "from tqdm import tqdm \n",
    "from itertools import product\n",
    "\n",
    "from sklearn.model_selection import StratifiedKFold, cross_val_score, train_test_split\n",
    "from imblearn.pipeline import Pipeline\n",
    "from sklearn.ensemble import RandomForestClassifier\n",
    "from sklearn.metrics import classification_report, ConfusionMatrixDisplay, precision_score, f1_score, recall_score"
   ]
  },
  {
   "cell_type": "markdown",
   "id": "8a9a438b",
   "metadata": {},
   "source": [
    "# Functions"
   ]
  },
  {
   "cell_type": "code",
   "execution_count": 2,
   "id": "6647aec1",
   "metadata": {},
   "outputs": [],
   "source": [
    "def metrics_model(list_estimators):\n",
    "    results = []\n",
    "    for n_est in list_estimators:\n",
    "        model = RandomForestClassifier(n_estimators=n_est, random_state=42)\n",
    "        model.fit(X_train, y_train)\n",
    "        y_pred = model.predict(X_test)\n",
    "        \n",
    "        f1 = f1_score(y_test, y_pred, average='weighted', zero_division=0)\n",
    "        ps = precision_score(y_test, y_pred, average='weighted', zero_division=0)\n",
    "        recall = recall_score(y_test, y_pred, average='weighted', zero_division=0)\n",
    "        \n",
    "        results.append([n_est, f1, ps, recall])\n",
    "    return pd.DataFrame(results, columns=['n_estimators', 'f1', 'precision', 'recall'])"
   ]
  },
  {
   "cell_type": "code",
   "execution_count": 44,
   "id": "f34f6f99",
   "metadata": {},
   "outputs": [],
   "source": [
    "def search_cross_valid(search_space, X_train, y_train, X_test, y_test, SEED=42):\n",
    "    results, params = [], [],\n",
    "\n",
    "    for n_est, crt, max_f in tqdm(search_space, desc=\"Treinamento: \"):\n",
    "        model = RandomForestClassifier(n_estimators=n_est, criterion=crt, max_features=max_f, random_state=SEED)\n",
    "\n",
    "        cv = StratifiedKFold(n_splits=10, random_state=SEED, shuffle=True)\n",
    "\n",
    "        steps = [('model', model)]\n",
    "        pipeline = Pipeline(steps=steps)\n",
    "\n",
    "        scores = cross_val_score(pipeline, X_train, y_train, scoring='f1_micro', cv=cv, n_jobs=-1)\n",
    "        model.fit(X_train, y_train)\n",
    "        \n",
    "        y_pred = model.predict(X_test)\n",
    "        \n",
    "        f1 = f1_score(y_test, y_pred, average='weighted', zero_division=0)\n",
    "        ps = precision_score(y_test, y_pred, average='weighted', zero_division=0)\n",
    "        r = recall_score(y_test, y_pred, average='weighted', zero_division=0)\n",
    "        \n",
    "        print('Mean f1: %.3f' % np.mean(scores))\n",
    "        \n",
    "        print('F1-score test: %.3f' % f1)\n",
    "        print('Precision score: %.3f' % ps)\n",
    "        print('Recall test: %.3f' % r)\n",
    "\n",
    "        parm = dict(n_estimators=n_est, criterion=crt, max_features=max_f)\n",
    "\n",
    "        print(\"Parameters: \", parm)\n",
    "        print(\"Score of validation: \", np.mean(scores))\n",
    "\n",
    "#         f1_scores.append(f1)\n",
    "#         precision_s.append(ps)\n",
    "#         recall.append(r)\n",
    "        params.append(parm)\n",
    "        results.append([n_est, f1, ps, r])\n",
    "\n",
    "    zipped_results = zip(f1_scores, precision_s, recall, params)\n",
    "    best_result =  max(zipped_results, key = lambda res: res[1])\n",
    "    best_f1_score, best_precision_s, best_recall, best_params = best_result\n",
    "\n",
    "    print('------------------------------')\n",
    "    print(\"Best parameters: \", best_params)\n",
    "    print(\"Best f1-score score: \", best_f1_score)\n",
    "    print(\"Best precision score: \", best_precision_s)\n",
    "    print(\"Best recall score: \", best_recall)\n",
    "    \n",
    "    return best_params, pd.DataFrame(results, columns=['n_estimators', 'f1', 'precision', 'recall'])"
   ]
  },
  {
   "cell_type": "code",
   "execution_count": 3,
   "id": "26a480d7",
   "metadata": {},
   "outputs": [],
   "source": [
    "import matplotlib.pyplot as plt\n",
    "\n",
    "def plot_results(results):\n",
    "    plt.figure(figsize=(16, 6))\n",
    "    plt.subplot(1, 2, 1)\n",
    "    plt.plot(results['n_estimators'], results[['f1', 'precision', 'recall']])\n",
    "    plt.xlabel(\"N_estimators\")\n",
    "    plt.ylabel('Results')\n",
    "    plt.legend(['f1', 'precision', 'recall'])"
   ]
  },
  {
   "cell_type": "markdown",
   "id": "4f076173",
   "metadata": {},
   "source": [
    "# Loading the dataset"
   ]
  },
  {
   "cell_type": "code",
   "execution_count": 4,
   "id": "2b2346ae",
   "metadata": {},
   "outputs": [],
   "source": [
    "df = pd.read_csv(\"data/reviews_final.csv\")"
   ]
  },
  {
   "cell_type": "code",
   "execution_count": 5,
   "id": "8c50c6fa",
   "metadata": {},
   "outputs": [
    {
     "data": {
      "text/html": [
       "<div>\n",
       "<style scoped>\n",
       "    .dataframe tbody tr th:only-of-type {\n",
       "        vertical-align: middle;\n",
       "    }\n",
       "\n",
       "    .dataframe tbody tr th {\n",
       "        vertical-align: top;\n",
       "    }\n",
       "\n",
       "    .dataframe thead th {\n",
       "        text-align: right;\n",
       "    }\n",
       "</style>\n",
       "<table border=\"1\" class=\"dataframe\">\n",
       "  <thead>\n",
       "    <tr style=\"text-align: right;\">\n",
       "      <th></th>\n",
       "      <th>title</th>\n",
       "      <th>review</th>\n",
       "      <th>rating</th>\n",
       "      <th>date</th>\n",
       "      <th>label</th>\n",
       "    </tr>\n",
       "  </thead>\n",
       "  <tbody>\n",
       "    <tr>\n",
       "      <th>0</th>\n",
       "      <td>Ótimo custo benefício.</td>\n",
       "      <td>Até agora estou amando o aparelho. Estou bem s...</td>\n",
       "      <td>5.0</td>\n",
       "      <td>25/10/2019</td>\n",
       "      <td>Good</td>\n",
       "    </tr>\n",
       "    <tr>\n",
       "      <th>1</th>\n",
       "      <td>Não recebi a versão global e produto veio sem ...</td>\n",
       "      <td>Adquiri o produto em 09/11, chegou hoje e para...</td>\n",
       "      <td>1.0</td>\n",
       "      <td>14/11/2019</td>\n",
       "      <td>Bad</td>\n",
       "    </tr>\n",
       "    <tr>\n",
       "      <th>2</th>\n",
       "      <td>Bom, bonito e barato. Porém sem nota fiscal!</td>\n",
       "      <td>Comprei o celular no sábado dia 26/10/19 e che...</td>\n",
       "      <td>5.0</td>\n",
       "      <td>31/10/2019</td>\n",
       "      <td>Good</td>\n",
       "    </tr>\n",
       "    <tr>\n",
       "      <th>3</th>\n",
       "      <td>Bom, no prazo, carregador fora do padrão brasi...</td>\n",
       "      <td>Chegou dentro do prazo, bem embalado. Tudo ok,...</td>\n",
       "      <td>3.0</td>\n",
       "      <td>19/11/2019</td>\n",
       "      <td>Neutral</td>\n",
       "    </tr>\n",
       "    <tr>\n",
       "      <th>4</th>\n",
       "      <td>Celular acima das expectativas</td>\n",
       "      <td>O celular superou totalmente minhas expectativ...</td>\n",
       "      <td>5.0</td>\n",
       "      <td>29/10/2019</td>\n",
       "      <td>Good</td>\n",
       "    </tr>\n",
       "  </tbody>\n",
       "</table>\n",
       "</div>"
      ],
      "text/plain": [
       "                                               title  \\\n",
       "0                             Ótimo custo benefício.   \n",
       "1  Não recebi a versão global e produto veio sem ...   \n",
       "2       Bom, bonito e barato. Porém sem nota fiscal!   \n",
       "3  Bom, no prazo, carregador fora do padrão brasi...   \n",
       "4                     Celular acima das expectativas   \n",
       "\n",
       "                                              review  rating        date  \\\n",
       "0  Até agora estou amando o aparelho. Estou bem s...     5.0  25/10/2019   \n",
       "1  Adquiri o produto em 09/11, chegou hoje e para...     1.0  14/11/2019   \n",
       "2  Comprei o celular no sábado dia 26/10/19 e che...     5.0  31/10/2019   \n",
       "3  Chegou dentro do prazo, bem embalado. Tudo ok,...     3.0  19/11/2019   \n",
       "4  O celular superou totalmente minhas expectativ...     5.0  29/10/2019   \n",
       "\n",
       "     label  \n",
       "0     Good  \n",
       "1      Bad  \n",
       "2     Good  \n",
       "3  Neutral  \n",
       "4     Good  "
      ]
     },
     "execution_count": 5,
     "metadata": {},
     "output_type": "execute_result"
    }
   ],
   "source": [
    "df.head()"
   ]
  },
  {
   "cell_type": "code",
   "execution_count": 6,
   "id": "e4795712",
   "metadata": {},
   "outputs": [],
   "source": [
    "df.dropna(inplace=True)"
   ]
  },
  {
   "cell_type": "code",
   "execution_count": 7,
   "id": "8c72a36b",
   "metadata": {},
   "outputs": [],
   "source": [
    "df['label'] = df['label'].replace('Neutral', 'Bad')"
   ]
  },
  {
   "cell_type": "code",
   "execution_count": 8,
   "id": "bcd34560",
   "metadata": {},
   "outputs": [
    {
     "data": {
      "text/plain": [
       "Good    4448\n",
       "Bad      320\n",
       "Name: label, dtype: int64"
      ]
     },
     "execution_count": 8,
     "metadata": {},
     "output_type": "execute_result"
    }
   ],
   "source": [
    "df['label'].value_counts()"
   ]
  },
  {
   "cell_type": "code",
   "execution_count": 9,
   "id": "1edcb9ed",
   "metadata": {},
   "outputs": [
    {
     "data": {
      "text/plain": [
       "(4768, 5)"
      ]
     },
     "execution_count": 9,
     "metadata": {},
     "output_type": "execute_result"
    }
   ],
   "source": [
    "df.shape"
   ]
  },
  {
   "cell_type": "markdown",
   "id": "d7b00f6b",
   "metadata": {},
   "source": [
    "# Bag of words"
   ]
  },
  {
   "cell_type": "code",
   "execution_count": 10,
   "id": "34c93e5f",
   "metadata": {},
   "outputs": [],
   "source": [
    "nlp = spacy.load('pt_core_news_sm')"
   ]
  },
  {
   "cell_type": "code",
   "execution_count": 11,
   "id": "14ce6576",
   "metadata": {},
   "outputs": [
    {
     "data": {
      "text/plain": [
       "416"
      ]
     },
     "execution_count": 11,
     "metadata": {},
     "output_type": "execute_result"
    }
   ],
   "source": [
    "stopwords = nlp.Defaults.stop_words\n",
    "len(stopwords)"
   ]
  },
  {
   "cell_type": "code",
   "execution_count": 12,
   "id": "95f8d831",
   "metadata": {},
   "outputs": [],
   "source": [
    "vectorizer = CountVectorizer(lowercase=True, stop_words=stopwords)"
   ]
  },
  {
   "cell_type": "markdown",
   "id": "0a2359db",
   "metadata": {},
   "source": [
    "# Models"
   ]
  },
  {
   "cell_type": "markdown",
   "id": "50f2af62",
   "metadata": {},
   "source": [
    "## Parameters"
   ]
  },
  {
   "cell_type": "code",
   "execution_count": 30,
   "id": "d6f9ce45",
   "metadata": {},
   "outputs": [],
   "source": [
    "n_estimators = list(range(10, 50, 20))\n",
    "criterions = [\"gini\", \"entropy\"]\n",
    "max_features = [\"sqrt\"]\n",
    "\n",
    "# criterions = [\"gini\", \"entropy\"]\n",
    "# max_features = [\"sqrt\", \"auto\", \"log2\"]"
   ]
  },
  {
   "cell_type": "code",
   "execution_count": 31,
   "id": "4f5ec6ab",
   "metadata": {},
   "outputs": [
    {
     "name": "stdout",
     "output_type": "stream",
     "text": [
      "Amount of training sets that will be validate:  4\n"
     ]
    }
   ],
   "source": [
    "search_space = tuple(product(n_estimators, criterions, max_features))\n",
    "\n",
    "print(\"Amount of training sets that will be validate: \", len(search_space))"
   ]
  },
  {
   "cell_type": "markdown",
   "id": "ba98f3b4",
   "metadata": {},
   "source": [
    "##  Model without stemming"
   ]
  },
  {
   "cell_type": "markdown",
   "id": "36cb9d60",
   "metadata": {},
   "source": [
    "### Splitting data into training and testing"
   ]
  },
  {
   "cell_type": "code",
   "execution_count": 26,
   "id": "4b0c27f1",
   "metadata": {},
   "outputs": [],
   "source": [
    "X = vectorizer.fit_transform(df['review']).toarray()\n",
    "y = df['label']\n",
    "\n",
    "X_train, X_test, y_train, y_test = train_test_split(X, y, test_size=.3,\n",
    "                                                    random_state=42)"
   ]
  },
  {
   "cell_type": "code",
   "execution_count": 27,
   "id": "9d13700b",
   "metadata": {},
   "outputs": [
    {
     "data": {
      "text/plain": [
       "6521"
      ]
     },
     "execution_count": 27,
     "metadata": {},
     "output_type": "execute_result"
    }
   ],
   "source": [
    "len(X[0])"
   ]
  },
  {
   "cell_type": "code",
   "execution_count": 46,
   "id": "1ef3944a",
   "metadata": {},
   "outputs": [
    {
     "name": "stderr",
     "output_type": "stream",
     "text": [
      "Treinamento:  25%|█████████████████▊                                                     | 1/4 [00:10<00:30, 10.06s/it]"
     ]
    },
    {
     "name": "stdout",
     "output_type": "stream",
     "text": [
      "Mean f1: 0.942\n",
      "F1-score test: 0.914\n",
      "Precision score: 0.921\n",
      "Recall test: 0.932\n",
      "Parameters:  {'n_estimators': 10, 'criterion': 'gini', 'max_features': 'sqrt'}\n",
      "Score of validation:  0.9418703134271997\n"
     ]
    },
    {
     "name": "stderr",
     "output_type": "stream",
     "text": [
      "\r",
      "Treinamento:  50%|███████████████████████████████████▌                                   | 2/4 [00:15<00:14,  7.14s/it]"
     ]
    },
    {
     "name": "stdout",
     "output_type": "stream",
     "text": [
      "Mean f1: 0.945\n",
      "F1-score test: 0.912\n",
      "Precision score: 0.922\n",
      "Recall test: 0.932\n",
      "Parameters:  {'n_estimators': 10, 'criterion': 'entropy', 'max_features': 'sqrt'}\n",
      "Score of validation:  0.9445649242056426\n"
     ]
    },
    {
     "name": "stderr",
     "output_type": "stream",
     "text": [
      "\r",
      "Treinamento:  75%|█████████████████████████████████████████████████████▎                 | 3/4 [00:36<00:13, 13.42s/it]"
     ]
    },
    {
     "name": "stdout",
     "output_type": "stream",
     "text": [
      "Mean f1: 0.944\n",
      "F1-score test: 0.906\n",
      "Precision score: 0.915\n",
      "Recall test: 0.929\n",
      "Parameters:  {'n_estimators': 30, 'criterion': 'gini', 'max_features': 'sqrt'}\n",
      "Score of validation:  0.9436667206128284\n"
     ]
    },
    {
     "name": "stderr",
     "output_type": "stream",
     "text": [
      "Treinamento: 100%|███████████████████████████████████████████████████████████████████████| 4/4 [00:48<00:00, 12.18s/it]"
     ]
    },
    {
     "name": "stdout",
     "output_type": "stream",
     "text": [
      "Mean f1: 0.944\n",
      "F1-score test: 0.902\n",
      "Precision score: 0.916\n",
      "Recall test: 0.928\n",
      "Parameters:  {'n_estimators': 30, 'criterion': 'entropy', 'max_features': 'sqrt'}\n",
      "Score of validation:  0.9436649224074373\n",
      "------------------------------\n",
      "Best parameters:  {'n_estimators': 10, 'criterion': 'entropy', 'max_features': 'sqrt'}\n",
      "Best f1-score score:  0.9122443068908349\n",
      "Best precision score:  0.9223549639852603\n",
      "Best recall score:  0.9322152341020266\n"
     ]
    },
    {
     "name": "stderr",
     "output_type": "stream",
     "text": [
      "\n"
     ]
    }
   ],
   "source": [
    "best_params, results = search_cross_valid(search_space, X_train, y_train, X_test, y_test)"
   ]
  },
  {
   "cell_type": "code",
   "execution_count": 47,
   "id": "162b6f08",
   "metadata": {},
   "outputs": [
    {
     "data": {
      "text/html": [
       "<div>\n",
       "<style scoped>\n",
       "    .dataframe tbody tr th:only-of-type {\n",
       "        vertical-align: middle;\n",
       "    }\n",
       "\n",
       "    .dataframe tbody tr th {\n",
       "        vertical-align: top;\n",
       "    }\n",
       "\n",
       "    .dataframe thead th {\n",
       "        text-align: right;\n",
       "    }\n",
       "</style>\n",
       "<table border=\"1\" class=\"dataframe\">\n",
       "  <thead>\n",
       "    <tr style=\"text-align: right;\">\n",
       "      <th></th>\n",
       "      <th>n_estimators</th>\n",
       "      <th>f1</th>\n",
       "      <th>precision</th>\n",
       "      <th>recall</th>\n",
       "    </tr>\n",
       "  </thead>\n",
       "  <tbody>\n",
       "    <tr>\n",
       "      <th>0</th>\n",
       "      <td>10</td>\n",
       "      <td>0.913754</td>\n",
       "      <td>0.920717</td>\n",
       "      <td>0.932215</td>\n",
       "    </tr>\n",
       "    <tr>\n",
       "      <th>1</th>\n",
       "      <td>10</td>\n",
       "      <td>0.912244</td>\n",
       "      <td>0.922355</td>\n",
       "      <td>0.932215</td>\n",
       "    </tr>\n",
       "    <tr>\n",
       "      <th>2</th>\n",
       "      <td>30</td>\n",
       "      <td>0.905596</td>\n",
       "      <td>0.915034</td>\n",
       "      <td>0.928721</td>\n",
       "    </tr>\n",
       "    <tr>\n",
       "      <th>3</th>\n",
       "      <td>30</td>\n",
       "      <td>0.902352</td>\n",
       "      <td>0.916070</td>\n",
       "      <td>0.928022</td>\n",
       "    </tr>\n",
       "  </tbody>\n",
       "</table>\n",
       "</div>"
      ],
      "text/plain": [
       "   n_estimators        f1  precision    recall\n",
       "0            10  0.913754   0.920717  0.932215\n",
       "1            10  0.912244   0.922355  0.932215\n",
       "2            30  0.905596   0.915034  0.928721\n",
       "3            30  0.902352   0.916070  0.928022"
      ]
     },
     "execution_count": 47,
     "metadata": {},
     "output_type": "execute_result"
    }
   ],
   "source": [
    "results"
   ]
  },
  {
   "cell_type": "code",
   "execution_count": 15,
   "id": "04af3fcd",
   "metadata": {},
   "outputs": [],
   "source": [
    "results_no_stemmer = metrics_model(list(range(10, 100, 20)))"
   ]
  },
  {
   "cell_type": "code",
   "execution_count": 16,
   "id": "ec9f76ea",
   "metadata": {},
   "outputs": [
    {
     "data": {
      "text/html": [
       "<div>\n",
       "<style scoped>\n",
       "    .dataframe tbody tr th:only-of-type {\n",
       "        vertical-align: middle;\n",
       "    }\n",
       "\n",
       "    .dataframe tbody tr th {\n",
       "        vertical-align: top;\n",
       "    }\n",
       "\n",
       "    .dataframe thead th {\n",
       "        text-align: right;\n",
       "    }\n",
       "</style>\n",
       "<table border=\"1\" class=\"dataframe\">\n",
       "  <thead>\n",
       "    <tr style=\"text-align: right;\">\n",
       "      <th></th>\n",
       "      <th>n_estimators</th>\n",
       "      <th>f1</th>\n",
       "      <th>precision</th>\n",
       "      <th>recall</th>\n",
       "    </tr>\n",
       "  </thead>\n",
       "  <tbody>\n",
       "    <tr>\n",
       "      <th>0</th>\n",
       "      <td>10</td>\n",
       "      <td>0.913754</td>\n",
       "      <td>0.920717</td>\n",
       "      <td>0.932215</td>\n",
       "    </tr>\n",
       "    <tr>\n",
       "      <th>1</th>\n",
       "      <td>30</td>\n",
       "      <td>0.905596</td>\n",
       "      <td>0.915034</td>\n",
       "      <td>0.928721</td>\n",
       "    </tr>\n",
       "    <tr>\n",
       "      <th>2</th>\n",
       "      <td>50</td>\n",
       "      <td>0.906144</td>\n",
       "      <td>0.927070</td>\n",
       "      <td>0.930818</td>\n",
       "    </tr>\n",
       "    <tr>\n",
       "      <th>3</th>\n",
       "      <td>70</td>\n",
       "      <td>0.904723</td>\n",
       "      <td>0.925817</td>\n",
       "      <td>0.930119</td>\n",
       "    </tr>\n",
       "    <tr>\n",
       "      <th>4</th>\n",
       "      <td>90</td>\n",
       "      <td>0.904723</td>\n",
       "      <td>0.925817</td>\n",
       "      <td>0.930119</td>\n",
       "    </tr>\n",
       "  </tbody>\n",
       "</table>\n",
       "</div>"
      ],
      "text/plain": [
       "   n_estimators        f1  precision    recall\n",
       "0            10  0.913754   0.920717  0.932215\n",
       "1            30  0.905596   0.915034  0.928721\n",
       "2            50  0.906144   0.927070  0.930818\n",
       "3            70  0.904723   0.925817  0.930119\n",
       "4            90  0.904723   0.925817  0.930119"
      ]
     },
     "execution_count": 16,
     "metadata": {},
     "output_type": "execute_result"
    }
   ],
   "source": [
    "results_no_stemmer"
   ]
  },
  {
   "cell_type": "code",
   "execution_count": 17,
   "id": "446fdc61",
   "metadata": {},
   "outputs": [
    {
     "data": {
      "image/png": "[encoded data removed]",
      "text/plain": [
       "<Figure size 1152x432 with 1 Axes>"
      ]
     },
     "metadata": {
      "needs_background": "light"
     },
     "output_type": "display_data"
    }
   ],
   "source": [
    "plot_results(results_no_stemmer)"
   ]
  },
  {
   "cell_type": "code",
   "execution_count": 18,
   "id": "eaa5f5dd",
   "metadata": {},
   "outputs": [
    {
     "data": {
      "text/plain": [
       "RandomForestClassifier(n_estimators=50, random_state=42)"
      ]
     },
     "execution_count": 18,
     "metadata": {},
     "output_type": "execute_result"
    }
   ],
   "source": [
    "model = RandomForestClassifier(n_estimators=50, random_state=42)\n",
    "model.fit(X_train, y_train)"
   ]
  },
  {
   "cell_type": "code",
   "execution_count": 19,
   "id": "c75fea44",
   "metadata": {},
   "outputs": [
    {
     "name": "stdout",
     "output_type": "stream",
     "text": [
      "              precision    recall  f1-score   support\n",
      "\n",
      "         Bad       0.88      0.13      0.22       111\n",
      "        Good       0.93      1.00      0.96      1320\n",
      "\n",
      "    accuracy                           0.93      1431\n",
      "   macro avg       0.90      0.56      0.59      1431\n",
      "weighted avg       0.93      0.93      0.91      1431\n",
      "\n"
     ]
    }
   ],
   "source": [
    "print(classification_report(y_test, model.predict(X_test)))"
   ]
  },
  {
   "cell_type": "code",
   "execution_count": 20,
   "id": "957f7070",
   "metadata": {},
   "outputs": [
    {
     "data": {
      "text/plain": [
       "<sklearn.metrics._plot.confusion_matrix.ConfusionMatrixDisplay at 0x2078c783580>"
      ]
     },
     "execution_count": 20,
     "metadata": {},
     "output_type": "execute_result"
    },
    {
     "data": {
      "image/png": "[encoded data removed]",
      "text/plain": [
       "<Figure size 432x288 with 2 Axes>"
      ]
     },
     "metadata": {
      "needs_background": "light"
     },
     "output_type": "display_data"
    }
   ],
   "source": [
    "ConfusionMatrixDisplay.from_estimator(model, X_test, y_test, cmap='Blues', values_format='d')"
   ]
  },
  {
   "cell_type": "markdown",
   "id": "8994c611",
   "metadata": {},
   "source": [
    "# Stemming"
   ]
  },
  {
   "cell_type": "code",
   "execution_count": 21,
   "id": "e9af2072",
   "metadata": {},
   "outputs": [],
   "source": [
    "reviews = df['review'].apply(lambda x: x.lower())\n",
    "reviews_stemmer = []\n",
    "stemmer = PorterStemmer()\n",
    "\n",
    "for r in reviews:\n",
    "    doc = nlp(r)\n",
    "    sentences = doc.sents\n",
    "\n",
    "    for sent in sentences:\n",
    "        tokens = nlp(sent.text)\n",
    "\n",
    "    # remove stop words and stemming\n",
    "    review_processed = []\n",
    "    \n",
    "    for tkn in tokens:\n",
    "        if tkn.is_punct == False and tkn.is_stop == False:\n",
    "            review_processed.append(stemmer.stem(str(tkn)))\n",
    "\n",
    "    review_text = \" \".join(review_processed)\n",
    "    reviews_stemmer.append(review_text)"
   ]
  },
  {
   "cell_type": "code",
   "execution_count": 22,
   "id": "0ff9bdac",
   "metadata": {},
   "outputs": [
    {
     "data": {
      "text/plain": [
       "'até agora estou amando o aparelho. estou bem satisfeita, ainda mais com o ótimo custo benefício dele.comprei dia 16 e chegou dia 21, entrega extremamente rápida.'"
      ]
     },
     "execution_count": 22,
     "metadata": {},
     "output_type": "execute_result"
    }
   ],
   "source": [
    "reviews[0]"
   ]
  },
  {
   "cell_type": "code",
   "execution_count": 23,
   "id": "f20b6aab",
   "metadata": {},
   "outputs": [
    {
     "data": {
      "text/plain": [
       "'estou bem satisfeita , ainda mai com o ótimo custo benefício dele.comprei dia 16 e chegou dia 21 , entrega extremament rápida .'"
      ]
     },
     "execution_count": 23,
     "metadata": {},
     "output_type": "execute_result"
    }
   ],
   "source": [
    "reviews_stemmer[0]"
   ]
  },
  {
   "cell_type": "markdown",
   "id": "c6b028d3",
   "metadata": {},
   "source": [
    "# Model with stemming"
   ]
  },
  {
   "cell_type": "markdown",
   "id": "db6389d5",
   "metadata": {},
   "source": [
    "## Splitting data into training and testing"
   ]
  },
  {
   "cell_type": "code",
   "execution_count": 24,
   "id": "a0bafdea",
   "metadata": {},
   "outputs": [],
   "source": [
    "X_s = vectorizer.fit_transform(reviews_stemmer).toarray()\n",
    "\n",
    "X_train, X_test, y_train, y_test = train_test_split(X_s, y, test_size=.3,\n",
    "                                                    random_state=42)"
   ]
  },
  {
   "cell_type": "code",
   "execution_count": 25,
   "id": "b4e6cf1e",
   "metadata": {},
   "outputs": [
    {
     "data": {
      "text/plain": [
       "4074"
      ]
     },
     "execution_count": 25,
     "metadata": {},
     "output_type": "execute_result"
    }
   ],
   "source": [
    "len(X_s[0])"
   ]
  },
  {
   "cell_type": "code",
   "execution_count": 26,
   "id": "06f2a8cb",
   "metadata": {},
   "outputs": [],
   "source": [
    "results_stemmer = metrics_model(list(range(10, 100, 20)))"
   ]
  },
  {
   "cell_type": "code",
   "execution_count": 27,
   "id": "d260f5ac",
   "metadata": {},
   "outputs": [
    {
     "data": {
      "text/html": [
       "<div>\n",
       "<style scoped>\n",
       "    .dataframe tbody tr th:only-of-type {\n",
       "        vertical-align: middle;\n",
       "    }\n",
       "\n",
       "    .dataframe tbody tr th {\n",
       "        vertical-align: top;\n",
       "    }\n",
       "\n",
       "    .dataframe thead th {\n",
       "        text-align: right;\n",
       "    }\n",
       "</style>\n",
       "<table border=\"1\" class=\"dataframe\">\n",
       "  <thead>\n",
       "    <tr style=\"text-align: right;\">\n",
       "      <th></th>\n",
       "      <th>n_estimators</th>\n",
       "      <th>f1</th>\n",
       "      <th>precision</th>\n",
       "      <th>recall</th>\n",
       "    </tr>\n",
       "  </thead>\n",
       "  <tbody>\n",
       "    <tr>\n",
       "      <th>0</th>\n",
       "      <td>10</td>\n",
       "      <td>0.905702</td>\n",
       "      <td>0.901908</td>\n",
       "      <td>0.923131</td>\n",
       "    </tr>\n",
       "    <tr>\n",
       "      <th>1</th>\n",
       "      <td>30</td>\n",
       "      <td>0.901856</td>\n",
       "      <td>0.902231</td>\n",
       "      <td>0.924528</td>\n",
       "    </tr>\n",
       "    <tr>\n",
       "      <th>2</th>\n",
       "      <td>50</td>\n",
       "      <td>0.900502</td>\n",
       "      <td>0.904252</td>\n",
       "      <td>0.925227</td>\n",
       "    </tr>\n",
       "    <tr>\n",
       "      <th>3</th>\n",
       "      <td>70</td>\n",
       "      <td>0.901894</td>\n",
       "      <td>0.906338</td>\n",
       "      <td>0.925926</td>\n",
       "    </tr>\n",
       "    <tr>\n",
       "      <th>4</th>\n",
       "      <td>90</td>\n",
       "      <td>0.900964</td>\n",
       "      <td>0.902071</td>\n",
       "      <td>0.924528</td>\n",
       "    </tr>\n",
       "  </tbody>\n",
       "</table>\n",
       "</div>"
      ],
      "text/plain": [
       "   n_estimators        f1  precision    recall\n",
       "0            10  0.905702   0.901908  0.923131\n",
       "1            30  0.901856   0.902231  0.924528\n",
       "2            50  0.900502   0.904252  0.925227\n",
       "3            70  0.901894   0.906338  0.925926\n",
       "4            90  0.900964   0.902071  0.924528"
      ]
     },
     "execution_count": 27,
     "metadata": {},
     "output_type": "execute_result"
    }
   ],
   "source": [
    "results_stemmer"
   ]
  },
  {
   "cell_type": "code",
   "execution_count": 28,
   "id": "55bb04b0",
   "metadata": {},
   "outputs": [
    {
     "data": {
      "image/png": "[encoded data removed]",
      "text/plain": [
       "<Figure size 1152x432 with 1 Axes>"
      ]
     },
     "metadata": {
      "needs_background": "light"
     },
     "output_type": "display_data"
    }
   ],
   "source": [
    "plot_results(results_stemmer)"
   ]
  },
  {
   "cell_type": "code",
   "execution_count": 29,
   "id": "7b621d64",
   "metadata": {},
   "outputs": [
    {
     "data": {
      "text/plain": [
       "RandomForestClassifier(n_estimators=70, random_state=42)"
      ]
     },
     "execution_count": 29,
     "metadata": {},
     "output_type": "execute_result"
    }
   ],
   "source": [
    "model_stemmer = RandomForestClassifier(n_estimators=70, random_state=42)\n",
    "model_stemmer.fit(X_train, y_train)"
   ]
  },
  {
   "cell_type": "code",
   "execution_count": 30,
   "id": "5da543a6",
   "metadata": {},
   "outputs": [
    {
     "name": "stdout",
     "output_type": "stream",
     "text": [
      "              precision    recall  f1-score   support\n",
      "\n",
      "         Bad       0.62      0.12      0.20       111\n",
      "        Good       0.93      0.99      0.96      1320\n",
      "\n",
      "    accuracy                           0.93      1431\n",
      "   macro avg       0.77      0.56      0.58      1431\n",
      "weighted avg       0.91      0.93      0.90      1431\n",
      "\n"
     ]
    }
   ],
   "source": [
    "print(classification_report(y_test, model_stemmer.predict(X_test)))"
   ]
  },
  {
   "cell_type": "code",
   "execution_count": 31,
   "id": "24c24033",
   "metadata": {},
   "outputs": [
    {
     "data": {
      "text/plain": [
       "<sklearn.metrics._plot.confusion_matrix.ConfusionMatrixDisplay at 0x20788e9bd30>"
      ]
     },
     "execution_count": 31,
     "metadata": {},
     "output_type": "execute_result"
    },
    {
     "data": {
      "image/png": "[encoded data removed]",
      "text/plain": [
       "<Figure size 432x288 with 2 Axes>"
      ]
     },
     "metadata": {
      "needs_background": "light"
     },
     "output_type": "display_data"
    }
   ],
   "source": [
    "ConfusionMatrixDisplay.from_estimator(model_stemmer, X_test, y_test, cmap='Blues', values_format='d')"
   ]
  }
 ],
 "metadata": {
  "kernelspec": {
   "display_name": "Python 3 (ipykernel)",
   "language": "python",
   "name": "python3"
  },
  "language_info": {
   "codemirror_mode": {
    "name": "ipython",
    "version": 3
   },
   "file_extension": ".py",
   "mimetype": "text/x-python",
   "name": "python",
   "nbconvert_exporter": "python",
   "pygments_lexer": "ipython3",
   "version": "3.9.7"
  }
 },
 "nbformat": 4,
 "nbformat_minor": 5
}
