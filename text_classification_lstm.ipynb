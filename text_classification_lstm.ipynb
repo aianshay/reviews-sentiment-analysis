{
  "cells": [
    {
      "cell_type": "markdown",
      "metadata": {
        "id": "view-in-github",
        "colab_type": "text"
      },
      "source": [
        "<a href=\"https://colab.research.google.com/github/aianshay/reviews-sentiment-analysis/blob/main/text_classification_lstm.ipynb\" target=\"_parent\"><img src=\"https://colab.research.google.com/assets/colab-badge.svg\" alt=\"Open In Colab\"/></a>"
      ]
    },
    {
      "cell_type": "markdown",
      "metadata": {
        "id": "9TnJztDZGw-n"
      },
      "source": [
        "# Text classification with an RNN"
      ]
    },
    {
      "cell_type": "markdown",
      "metadata": {
        "id": "_2VQo4bajwUU"
      },
      "source": [
        "## Setup"
      ]
    },
    {
      "cell_type": "code",
      "execution_count": null,
      "metadata": {
        "id": "z682XYsrjkY9"
      },
      "outputs": [],
      "source": [
        "import numpy as np\n",
        "import tensorflow as tf\n",
        "from tensorflow.keras import utils"
      ]
    },
    {
      "cell_type": "code",
      "source": [
        "from google.colab import drive\n",
        "drive.mount('/content/drive')"
      ],
      "metadata": {
        "colab": {
          "base_uri": "https://localhost:8080/"
        },
        "id": "dWCvP7B9fWcz",
        "outputId": "87c1027a-be74-4c06-b3b7-749dbb6f26fb"
      },
      "execution_count": null,
      "outputs": [
        {
          "output_type": "stream",
          "name": "stdout",
          "text": [
            "Mounted at /content/drive\n"
          ]
        }
      ]
    },
    {
      "cell_type": "code",
      "source": [
        "train_dir = '/content/drive/MyDrive/data/train'\n",
        "test_dir = '/content/drive/MyDrive/data/test'"
      ],
      "metadata": {
        "id": "7uF-kp7Of5cP"
      },
      "execution_count": null,
      "outputs": []
    },
    {
      "cell_type": "markdown",
      "metadata": {
        "id": "1rXHa-w9JZhb"
      },
      "source": [
        "Import `matplotlib` and create a helper function to plot graphs:"
      ]
    },
    {
      "cell_type": "code",
      "execution_count": null,
      "metadata": {
        "id": "Mp1Z7P9pYRSK"
      },
      "outputs": [],
      "source": [
        "import matplotlib.pyplot as plt\n",
        "\n",
        "\n",
        "def plot_graphs(history, metric):\n",
        "  plt.plot(history.history[metric])\n",
        "  plt.plot(history.history['val_'+metric], '')\n",
        "  plt.xlabel(\"Epochs\")\n",
        "  plt.ylabel(metric)\n",
        "  plt.legend([metric, 'val_'+metric])"
      ]
    },
    {
      "cell_type": "markdown",
      "metadata": {
        "id": "pRmMubr0jrE2"
      },
      "source": [
        "## Loading data\n",
        "\n",
        "\n",
        "The IMDB large movie review dataset is a *binary classification* dataset—all the reviews have either a *positive* or *negative* sentiment.\n",
        "\n",
        "Download the dataset using [TFDS](https://www.tensorflow.org/datasets). See the [loading text tutorial](https://www.tensorflow.org/tutorials/load_data/text) for details on how to load this sort of data manually.\n"
      ]
    },
    {
      "cell_type": "code",
      "source": [
        "batch_size = 32\n",
        "seed = 42"
      ],
      "metadata": {
        "id": "5WC5Pq0OihGG"
      },
      "execution_count": null,
      "outputs": []
    },
    {
      "cell_type": "code",
      "execution_count": null,
      "metadata": {
        "id": "SHRwRoP2nVHX",
        "colab": {
          "base_uri": "https://localhost:8080/"
        },
        "outputId": "ebbf2aef-e81a-428e-e7a0-0d66d8dde8a3"
      },
      "outputs": [
        {
          "output_type": "stream",
          "name": "stdout",
          "text": [
            "Found 3342 files belonging to 3 classes.\n",
            "Using 2674 files for training.\n"
          ]
        }
      ],
      "source": [
        "train_dataset = utils.text_dataset_from_directory(\n",
        "    train_dir,\n",
        "    batch_size=batch_size,\n",
        "    validation_split=0.2,\n",
        "    subset='training',\n",
        "    seed=seed)"
      ]
    },
    {
      "cell_type": "code",
      "source": [
        "validation_dataset = utils.text_dataset_from_directory(\n",
        "    train_dir,\n",
        "    batch_size=batch_size,\n",
        "    validation_split=0.2,\n",
        "    subset='validation',\n",
        "    seed=seed)"
      ],
      "metadata": {
        "colab": {
          "base_uri": "https://localhost:8080/"
        },
        "id": "IQ6B_fWeiV9Q",
        "outputId": "c027fb67-3422-4a07-8749-efeafa521341"
      },
      "execution_count": null,
      "outputs": [
        {
          "output_type": "stream",
          "name": "stdout",
          "text": [
            "Found 3342 files belonging to 3 classes.\n",
            "Using 668 files for validation.\n"
          ]
        }
      ]
    },
    {
      "cell_type": "code",
      "source": [
        "test_dataset = utils.text_dataset_from_directory(\n",
        "    test_dir,\n",
        "    batch_size=batch_size)"
      ],
      "metadata": {
        "colab": {
          "base_uri": "https://localhost:8080/"
        },
        "id": "TbnUgf0XiY_n",
        "outputId": "496770bd-1898-4b53-8abf-ee9f1196f953"
      },
      "execution_count": null,
      "outputs": [
        {
          "output_type": "stream",
          "name": "stdout",
          "text": [
            "Found 1431 files belonging to 3 classes.\n"
          ]
        }
      ]
    },
    {
      "cell_type": "markdown",
      "metadata": {
        "id": "nWA4c2ir7g6p"
      },
      "source": [
        "Initially this returns a dataset of (text, label pairs):"
      ]
    },
    {
      "cell_type": "code",
      "execution_count": null,
      "metadata": {
        "id": "vd4_BGKyurao",
        "colab": {
          "base_uri": "https://localhost:8080/"
        },
        "outputId": "f0f02459-9e00-4e9b-a520-2d81503559ca"
      },
      "outputs": [
        {
          "output_type": "stream",
          "name": "stdout",
          "text": [
            "review:  [b'Gostei muito,\\xc3\\xb3timo aparelho,s\\xc3\\xb3 n\\xc3\\xa3o gostei do carregador por n\\xc3\\xa3o ser formato Brasileiro.Gostei muito do atendimento do vendedor.'\n",
            " b'Produto maravilhoso n\\xc3\\xa3o tenho nada a reclamarE sobre a entrega , comprei em um s\\xc3\\xa1bado ( de feriado ) e na segunda feira j\\xc3\\xa1 estava recebendo , entrega supeeeeeeeeeeeeer r\\xc3\\xa1pida !!!!'\n",
            " b'Chegou no prazo, \\xc3\\xa9 um bom celular. Comprei dois um azul e um branco. Vale a pena!Ponto negativo: Muito baixo o som.E sobre a lojaEu solicitei a nota fiscal junto com o envio, a loja n\\xc3\\xa3o enviou. Nenhum tipo de identifica\\xc3\\xa7\\xc3\\xa3o veio com a caixa, s\\xc3\\xb3 mesmo o celular e meu endere\\xc3\\xa7o. Achei um desrespeito com o cliente. Acaba que n temos nenhum respaldo caso haja problemas, e seja necess\\xc3\\xa1rio trocar.'\n",
            " b'Celular muito bom, c\\xc3\\xa2meras excelentes e processador muito r\\xc3\\xa1pido. \\xc3\\x9anico problema \\xc3\\xa9 que o carregador veio com pino chato, n\\xc3\\xa3o serve na maioria das tomadas, tive que comprar outro.'\n",
            " b'Celular e \\xc3\\xb3timo j\\xc3\\xa1 o conhecia. Oque eu mais gostei foi do vendedor me mandou uma pel\\xc3\\xadcula de brinde e um fone de ouvido. Recomendo a todos o vendedor FATOR K. MUITO OBRIGADO'\n",
            " b'\\xc3\\xa9 realmente um celular muito bom para seu pre\\xc3\\xa7o, nunca tive um celular que me impressionasse assim'\n",
            " b'Do lado t\\xc3\\xa9cnico, \\xc3\\xa9 um \\xc3\\xb3timo aparelho, Xiaomi prezou qualidade de componentes e constru\\xc3\\xa7\\xc3\\xa3o robusta, por ter o case de vidro, a dissipa\\xc3\\xa7\\xc3\\xa3o de calor \\xc3\\xa9 muito boa. Como usu\\xc3\\xa1rio, recomendo muito, bateria com dura\\xc3\\xa7\\xc3\\xa3o de at\\xc3\\xa9 48h com uso excessivo.'\n",
            " b'A c\\xc3\\xa2mera frontal deixa a desejar, e bateria est\\xc3\\xa1 acabando muito r\\xc3\\xa1pido para 4000mA, todas as pe\\xc3\\xa7as vieram funcionando e em \\xc3\\xb3timo estado'\n",
            " b'O celular \\xc3\\xa9 muito lindo, em rela\\xc3\\xa7\\xc3\\xa3o a bateria est\\xc3\\xa1 durando at\\xc3\\xa9 bem mais estou com ele a poucos dias, achei o som para liga\\xc3\\xa7\\xc3\\xb5es um pouco baixa , a c\\xc3\\xa2mera e excelente.'\n",
            " b'Minha irm\\xc3\\xa3 que comprou o produto est\\xc3\\xa1 muito satisfeita, cumpre o que promete. Teve atraso de 3 dias de entrega devido COVID19.'\n",
            " b'\\xc3\\x93timo celular! \\xc3\\x93timo custo benef\\xc3\\xadcio. Super recomendado. A loja mais ainda, adorei!'\n",
            " b'Smartphone com \\xc3\\x93timo custo benef\\xc3\\xadcio. Adorei a qualidade da c\\xc3\\xa2mera e velocidade do celular.'\n",
            " b'Gostei. \\xc3\\x89 bem pr\\xc3\\xa1tico. Recomendo.'\n",
            " b'O celular vem com alguns problemas como propagandas internas no dispositivo, por\\xc3\\xa9m isto \\xc3\\xa9 erro da Xiaomi. As propagandas s\\xc3\\xa3o enganosas, falam que v\\xc3\\xa3o verificar seu dispositivos de v\\xc3\\xadrus por\\xc3\\xa9m ele acaba baixando apps nada haver - como tik tok ou outro app de video com efeitos.'\n",
            " b'Chegou uma semana antes da data, bateria duradoura, jogo pubg sem travar, aplicativos sensacionais.'\n",
            " b'Melhor celular! C\\xc3\\xa2mera maravilhosa, muita mem\\xc3\\xb3ria para o que eu uso, excelente dura\\xc3\\xa7\\xc3\\xa3o da bateria.'\n",
            " b'\\xc3\\x93timo celular! Chegou bem r\\xc3\\xa1pido e realmente \\xc3\\xa9 muito bom! Tem um excelente custo benef\\xc3\\xadcio! Gostei demais!'\n",
            " b'Uso no dia a dia, e achei maravilhoso. Atende muito bem minhas necessidades.'\n",
            " b'Produto de qualidade, com fun\\xc3\\xa7\\xc3\\xb5es que superou as minhas expectativas pra um smartphone intermedi\\xc3\\xa1rio, com um bom processador, n\\xc3\\xa3o trava, e que tem 64 gb de mem\\xc3\\xb3ria podendo expandir com cart\\xc3\\xa3o sd. E uma c\\xc3\\xa2mera fotogr\\xc3\\xa1fica \\xc3\\xb3tima.'\n",
            " b'Melhor celular que j\\xc3\\xa1 tive, c\\xc3\\xa2mera \\xc3\\xb3tima, ferramentas acess\\xc3\\xadveis para o desempenho do celular. Maravilhoso'\n",
            " b'Entrega muito r\\xc3\\xa1pido, presente de anivers\\xc3\\xa1rio para minha m\\xc3\\xa3e, ela adorou, smartphone \\xc3\\xa9 muito bonito.'\n",
            " b'Nada a reclamar, o produto chegou em perfeito estado, atendendo minhas expectativas. Entrega r\\xc3\\xa1pida. Recomendo.'\n",
            " b'Gostei de tudo no aparelho, estou muito feliz com o produto.'\n",
            " b'Chegou muito r\\xc3\\xa1pido. Agrade\\xc3\\xa7o ao vendedor por ter mandado uma pel\\xc3\\xadcula junto. Produto veio como esperado s\\xc3\\xb3 n\\xc3\\xa3o \\xc3\\xa9 exatamente uma vers\\xc3\\xa3o global (o carregador n\\xc3\\xa3o \\xc3\\xa9 o padr\\xc3\\xa3o brasileiro) mas n\\xc3\\xa3o houve problema em rela\\xc3\\xa7\\xc3\\xa3o \\xc3\\xa0 isso. Tamb\\xc3\\xa9m veio acompanhado com nota fiscal.'\n",
            " b'Excelente Celular, e o vendedor est\\xc3\\xa1 de parab\\xc3\\xa9ns, entrega super rapida.'\n",
            " b'Muito bom pra jogos, roda jogos pesados muito bem, BA teria dura um dia e meio sem problemas. \\xc3\\x9anico ponto negativo, esquenta demais depois de 20 ou 30 min jogando, mas recomendo muito.'\n",
            " b'O produto correspondeu as minhas espectativas, a pesar do carregador ser de pino quadrado as inves de redondo como as tomadas da minha casa, tive que comprar um adptador. A entrega foi super rapida, pois pedi o produto dia 6 de marco e dia 10 ele foi entregue, sendo que a previsao era do dia 19 a 24 de marco. Super recomendo. Esse eu comprei para o meu filho,e em breve comprarei o meu . O bom e que agora ja sei de quem comprar,e nao vou precisar pesquisar tanto um vendedor confiavel.'\n",
            " b'O celular \\xc3\\xa9 muito bom, mas senti uma diferen\\xc3\\xa7a na c\\xc3\\xa2mera comparado ao meu celular anterior, que era um iPhone 5s. Apesar disso, considero o custo benef\\xc3\\xadcio \\xc3\\xb3timo!'\n",
            " b'Muito bom pode comprar,por\\xc3\\xa9m o carregador n\\xc3\\xa3o vem padr\\xc3\\xa3o global vem americano'\n",
            " b'Telefone excelente e com um pre\\xc3\\xa7o justo!! O aparelho tem v\\xc3\\xa1rios pontos positivos, mas o que mais est\\xc3\\xa1 me chamando a aten\\xc3\\xa7\\xc3\\xa3o \\xc3\\xa9 a durabilidade da bateria, \\xc3\\xa9 simplesmente sensacional!!'\n",
            " b'veio muito bem embalado pel\\xc3\\xadcula capinha nota fiscal carregador cabo tudo certinho parab\\xc3\\xa9ns company star \\xc3\\xb3tima loja'\n",
            " b'Excelente produto super recomendo comprei para o meu filho e ele adorou muito.']\n",
            "label:  [1 1 1 1 1 1 1 1 1 1 1 1 1 1 1 1 1 1 1 1 1 1 1 1 1 1 1 1 1 1 1 1]\n"
          ]
        }
      ],
      "source": [
        "for example, label in train_dataset.take(1):\n",
        "  print('review: ', example.numpy())\n",
        "  print('label: ', label.numpy())"
      ]
    },
    {
      "cell_type": "code",
      "source": [
        "for i, label in enumerate(train_dataset.class_names):\n",
        "  print(\"Label\", i, \"corresponds to\", label)"
      ],
      "metadata": {
        "colab": {
          "base_uri": "https://localhost:8080/"
        },
        "id": "0h1brcK3zgf8",
        "outputId": "4d7774c9-81f8-43bf-9fa9-7d8ebecc4efc"
      },
      "execution_count": null,
      "outputs": [
        {
          "output_type": "stream",
          "name": "stdout",
          "text": [
            "Label 0 corresponds to Bad\n",
            "Label 1 corresponds to Good\n",
            "Label 2 corresponds to Neutral\n"
          ]
        }
      ]
    },
    {
      "cell_type": "markdown",
      "metadata": {
        "id": "s5eWCo88voPY"
      },
      "source": [
        "## Create the text encoder"
      ]
    },
    {
      "cell_type": "markdown",
      "metadata": {
        "id": "TFevcItw15P_"
      },
      "source": [
        "The raw text loaded by `tfds` needs to be processed before it can be used in a model. The simplest way to process text for training is using the `TextVectorization` layer. This layer has many capabilities, but this tutorial sticks to the default behavior.\n",
        "\n",
        "Create the layer, and pass the dataset's text to the layer's `.adapt` method:"
      ]
    },
    {
      "cell_type": "code",
      "execution_count": null,
      "metadata": {
        "id": "uC25Lu1Yvuqy"
      },
      "outputs": [],
      "source": [
        "VOCAB_SIZE = 10000\n",
        "encoder = tf.keras.layers.TextVectorization(\n",
        "    max_tokens=VOCAB_SIZE)\n",
        "encoder.adapt(train_dataset.map(lambda text, label: text))"
      ]
    },
    {
      "cell_type": "markdown",
      "metadata": {
        "id": "IuQzVBbe3Ldu"
      },
      "source": [
        "The `.adapt` method sets the layer's vocabulary. Here are the first 20 tokens. After the padding and unknown tokens they're sorted by frequency: "
      ]
    },
    {
      "cell_type": "code",
      "execution_count": null,
      "metadata": {
        "id": "tBoyjjWg0Ac9",
        "colab": {
          "base_uri": "https://localhost:8080/"
        },
        "outputId": "63c4c357-2a72-4d68-9975-ba15d06c19f8"
      },
      "outputs": [
        {
          "output_type": "execute_result",
          "data": {
            "text/plain": [
              "array(['', '[UNK]', 'o', 'e', 'a', 'de', 'muito', 'que', 'é', 'com',\n",
              "       'não', 'celular', 'do', 'um', 'produto', 'chegou', 'em', 'bom',\n",
              "       'aparelho', 'da'], dtype='<U33')"
            ]
          },
          "metadata": {},
          "execution_count": 86
        }
      ],
      "source": [
        "vocab = np.array(encoder.get_vocabulary())\n",
        "vocab[:20]"
      ]
    },
    {
      "cell_type": "markdown",
      "metadata": {
        "id": "mjId5pua3jHQ"
      },
      "source": [
        "Once the vocabulary is set, the layer can encode text into indices. The tensors of indices are 0-padded to the longest sequence in the batch (unless you set a fixed `output_sequence_length`):"
      ]
    },
    {
      "cell_type": "code",
      "execution_count": null,
      "metadata": {
        "id": "RGc7C9WiwRWs",
        "colab": {
          "base_uri": "https://localhost:8080/"
        },
        "outputId": "b76a5db5-4fb1-48d8-ef12-eaf531aea894"
      },
      "outputs": [
        {
          "output_type": "execute_result",
          "data": {
            "text/plain": [
              "array([[  69, 3941, 5758,   10,   69,   12,   44,   50,   10,   88, 1724,\n",
              "        5511,    6,   12,  184,   12,   42,    0,    0,    0,    0,    0,\n",
              "           0,    0,    0,    0,    0,    0,    0,    0,    0,    0,    0,\n",
              "           0,    0,    0,    0,    0,    0,    0,    0,    0,    0,    0,\n",
              "           0,    0,    0,    0,    0,    0,    0,    0,    0,    0,    0,\n",
              "           0,    0,    0,    0,    0,    0,    0,    0,    0,    0,    0,\n",
              "           0,    0,    0,    0,    0,    0,    0,    0,    0,    0,    0,\n",
              "           0,    0,    0,    0,    0,    0,    0,    0,    0,    0,    0,\n",
              "           0,    0,    0,    0],\n",
              "       [  14,  131,   10,  109,   98,    4, 3348,  219,    4,   32,   60,\n",
              "          16,   13,  832,    5, 1418,    3,   31,  312,  439,   49,  126,\n",
              "        1336,   32, 2999,   95,    0,    0,    0,    0,    0,    0,    0,\n",
              "           0,    0,    0,    0,    0,    0,    0,    0,    0,    0,    0,\n",
              "           0,    0,    0,    0,    0,    0,    0,    0,    0,    0,    0,\n",
              "           0,    0,    0,    0,    0,    0,    0,    0,    0,    0,    0,\n",
              "           0,    0,    0,    0,    0,    0,    0,    0,    0,    0,    0,\n",
              "           0,    0,    0,    0,    0,    0,    0,    0,    0,    0,    0,\n",
              "           0,    0,    0,    0],\n",
              "       [  15,   21,   34,    8,   13,   17,   11,   60,  162,   13,  349,\n",
              "           3,   13,  621,  130,    4, 3728,  325,    6,  378,    2, 1584,\n",
              "         219,    4, 4112,  632,    4,   55,   67,  299,    9,    2,  377,\n",
              "           4,  108,   10,  366,  143,  426,    5, 2237,   26,    9,    4,\n",
              "         243,   61,   80,    2,   11,    3,   62, 1755,  159,   13, 5034,\n",
              "           9,    2,  548,  822,    7,  448, 1112,  143, 2026,  288, 2245,\n",
              "         181,    3,  291,  601,  629,    0,    0,    0,    0,    0,    0,\n",
              "           0,    0,    0,    0,    0,    0,    0,    0,    0,    0,    0,\n",
              "           0,    0,    0,    0]])"
            ]
          },
          "metadata": {},
          "execution_count": 87
        }
      ],
      "source": [
        "encoded_example = encoder(example)[:3].numpy()\n",
        "encoded_example"
      ]
    },
    {
      "cell_type": "markdown",
      "metadata": {
        "id": "F5cjz0bS39IN"
      },
      "source": [
        "With the default settings, the process is not completely reversible. There are three main reasons for that:\n",
        "\n",
        "1. The default value for `preprocessing.TextVectorization`'s `standardize` argument is `\"lower_and_strip_punctuation\"`.\n",
        "2. The limited vocabulary size and lack of character-based fallback results in some unknown tokens."
      ]
    },
    {
      "cell_type": "code",
      "execution_count": null,
      "metadata": {
        "id": "N_tD0QY5wXaK",
        "colab": {
          "base_uri": "https://localhost:8080/"
        },
        "outputId": "3f8d958e-8340-4716-b1be-51e983e23321"
      },
      "outputs": [
        {
          "output_type": "stream",
          "name": "stdout",
          "text": [
            "Original:  b'Gostei muito,\\xc3\\xb3timo aparelho,s\\xc3\\xb3 n\\xc3\\xa3o gostei do carregador por n\\xc3\\xa3o ser formato Brasileiro.Gostei muito do atendimento do vendedor.'\n",
            "Round-trip:  gostei muitoótimo aparelhosó não gostei do carregador por não ser formato brasileirogostei muito do atendimento do vendedor                                                                           \n",
            "\n",
            "Original:  b'Produto maravilhoso n\\xc3\\xa3o tenho nada a reclamarE sobre a entrega , comprei em um s\\xc3\\xa1bado ( de feriado ) e na segunda feira j\\xc3\\xa1 estava recebendo , entrega supeeeeeeeeeeeeer r\\xc3\\xa1pida !!!!'\n",
            "Round-trip:  produto maravilhoso não tenho nada a reclamare sobre a entrega comprei em um sábado de feriado e na segunda feira já estava recebendo entrega supeeeeeeeeeeeeer rápida                                                                  \n",
            "\n",
            "Original:  b'Chegou no prazo, \\xc3\\xa9 um bom celular. Comprei dois um azul e um branco. Vale a pena!Ponto negativo: Muito baixo o som.E sobre a lojaEu solicitei a nota fiscal junto com o envio, a loja n\\xc3\\xa3o enviou. Nenhum tipo de identifica\\xc3\\xa7\\xc3\\xa3o veio com a caixa, s\\xc3\\xb3 mesmo o celular e meu endere\\xc3\\xa7o. Achei um desrespeito com o cliente. Acaba que n temos nenhum respaldo caso haja problemas, e seja necess\\xc3\\xa1rio trocar.'\n",
            "Round-trip:  chegou no prazo é um bom celular comprei dois um azul e um branco vale a penaponto negativo muito baixo o some sobre a lojaeu solicitei a nota fiscal junto com o envio a loja não enviou nenhum tipo de identificação veio com a caixa só mesmo o celular e meu endereço achei um desrespeito com o cliente acaba que n temos nenhum respaldo caso haja problemas e seja necessário trocar                     \n",
            "\n"
          ]
        }
      ],
      "source": [
        "for n in range(3):\n",
        "  print(\"Original: \", example[n].numpy())\n",
        "  print(\"Round-trip: \", \" \".join(vocab[encoded_example[n]]))\n",
        "  print()"
      ]
    },
    {
      "cell_type": "markdown",
      "metadata": {
        "id": "bjUqGVBxGw-t"
      },
      "source": [
        "## Create the model"
      ]
    },
    {
      "cell_type": "markdown",
      "metadata": {
        "id": "W7zsmInBOCPO"
      },
      "source": [
        "![A drawing of the information flow in the model](https://github.com/tensorflow/text/blob/master/docs/tutorials/images/bidirectional.png?raw=1)"
      ]
    },
    {
      "cell_type": "markdown",
      "metadata": {
        "id": "bgs6nnSTGw-t"
      },
      "source": [
        "Above is a diagram of the model. \n",
        "\n",
        "1. This model can be build as a `tf.keras.Sequential`.\n",
        "\n",
        "2. The first layer is the `encoder`, which converts the text to a sequence of token indices.\n",
        "\n",
        "3. After the encoder is an embedding layer. An embedding layer stores one vector per word. When called, it converts the sequences of word indices to sequences of vectors. These vectors are trainable. After training (on enough data), words with similar meanings often have similar vectors.\n",
        "\n",
        "  This index-lookup is much more efficient than the equivalent operation of passing a one-hot encoded vector through a `tf.keras.layers.Dense` layer.\n",
        "\n",
        "4. A recurrent neural network (RNN) processes sequence input by iterating through the elements. RNNs pass the outputs from one timestep to their input on the next timestep.\n",
        "\n",
        "  The `tf.keras.layers.Bidirectional` wrapper can also be used with an RNN layer. This propagates the input forward and backwards through the RNN layer and then concatenates the final output. \n",
        "\n",
        "  * The main advantage of a bidirectional RNN is that the signal from the beginning of the input doesn't need to be processed all the way through every timestep to affect the output.  \n",
        "\n",
        "  * The main disadvantage of a bidirectional RNN is that you can't efficiently stream predictions as words are being added to the end.\n",
        "\n",
        "5. After the RNN has converted the sequence to a single vector the two `layers.Dense` do some final processing, and convert from this vector representation to a single logit as the classification output. \n"
      ]
    },
    {
      "cell_type": "markdown",
      "metadata": {
        "id": "V4fodCI7soQi"
      },
      "source": [
        "The code to implement this is below:"
      ]
    },
    {
      "cell_type": "code",
      "execution_count": null,
      "metadata": {
        "id": "LwfoBkmRYcP3"
      },
      "outputs": [],
      "source": [
        "model = tf.keras.Sequential([\n",
        "    encoder,\n",
        "    tf.keras.layers.Embedding(\n",
        "        input_dim=len(encoder.get_vocabulary()),\n",
        "        output_dim=64,\n",
        "        # Use masking to handle the variable sequence lengths\n",
        "        mask_zero=True),\n",
        "    tf.keras.layers.Bidirectional(tf.keras.layers.LSTM(64)),\n",
        "    tf.keras.layers.Dense(64, activation='relu'),\n",
        "    tf.keras.layers.Dense(3, activation='softmax')\n",
        "])"
      ]
    },
    {
      "cell_type": "markdown",
      "metadata": {
        "id": "QIGmIGkkouUb"
      },
      "source": [
        "Please note that Keras sequential model is used here since all the layers in the model only have single input and produce single output. In case you want to use stateful RNN layer, you might want to build your model with Keras functional API or model subclassing so that you can retrieve and reuse the RNN layer states. Please check [Keras RNN guide](https://www.tensorflow.org/guide/keras/rnn#rnn_state_reuse) for more details."
      ]
    },
    {
      "cell_type": "markdown",
      "metadata": {
        "id": "kF-PsCk1LwjY"
      },
      "source": [
        "The embedding layer [uses masking](https://www.tensorflow.org/guide/keras/masking_and_padding) to handle the varying sequence-lengths. All the layers after the `Embedding` support masking:"
      ]
    },
    {
      "cell_type": "code",
      "execution_count": null,
      "metadata": {
        "id": "87a8-CwfKebw",
        "colab": {
          "base_uri": "https://localhost:8080/"
        },
        "outputId": "1b9d186f-e78e-4fbb-cbba-692aae62a7b3"
      },
      "outputs": [
        {
          "output_type": "stream",
          "name": "stdout",
          "text": [
            "[False, True, True, True, True]\n"
          ]
        }
      ],
      "source": [
        "print([layer.supports_masking for layer in model.layers])"
      ]
    },
    {
      "cell_type": "markdown",
      "metadata": {
        "id": "ZlS0iaUIWLpI"
      },
      "source": [
        "To confirm that this works as expected, evaluate a sentence twice. First, alone so there's no padding to mask:"
      ]
    },
    {
      "cell_type": "code",
      "execution_count": null,
      "metadata": {
        "id": "O41gw3KfWHus",
        "colab": {
          "base_uri": "https://localhost:8080/"
        },
        "outputId": "7308339c-de91-4987-dca0-21ddadf1185a"
      },
      "outputs": [
        {
          "output_type": "stream",
          "name": "stdout",
          "text": [
            "WARNING:tensorflow:5 out of the last 11 calls to <function Model.make_predict_function.<locals>.predict_function at 0x7fc049026f80> triggered tf.function retracing. Tracing is expensive and the excessive number of tracings could be due to (1) creating @tf.function repeatedly in a loop, (2) passing tensors with different shapes, (3) passing Python objects instead of tensors. For (1), please define your @tf.function outside of the loop. For (2), @tf.function has experimental_relax_shapes=True option that relaxes argument shapes that can avoid unnecessary retracing. For (3), please refer to https://www.tensorflow.org/guide/function#controlling_retracing and https://www.tensorflow.org/api_docs/python/tf/function for  more details.\n",
            "[0.33056    0.3365342  0.33290574]\n"
          ]
        }
      ],
      "source": [
        "# predict on a sample text without padding.\n",
        "\n",
        "sample_text = ('O celular é muito bom. A bateria e a tela '\n",
        "               'são incríveis. Recomendo 100%.')\n",
        "predictions = model.predict(np.array([sample_text]))\n",
        "print(predictions[0])"
      ]
    },
    {
      "cell_type": "markdown",
      "metadata": {
        "id": "K0VQmGnEWcuz"
      },
      "source": [
        "Now, evaluate it again in a batch with a longer sentence. The result should be identical:"
      ]
    },
    {
      "cell_type": "code",
      "execution_count": null,
      "metadata": {
        "id": "UIgpuTeFNDzq",
        "colab": {
          "base_uri": "https://localhost:8080/"
        },
        "outputId": "e48f2fc2-ff9c-4ea9-b7ff-8a2cd61ff0cf"
      },
      "outputs": [
        {
          "output_type": "stream",
          "name": "stdout",
          "text": [
            "[0.33056    0.3365342  0.33290574]\n"
          ]
        }
      ],
      "source": [
        "# predict on a sample text with padding\n",
        "\n",
        "padding = \"a \" * 2000\n",
        "predictions = model.predict(np.array([sample_text, padding]))\n",
        "print(predictions[0])"
      ]
    },
    {
      "cell_type": "markdown",
      "metadata": {
        "id": "sRI776ZcH3Tf"
      },
      "source": [
        "Compile the Keras model to configure the training process:"
      ]
    },
    {
      "cell_type": "code",
      "execution_count": null,
      "metadata": {
        "id": "kj2xei41YZjC"
      },
      "outputs": [],
      "source": [
        "model.compile(loss=tf.keras.losses.SparseCategoricalCrossentropy(from_logits=False),\n",
        "              optimizer=tf.keras.optimizers.Adam(1e-4),\n",
        "              metrics=['accuracy'])"
      ]
    },
    {
      "cell_type": "markdown",
      "metadata": {
        "id": "zIwH3nto596k"
      },
      "source": [
        "## Train the model"
      ]
    },
    {
      "cell_type": "code",
      "execution_count": null,
      "metadata": {
        "id": "hw86wWS4YgR2",
        "colab": {
          "base_uri": "https://localhost:8080/"
        },
        "outputId": "cdf5ff53-51fe-442a-ed22-8ede9eafb35d"
      },
      "outputs": [
        {
          "output_type": "stream",
          "name": "stdout",
          "text": [
            "Epoch 1/10\n",
            "84/84 [==============================] - 22s 123ms/step - loss: 0.9642 - accuracy: 0.9132 - val_loss: 0.5994 - val_accuracy: 0.9240\n",
            "Epoch 2/10\n",
            "84/84 [==============================] - 7s 85ms/step - loss: 0.4028 - accuracy: 0.9361 - val_loss: 0.3876 - val_accuracy: 0.9240\n",
            "Epoch 3/10\n",
            "84/84 [==============================] - 7s 84ms/step - loss: 0.2969 - accuracy: 0.9361 - val_loss: 0.3112 - val_accuracy: 0.9281\n",
            "Epoch 4/10\n",
            "84/84 [==============================] - 7s 86ms/step - loss: 0.2583 - accuracy: 0.9361 - val_loss: 0.3174 - val_accuracy: 0.9187\n",
            "Epoch 5/10\n",
            "84/84 [==============================] - 8s 86ms/step - loss: 0.2337 - accuracy: 0.9361 - val_loss: 0.2856 - val_accuracy: 0.9240\n",
            "Epoch 6/10\n",
            "84/84 [==============================] - 8s 88ms/step - loss: 0.2080 - accuracy: 0.9364 - val_loss: 0.2664 - val_accuracy: 0.9229\n",
            "Epoch 7/10\n",
            "84/84 [==============================] - 8s 88ms/step - loss: 0.1788 - accuracy: 0.9364 - val_loss: 0.2495 - val_accuracy: 0.9240\n",
            "Epoch 8/10\n",
            "84/84 [==============================] - 8s 87ms/step - loss: 0.1518 - accuracy: 0.9432 - val_loss: 0.2376 - val_accuracy: 0.9271\n",
            "Epoch 9/10\n",
            "84/84 [==============================] - 8s 87ms/step - loss: 0.1301 - accuracy: 0.9551 - val_loss: 0.2280 - val_accuracy: 0.9365\n",
            "Epoch 10/10\n",
            "84/84 [==============================] - 8s 87ms/step - loss: 0.1117 - accuracy: 0.9634 - val_loss: 0.2603 - val_accuracy: 0.9302\n"
          ]
        }
      ],
      "source": [
        "history = model.fit(train_dataset, epochs=10,\n",
        "                    validation_data=test_dataset,\n",
        "                    validation_steps=30)"
      ]
    },
    {
      "cell_type": "code",
      "execution_count": null,
      "metadata": {
        "id": "BaNbXi43YgUT",
        "colab": {
          "base_uri": "https://localhost:8080/"
        },
        "outputId": "bf2d0c62-1f2a-4a48-9c33-c7bfb54c86f6"
      },
      "outputs": [
        {
          "output_type": "stream",
          "name": "stdout",
          "text": [
            "45/45 [==============================] - 2s 42ms/step - loss: 0.2604 - accuracy: 0.9322\n",
            "Test Loss: 0.26037782430648804\n",
            "Test Accuracy: 0.9322152137756348\n"
          ]
        }
      ],
      "source": [
        "test_loss, test_acc = model.evaluate(test_dataset)\n",
        "\n",
        "print('Test Loss:', test_loss)\n",
        "print('Test Accuracy:', test_acc)"
      ]
    },
    {
      "cell_type": "code",
      "execution_count": null,
      "metadata": {
        "id": "OZmwt_mzaQJk",
        "colab": {
          "base_uri": "https://localhost:8080/",
          "height": 494
        },
        "outputId": "16aed45a-8d54-44cf-88c4-b1c27676beda"
      },
      "outputs": [
        {
          "output_type": "execute_result",
          "data": {
            "text/plain": [
              "(0.0, 1.006847146898508)"
            ]
          },
          "metadata": {},
          "execution_count": 96
        },
        {
          "output_type": "display_data",
          "data": {
            "text/plain": [
              "<Figure size 1152x576 with 2 Axes>"
            ],
            "image/png": "[encoded data removed]"
          },
          "metadata": {
            "needs_background": "light"
          }
        }
      ],
      "source": [
        "plt.figure(figsize=(16, 8))\n",
        "plt.subplot(1, 2, 1)\n",
        "plot_graphs(history, 'accuracy')\n",
        "plt.ylim(None, 1)\n",
        "plt.subplot(1, 2, 2)\n",
        "plot_graphs(history, 'loss')\n",
        "plt.ylim(0, None)"
      ]
    },
    {
      "cell_type": "markdown",
      "metadata": {
        "id": "DwSE_386uhxD"
      },
      "source": [
        "Run a prediction on a new sentence:\n",
        "\n",
        "If the prediction is >= 0.0, it is positive else it is negative."
      ]
    },
    {
      "cell_type": "code",
      "execution_count": null,
      "metadata": {
        "id": "ZXgfQSgRW6zU"
      },
      "outputs": [],
      "source": [
        "sample_text = ('Smartphone excelente, bom custo beneficio. '\n",
        "               'Bateria dura bem e tela espetacular')\n",
        "predictions = model.predict(np.array([sample_text]))"
      ]
    },
    {
      "cell_type": "code",
      "source": [
        "predictions"
      ],
      "metadata": {
        "colab": {
          "base_uri": "https://localhost:8080/"
        },
        "id": "wdyvKXMtwTod",
        "outputId": "64d7aca3-4b35-4be7-eb1e-15df2791afc0"
      },
      "execution_count": null,
      "outputs": [
        {
          "output_type": "execute_result",
          "data": {
            "text/plain": [
              "array([[8.1951940e-04, 9.9829811e-01, 8.8239956e-04]], dtype=float32)"
            ]
          },
          "metadata": {},
          "execution_count": 98
        }
      ]
    },
    {
      "cell_type": "markdown",
      "metadata": {
        "id": "7g1evcaRpTKm"
      },
      "source": [
        "## Stack two or more LSTM layers\n",
        "\n",
        "Keras recurrent layers have two available modes that are controlled by the `return_sequences` constructor argument:\n",
        "\n",
        "* If `False` it returns only the last output for each input sequence (a 2D tensor of shape (batch_size, output_features)). This is the default, used in the previous model.\n",
        "\n",
        "* If `True` the full sequences of successive outputs for each timestep is returned (a 3D tensor of shape `(batch_size, timesteps, output_features)`).\n",
        "\n",
        "Here is what the flow of information looks like with `return_sequences=True`:\n",
        "\n",
        "![layered_bidirectional](https://github.com/tensorflow/text/blob/master/docs/tutorials/images/layered_bidirectional.png?raw=1)"
      ]
    },
    {
      "cell_type": "markdown",
      "metadata": {
        "id": "wbSClCrG1z8l"
      },
      "source": [
        "The interesting thing about using an `RNN` with `return_sequences=True` is that the output still has 3-axes, like the input, so it can be passed to another RNN layer, like this:"
      ]
    },
    {
      "cell_type": "code",
      "execution_count": null,
      "metadata": {
        "id": "jo1jjO3vn0jo"
      },
      "outputs": [],
      "source": [
        "model = tf.keras.Sequential([\n",
        "    encoder,\n",
        "    tf.keras.layers.Embedding(len(encoder.get_vocabulary()), 64, mask_zero=True),\n",
        "    tf.keras.layers.Bidirectional(tf.keras.layers.LSTM(64,  return_sequences=True)),\n",
        "    tf.keras.layers.Bidirectional(tf.keras.layers.LSTM(32)),\n",
        "    tf.keras.layers.Dense(64, activation='relu'),\n",
        "    tf.keras.layers.Dropout(0.5),\n",
        "    tf.keras.layers.Dense(3, activation='softmax')\n",
        "])"
      ]
    },
    {
      "cell_type": "code",
      "execution_count": null,
      "metadata": {
        "id": "hEPV5jVGp-is"
      },
      "outputs": [],
      "source": [
        "model.compile(loss=tf.keras.losses.SparseCategoricalCrossentropy(from_logits=False),\n",
        "              optimizer=tf.keras.optimizers.Adam(1e-4),\n",
        "              metrics=['accuracy'])"
      ]
    },
    {
      "cell_type": "code",
      "execution_count": null,
      "metadata": {
        "id": "LeSE-YjdqAeN",
        "colab": {
          "base_uri": "https://localhost:8080/"
        },
        "outputId": "f6b4f48a-4840-48c4-a4c5-aaf73f44f30a"
      },
      "outputs": [
        {
          "output_type": "stream",
          "name": "stdout",
          "text": [
            "Epoch 1/10\n",
            "84/84 [==============================] - 36s 209ms/step - loss: 0.9541 - accuracy: 0.9028 - val_loss: 0.5600 - val_accuracy: 0.9260\n",
            "Epoch 2/10\n",
            "84/84 [==============================] - 12s 139ms/step - loss: 0.4014 - accuracy: 0.9361 - val_loss: 0.3733 - val_accuracy: 0.9240\n",
            "Epoch 3/10\n",
            "84/84 [==============================] - 12s 139ms/step - loss: 0.3291 - accuracy: 0.9361 - val_loss: 0.3398 - val_accuracy: 0.9250\n",
            "Epoch 4/10\n",
            "84/84 [==============================] - 12s 138ms/step - loss: 0.2986 - accuracy: 0.9361 - val_loss: 0.3142 - val_accuracy: 0.9250\n",
            "Epoch 5/10\n",
            "84/84 [==============================] - 12s 138ms/step - loss: 0.2641 - accuracy: 0.9361 - val_loss: 0.2818 - val_accuracy: 0.9240\n",
            "Epoch 6/10\n",
            "84/84 [==============================] - 12s 136ms/step - loss: 0.2108 - accuracy: 0.9372 - val_loss: 0.2440 - val_accuracy: 0.9271\n",
            "Epoch 7/10\n",
            "84/84 [==============================] - 12s 140ms/step - loss: 0.1623 - accuracy: 0.9461 - val_loss: 0.2373 - val_accuracy: 0.9229\n",
            "Epoch 8/10\n",
            "84/84 [==============================] - 12s 139ms/step - loss: 0.1440 - accuracy: 0.9589 - val_loss: 0.2309 - val_accuracy: 0.9302\n",
            "Epoch 9/10\n",
            "84/84 [==============================] - 12s 141ms/step - loss: 0.1258 - accuracy: 0.9645 - val_loss: 0.2654 - val_accuracy: 0.9312\n",
            "Epoch 10/10\n",
            "84/84 [==============================] - 12s 139ms/step - loss: 0.1115 - accuracy: 0.9675 - val_loss: 0.2513 - val_accuracy: 0.9323\n"
          ]
        }
      ],
      "source": [
        "history = model.fit(train_dataset, epochs=10,\n",
        "                    validation_data=test_dataset,\n",
        "                    validation_steps=30)"
      ]
    },
    {
      "cell_type": "code",
      "execution_count": null,
      "metadata": {
        "id": "_LdwilM1qPM3",
        "colab": {
          "base_uri": "https://localhost:8080/"
        },
        "outputId": "2e0ec6a7-ae07-43e8-dc1a-e4b78ace5c24"
      },
      "outputs": [
        {
          "output_type": "stream",
          "name": "stdout",
          "text": [
            "45/45 [==============================] - 3s 53ms/step - loss: 0.2448 - accuracy: 0.9343\n",
            "Test Loss: 0.2448301613330841\n",
            "Test Accuracy: 0.9343116879463196\n"
          ]
        }
      ],
      "source": [
        "test_loss, test_acc = model.evaluate(test_dataset)\n",
        "\n",
        "print('Test Loss:', test_loss)\n",
        "print('Test Accuracy:', test_acc)"
      ]
    },
    {
      "cell_type": "code",
      "execution_count": null,
      "metadata": {
        "id": "ykUKnAoqbycW",
        "colab": {
          "base_uri": "https://localhost:8080/"
        },
        "outputId": "64871c4f-f67e-4a3b-f3bf-f03d4789edb7"
      },
      "outputs": [
        {
          "output_type": "stream",
          "name": "stdout",
          "text": [
            "[[0.31614915 0.40849414 0.2753567 ]]\n"
          ]
        }
      ],
      "source": [
        "# predict on a sample text without padding.\n",
        "\n",
        "sample_text = ('O Smartphone veio com problema. Terrível.')\n",
        "predictions = model.predict(np.array([sample_text]))\n",
        "print(predictions)"
      ]
    },
    {
      "cell_type": "code",
      "execution_count": null,
      "metadata": {
        "id": "_YYub0EDtwCu",
        "colab": {
          "base_uri": "https://localhost:8080/",
          "height": 370
        },
        "outputId": "2a9a104a-ef41-4af5-e476-7fc61a64eccc"
      },
      "outputs": [
        {
          "output_type": "display_data",
          "data": {
            "text/plain": [
              "<Figure size 1152x432 with 2 Axes>"
            ],
            "image/png": "[encoded data removed]"
          },
          "metadata": {
            "needs_background": "light"
          }
        }
      ],
      "source": [
        "plt.figure(figsize=(16, 6))\n",
        "plt.subplot(1, 2, 1)\n",
        "plot_graphs(history, 'accuracy')\n",
        "plt.subplot(1, 2, 2)\n",
        "plot_graphs(history, 'loss')"
      ]
    },
    {
      "cell_type": "markdown",
      "metadata": {
        "id": "9xvpE3BaGw_V"
      },
      "source": [
        "Check out other existing recurrent layers such as [GRU layers](https://www.tensorflow.org/api_docs/python/tf/keras/layers/GRU).\n",
        "\n",
        "If you're interestied in building custom RNNs, see the [Keras RNN Guide](https://www.tensorflow.org/guide/keras/rnn).\n"
      ]
    }
  ],
  "metadata": {
    "accelerator": "GPU",
    "colab": {
      "collapsed_sections": [],
      "name": "text_classification_lstm.ipynb",
      "provenance": [],
      "include_colab_link": true
    },
    "kernelspec": {
      "display_name": "Python 3",
      "name": "python3"
    }
  },
  "nbformat": 4,
  "nbformat_minor": 0
}