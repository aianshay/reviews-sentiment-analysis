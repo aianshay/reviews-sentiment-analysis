{
  "cells": [
    {
      "cell_type": "markdown",
      "metadata": {
        "id": "view-in-github",
        "colab_type": "text"
      },
      "source": [
        "<a href=\"https://colab.research.google.com/github/aianshay/reviews-sentiment-analysis/blob/main/lstm.ipynb\" target=\"_parent\"><img src=\"https://colab.research.google.com/assets/colab-badge.svg\" alt=\"Open In Colab\"/></a>"
      ]
    },
    {
      "cell_type": "markdown",
      "metadata": {
        "id": "9TnJztDZGw-n"
      },
      "source": [
        "# Text classification with an RNN"
      ]
    },
    {
      "cell_type": "markdown",
      "metadata": {
        "id": "_2VQo4bajwUU"
      },
      "source": [
        "## Setup"
      ]
    },
    {
      "cell_type": "code",
      "execution_count": 1,
      "metadata": {
        "id": "z682XYsrjkY9"
      },
      "outputs": [],
      "source": [
        "import numpy as np\n",
        "import tensorflow as tf\n",
        "from tensorflow.keras import utils"
      ]
    },
    {
      "cell_type": "code",
      "source": [
        "from google.colab import drive\n",
        "drive.mount('/content/drive')"
      ],
      "metadata": {
        "colab": {
          "base_uri": "https://localhost:8080/"
        },
        "id": "dWCvP7B9fWcz",
        "outputId": "d04e152d-e9b4-4ce9-a54f-1d2990209bc5"
      },
      "execution_count": 2,
      "outputs": [
        {
          "output_type": "stream",
          "name": "stdout",
          "text": [
            "Mounted at /content/drive\n"
          ]
        }
      ]
    },
    {
      "cell_type": "code",
      "source": [
        "train_dir = '/content/drive/MyDrive/data/train'\n",
        "test_dir = '/content/drive/MyDrive/data/test'"
      ],
      "metadata": {
        "id": "7uF-kp7Of5cP"
      },
      "execution_count": 3,
      "outputs": []
    },
    {
      "cell_type": "markdown",
      "metadata": {
        "id": "1rXHa-w9JZhb"
      },
      "source": [
        "Import `matplotlib` and create a helper function to plot graphs:"
      ]
    },
    {
      "cell_type": "code",
      "execution_count": 4,
      "metadata": {
        "id": "Mp1Z7P9pYRSK"
      },
      "outputs": [],
      "source": [
        "import matplotlib.pyplot as plt\n",
        "\n",
        "\n",
        "def plot_graphs(history, metric):\n",
        "  plt.plot(history.history[metric])\n",
        "  plt.plot(history.history['val_'+metric], '')\n",
        "  plt.xlabel(\"Epochs\")\n",
        "  plt.ylabel(metric)\n",
        "  plt.legend([metric, 'val_'+metric])"
      ]
    },
    {
      "cell_type": "markdown",
      "metadata": {
        "id": "pRmMubr0jrE2"
      },
      "source": [
        "## Loading data\n",
        "\n",
        "\n",
        "The data is stored in two folders: `train` and `test`. To read it, we will use TF's `text_dataset_from_directory` function.\n"
      ]
    },
    {
      "cell_type": "code",
      "source": [
        "batch_size = 32\n",
        "seed = 42"
      ],
      "metadata": {
        "id": "5WC5Pq0OihGG"
      },
      "execution_count": 5,
      "outputs": []
    },
    {
      "cell_type": "code",
      "execution_count": 8,
      "metadata": {
        "id": "SHRwRoP2nVHX",
        "colab": {
          "base_uri": "https://localhost:8080/"
        },
        "outputId": "0a4a0491-7312-4580-baf5-b3c661785a58"
      },
      "outputs": [
        {
          "output_type": "stream",
          "name": "stdout",
          "text": [
            "Found 3342 files belonging to 3 classes.\n"
          ]
        }
      ],
      "source": [
        "train_dataset = utils.text_dataset_from_directory(\n",
        "    train_dir,\n",
        "    batch_size=batch_size,\n",
        "    validation_split=None,\n",
        "    seed=seed)"
      ]
    },
    {
      "cell_type": "code",
      "source": [
        "validation_dataset = utils.text_dataset_from_directory(\n",
        "    train_dir,\n",
        "    batch_size=batch_size,\n",
        "    validation_split=0.2,\n",
        "    subset='validation',\n",
        "    seed=seed)"
      ],
      "metadata": {
        "colab": {
          "base_uri": "https://localhost:8080/"
        },
        "id": "IQ6B_fWeiV9Q",
        "outputId": "d8cddf93-e4d3-4365-9bdd-a5c65d5c82c7"
      },
      "execution_count": 7,
      "outputs": [
        {
          "output_type": "stream",
          "name": "stdout",
          "text": [
            "Found 3342 files belonging to 3 classes.\n",
            "Using 668 files for validation.\n"
          ]
        }
      ]
    },
    {
      "cell_type": "code",
      "source": [
        "test_dataset = utils.text_dataset_from_directory(\n",
        "    test_dir,\n",
        "    batch_size=batch_size)"
      ],
      "metadata": {
        "colab": {
          "base_uri": "https://localhost:8080/"
        },
        "id": "TbnUgf0XiY_n",
        "outputId": "455fe607-f7e4-4d6e-ead0-a7d5354b823e"
      },
      "execution_count": 9,
      "outputs": [
        {
          "output_type": "stream",
          "name": "stdout",
          "text": [
            "Found 1431 files belonging to 3 classes.\n"
          ]
        }
      ]
    },
    {
      "cell_type": "markdown",
      "metadata": {
        "id": "nWA4c2ir7g6p"
      },
      "source": [
        "Initially this returns a dataset of (text, label pairs):"
      ]
    },
    {
      "cell_type": "code",
      "execution_count": 10,
      "metadata": {
        "id": "vd4_BGKyurao",
        "colab": {
          "base_uri": "https://localhost:8080/"
        },
        "outputId": "580daeb0-8cd3-4d8c-cfe3-2b916f9f12e7"
      },
      "outputs": [
        {
          "output_type": "stream",
          "name": "stdout",
          "text": [
            "review:  [b'Gostei muito,\\xc3\\xb3timo aparelho,s\\xc3\\xb3 n\\xc3\\xa3o gostei do carregador por n\\xc3\\xa3o ser formato Brasileiro.Gostei muito do atendimento do vendedor.'\n",
            " b'Produto maravilhoso n\\xc3\\xa3o tenho nada a reclamarE sobre a entrega , comprei em um s\\xc3\\xa1bado ( de feriado ) e na segunda feira j\\xc3\\xa1 estava recebendo , entrega supeeeeeeeeeeeeer r\\xc3\\xa1pida !!!!'\n",
            " b'Chegou no prazo, \\xc3\\xa9 um bom celular. Comprei dois um azul e um branco. Vale a pena!Ponto negativo: Muito baixo o som.E sobre a lojaEu solicitei a nota fiscal junto com o envio, a loja n\\xc3\\xa3o enviou. Nenhum tipo de identifica\\xc3\\xa7\\xc3\\xa3o veio com a caixa, s\\xc3\\xb3 mesmo o celular e meu endere\\xc3\\xa7o. Achei um desrespeito com o cliente. Acaba que n temos nenhum respaldo caso haja problemas, e seja necess\\xc3\\xa1rio trocar.'\n",
            " b'Celular muito bom, c\\xc3\\xa2meras excelentes e processador muito r\\xc3\\xa1pido. \\xc3\\x9anico problema \\xc3\\xa9 que o carregador veio com pino chato, n\\xc3\\xa3o serve na maioria das tomadas, tive que comprar outro.'\n",
            " b'Celular e \\xc3\\xb3timo j\\xc3\\xa1 o conhecia. Oque eu mais gostei foi do vendedor me mandou uma pel\\xc3\\xadcula de brinde e um fone de ouvido. Recomendo a todos o vendedor FATOR K. MUITO OBRIGADO'\n",
            " b'\\xc3\\xa9 realmente um celular muito bom para seu pre\\xc3\\xa7o, nunca tive um celular que me impressionasse assim'\n",
            " b'Do lado t\\xc3\\xa9cnico, \\xc3\\xa9 um \\xc3\\xb3timo aparelho, Xiaomi prezou qualidade de componentes e constru\\xc3\\xa7\\xc3\\xa3o robusta, por ter o case de vidro, a dissipa\\xc3\\xa7\\xc3\\xa3o de calor \\xc3\\xa9 muito boa. Como usu\\xc3\\xa1rio, recomendo muito, bateria com dura\\xc3\\xa7\\xc3\\xa3o de at\\xc3\\xa9 48h com uso excessivo.'\n",
            " b'A c\\xc3\\xa2mera frontal deixa a desejar, e bateria est\\xc3\\xa1 acabando muito r\\xc3\\xa1pido para 4000mA, todas as pe\\xc3\\xa7as vieram funcionando e em \\xc3\\xb3timo estado'\n",
            " b'O celular \\xc3\\xa9 muito lindo, em rela\\xc3\\xa7\\xc3\\xa3o a bateria est\\xc3\\xa1 durando at\\xc3\\xa9 bem mais estou com ele a poucos dias, achei o som para liga\\xc3\\xa7\\xc3\\xb5es um pouco baixa , a c\\xc3\\xa2mera e excelente.'\n",
            " b'Minha irm\\xc3\\xa3 que comprou o produto est\\xc3\\xa1 muito satisfeita, cumpre o que promete. Teve atraso de 3 dias de entrega devido COVID19.'\n",
            " b'\\xc3\\x93timo celular! \\xc3\\x93timo custo benef\\xc3\\xadcio. Super recomendado. A loja mais ainda, adorei!'\n",
            " b'Smartphone com \\xc3\\x93timo custo benef\\xc3\\xadcio. Adorei a qualidade da c\\xc3\\xa2mera e velocidade do celular.'\n",
            " b'Gostei. \\xc3\\x89 bem pr\\xc3\\xa1tico. Recomendo.'\n",
            " b'O celular vem com alguns problemas como propagandas internas no dispositivo, por\\xc3\\xa9m isto \\xc3\\xa9 erro da Xiaomi. As propagandas s\\xc3\\xa3o enganosas, falam que v\\xc3\\xa3o verificar seu dispositivos de v\\xc3\\xadrus por\\xc3\\xa9m ele acaba baixando apps nada haver - como tik tok ou outro app de video com efeitos.'\n",
            " b'Chegou uma semana antes da data, bateria duradoura, jogo pubg sem travar, aplicativos sensacionais.'\n",
            " b'Melhor celular! C\\xc3\\xa2mera maravilhosa, muita mem\\xc3\\xb3ria para o que eu uso, excelente dura\\xc3\\xa7\\xc3\\xa3o da bateria.'\n",
            " b'\\xc3\\x93timo celular! Chegou bem r\\xc3\\xa1pido e realmente \\xc3\\xa9 muito bom! Tem um excelente custo benef\\xc3\\xadcio! Gostei demais!'\n",
            " b'Uso no dia a dia, e achei maravilhoso. Atende muito bem minhas necessidades.'\n",
            " b'Produto de qualidade, com fun\\xc3\\xa7\\xc3\\xb5es que superou as minhas expectativas pra um smartphone intermedi\\xc3\\xa1rio, com um bom processador, n\\xc3\\xa3o trava, e que tem 64 gb de mem\\xc3\\xb3ria podendo expandir com cart\\xc3\\xa3o sd. E uma c\\xc3\\xa2mera fotogr\\xc3\\xa1fica \\xc3\\xb3tima.'\n",
            " b'Melhor celular que j\\xc3\\xa1 tive, c\\xc3\\xa2mera \\xc3\\xb3tima, ferramentas acess\\xc3\\xadveis para o desempenho do celular. Maravilhoso'\n",
            " b'Entrega muito r\\xc3\\xa1pido, presente de anivers\\xc3\\xa1rio para minha m\\xc3\\xa3e, ela adorou, smartphone \\xc3\\xa9 muito bonito.'\n",
            " b'Nada a reclamar, o produto chegou em perfeito estado, atendendo minhas expectativas. Entrega r\\xc3\\xa1pida. Recomendo.'\n",
            " b'Gostei de tudo no aparelho, estou muito feliz com o produto.'\n",
            " b'Chegou muito r\\xc3\\xa1pido. Agrade\\xc3\\xa7o ao vendedor por ter mandado uma pel\\xc3\\xadcula junto. Produto veio como esperado s\\xc3\\xb3 n\\xc3\\xa3o \\xc3\\xa9 exatamente uma vers\\xc3\\xa3o global (o carregador n\\xc3\\xa3o \\xc3\\xa9 o padr\\xc3\\xa3o brasileiro) mas n\\xc3\\xa3o houve problema em rela\\xc3\\xa7\\xc3\\xa3o \\xc3\\xa0 isso. Tamb\\xc3\\xa9m veio acompanhado com nota fiscal.'\n",
            " b'Excelente Celular, e o vendedor est\\xc3\\xa1 de parab\\xc3\\xa9ns, entrega super rapida.'\n",
            " b'Muito bom pra jogos, roda jogos pesados muito bem, BA teria dura um dia e meio sem problemas. \\xc3\\x9anico ponto negativo, esquenta demais depois de 20 ou 30 min jogando, mas recomendo muito.'\n",
            " b'O produto correspondeu as minhas espectativas, a pesar do carregador ser de pino quadrado as inves de redondo como as tomadas da minha casa, tive que comprar um adptador. A entrega foi super rapida, pois pedi o produto dia 6 de marco e dia 10 ele foi entregue, sendo que a previsao era do dia 19 a 24 de marco. Super recomendo. Esse eu comprei para o meu filho,e em breve comprarei o meu . O bom e que agora ja sei de quem comprar,e nao vou precisar pesquisar tanto um vendedor confiavel.'\n",
            " b'O celular \\xc3\\xa9 muito bom, mas senti uma diferen\\xc3\\xa7a na c\\xc3\\xa2mera comparado ao meu celular anterior, que era um iPhone 5s. Apesar disso, considero o custo benef\\xc3\\xadcio \\xc3\\xb3timo!'\n",
            " b'Muito bom pode comprar,por\\xc3\\xa9m o carregador n\\xc3\\xa3o vem padr\\xc3\\xa3o global vem americano'\n",
            " b'Telefone excelente e com um pre\\xc3\\xa7o justo!! O aparelho tem v\\xc3\\xa1rios pontos positivos, mas o que mais est\\xc3\\xa1 me chamando a aten\\xc3\\xa7\\xc3\\xa3o \\xc3\\xa9 a durabilidade da bateria, \\xc3\\xa9 simplesmente sensacional!!'\n",
            " b'veio muito bem embalado pel\\xc3\\xadcula capinha nota fiscal carregador cabo tudo certinho parab\\xc3\\xa9ns company star \\xc3\\xb3tima loja'\n",
            " b'Excelente produto super recomendo comprei para o meu filho e ele adorou muito.']\n",
            "label:  [1 1 1 1 1 1 1 1 1 1 1 1 1 1 1 1 1 1 1 1 1 1 1 1 1 1 1 1 1 1 1 1]\n"
          ]
        }
      ],
      "source": [
        "for example, label in train_dataset.take(1):\n",
        "  print('review: ', example.numpy())\n",
        "  print('label: ', label.numpy())"
      ]
    },
    {
      "cell_type": "code",
      "source": [
        "for i, label in enumerate(train_dataset.class_names):\n",
        "  print(\"Label\", i, \"corresponds to\", label)"
      ],
      "metadata": {
        "colab": {
          "base_uri": "https://localhost:8080/"
        },
        "id": "0h1brcK3zgf8",
        "outputId": "d80ef836-ca65-44af-adac-4fd7eb2ec354"
      },
      "execution_count": 11,
      "outputs": [
        {
          "output_type": "stream",
          "name": "stdout",
          "text": [
            "Label 0 corresponds to Bad\n",
            "Label 1 corresponds to Good\n",
            "Label 2 corresponds to Neutral\n"
          ]
        }
      ]
    },
    {
      "cell_type": "markdown",
      "metadata": {
        "id": "s5eWCo88voPY"
      },
      "source": [
        "## Create the text encoder"
      ]
    },
    {
      "cell_type": "markdown",
      "metadata": {
        "id": "TFevcItw15P_"
      },
      "source": [
        "The raw text loaded by `tfds` needs to be processed before it can be used in a model. The simplest way to process text for training is using the `TextVectorization` layer. This layer has many capabilities, but this tutorial sticks to the default behavior.\n",
        "\n",
        "Create the layer, and pass the dataset's text to the layer's `.adapt` method:"
      ]
    },
    {
      "cell_type": "code",
      "execution_count": 12,
      "metadata": {
        "id": "uC25Lu1Yvuqy"
      },
      "outputs": [],
      "source": [
        "VOCAB_SIZE = 10000\n",
        "encoder = tf.keras.layers.TextVectorization(\n",
        "    max_tokens=VOCAB_SIZE)\n",
        "encoder.adapt(train_dataset.map(lambda text, label: text))"
      ]
    },
    {
      "cell_type": "markdown",
      "metadata": {
        "id": "IuQzVBbe3Ldu"
      },
      "source": [
        "The `.adapt` method sets the layer's vocabulary. Here are the first 20 tokens. After the padding and unknown tokens they're sorted by frequency: "
      ]
    },
    {
      "cell_type": "code",
      "execution_count": 13,
      "metadata": {
        "id": "tBoyjjWg0Ac9",
        "colab": {
          "base_uri": "https://localhost:8080/"
        },
        "outputId": "f24290e1-b99a-4ab3-ab57-6e8fefab359f"
      },
      "outputs": [
        {
          "output_type": "execute_result",
          "data": {
            "text/plain": [
              "array(['', '[UNK]', 'o', 'e', 'a', 'de', 'muito', 'que', 'é', 'com',\n",
              "       'não', 'do', 'celular', 'um', 'produto', 'chegou', 'em',\n",
              "       'aparelho', 'bom', 'da'], dtype='<U33')"
            ]
          },
          "metadata": {},
          "execution_count": 13
        }
      ],
      "source": [
        "vocab = np.array(encoder.get_vocabulary())\n",
        "vocab[:20]"
      ]
    },
    {
      "cell_type": "markdown",
      "metadata": {
        "id": "mjId5pua3jHQ"
      },
      "source": [
        "Once the vocabulary is set, the layer can encode text into indices. The tensors of indices are 0-padded to the longest sequence in the batch (unless you set a fixed `output_sequence_length`):"
      ]
    },
    {
      "cell_type": "code",
      "execution_count": 14,
      "metadata": {
        "id": "RGc7C9WiwRWs",
        "colab": {
          "base_uri": "https://localhost:8080/"
        },
        "outputId": "791f2fcf-8050-4c25-976e-1a9bdb2121b4"
      },
      "outputs": [
        {
          "output_type": "execute_result",
          "data": {
            "text/plain": [
              "array([[  62, 4417, 6455,   10,   62,   11,   41,   52,   10,   92, 1912,\n",
              "        6165,    6,   11,  195,   11,   42,    0,    0,    0,    0,    0,\n",
              "           0,    0,    0,    0,    0,    0,    0,    0,    0,    0,    0,\n",
              "           0,    0,    0,    0,    0,    0,    0,    0,    0,    0,    0,\n",
              "           0,    0,    0,    0,    0,    0,    0,    0,    0,    0,    0,\n",
              "           0,    0,    0,    0,    0,    0,    0,    0,    0,    0,    0,\n",
              "           0,    0,    0,    0,    0,    0,    0,    0,    0,    0,    0,\n",
              "           0,    0,    0,    0,    0,    0,    0,    0,    0,    0,    0,\n",
              "           0,    0,    0,    0],\n",
              "       [  14,  126,   10,  102,   98,    4, 3753,  219,    4,   30,   59,\n",
              "          16,   13,  737,    5, 1373,    3,   32,  355,  449,   48,  121,\n",
              "        1310,   30, 3367,   89,    0,    0,    0,    0,    0,    0,    0,\n",
              "           0,    0,    0,    0,    0,    0,    0,    0,    0,    0,    0,\n",
              "           0,    0,    0,    0,    0,    0,    0,    0,    0,    0,    0,\n",
              "           0,    0,    0,    0,    0,    0,    0,    0,    0,    0,    0,\n",
              "           0,    0,    0,    0,    0,    0,    0,    0,    0,    0,    0,\n",
              "           0,    0,    0,    0,    0,    0,    0,    0,    0,    0,    0,\n",
              "           0,    0,    0,    0],\n",
              "       [  15,   21,   37,    8,   13,   18,   12,   59,  161,   13,  335,\n",
              "           3,   13,  643,  123,    4, 4172,  297,    6,  375,    2, 1754,\n",
              "         219,    4, 4620,  654,    4,   54,   68,  300,    9,    2,  397,\n",
              "           4,  109,   10,  308,  152,  475,    5, 2497,   27,    9,    4,\n",
              "         254,   61,   81,    2,   12,    3,   60, 1955,  159,   13, 5618,\n",
              "           9,    2,  545,  617,    7,  443, 1285,  152, 1777,  318, 2505,\n",
              "         183,    3,  293,  555,  621,    0,    0,    0,    0,    0,    0,\n",
              "           0,    0,    0,    0,    0,    0,    0,    0,    0,    0,    0,\n",
              "           0,    0,    0,    0]])"
            ]
          },
          "metadata": {},
          "execution_count": 14
        }
      ],
      "source": [
        "encoded_example = encoder(example)[:3].numpy()\n",
        "encoded_example"
      ]
    },
    {
      "cell_type": "markdown",
      "metadata": {
        "id": "F5cjz0bS39IN"
      },
      "source": [
        "With the default settings, the process is not completely reversible. There are three main reasons for that:\n",
        "\n",
        "1. The default value for `preprocessing.TextVectorization`'s `standardize` argument is `\"lower_and_strip_punctuation\"`.\n",
        "2. The limited vocabulary size and lack of character-based fallback results in some unknown tokens."
      ]
    },
    {
      "cell_type": "code",
      "execution_count": 15,
      "metadata": {
        "id": "N_tD0QY5wXaK",
        "colab": {
          "base_uri": "https://localhost:8080/"
        },
        "outputId": "04deab08-7110-4deb-d505-8c474cbe905a"
      },
      "outputs": [
        {
          "output_type": "stream",
          "name": "stdout",
          "text": [
            "Original:  b'Gostei muito,\\xc3\\xb3timo aparelho,s\\xc3\\xb3 n\\xc3\\xa3o gostei do carregador por n\\xc3\\xa3o ser formato Brasileiro.Gostei muito do atendimento do vendedor.'\n",
            "Round-trip:  gostei muitoótimo aparelhosó não gostei do carregador por não ser formato brasileirogostei muito do atendimento do vendedor                                                                           \n",
            "\n",
            "Original:  b'Produto maravilhoso n\\xc3\\xa3o tenho nada a reclamarE sobre a entrega , comprei em um s\\xc3\\xa1bado ( de feriado ) e na segunda feira j\\xc3\\xa1 estava recebendo , entrega supeeeeeeeeeeeeer r\\xc3\\xa1pida !!!!'\n",
            "Round-trip:  produto maravilhoso não tenho nada a reclamare sobre a entrega comprei em um sábado de feriado e na segunda feira já estava recebendo entrega supeeeeeeeeeeeeer rápida                                                                  \n",
            "\n",
            "Original:  b'Chegou no prazo, \\xc3\\xa9 um bom celular. Comprei dois um azul e um branco. Vale a pena!Ponto negativo: Muito baixo o som.E sobre a lojaEu solicitei a nota fiscal junto com o envio, a loja n\\xc3\\xa3o enviou. Nenhum tipo de identifica\\xc3\\xa7\\xc3\\xa3o veio com a caixa, s\\xc3\\xb3 mesmo o celular e meu endere\\xc3\\xa7o. Achei um desrespeito com o cliente. Acaba que n temos nenhum respaldo caso haja problemas, e seja necess\\xc3\\xa1rio trocar.'\n",
            "Round-trip:  chegou no prazo é um bom celular comprei dois um azul e um branco vale a penaponto negativo muito baixo o some sobre a lojaeu solicitei a nota fiscal junto com o envio a loja não enviou nenhum tipo de identificação veio com a caixa só mesmo o celular e meu endereço achei um desrespeito com o cliente acaba que n temos nenhum respaldo caso haja problemas e seja necessário trocar                     \n",
            "\n"
          ]
        }
      ],
      "source": [
        "for n in range(3):\n",
        "  print(\"Original: \", example[n].numpy())\n",
        "  print(\"Round-trip: \", \" \".join(vocab[encoded_example[n]]))\n",
        "  print()"
      ]
    },
    {
      "cell_type": "markdown",
      "metadata": {
        "id": "bjUqGVBxGw-t"
      },
      "source": [
        "## Create the model"
      ]
    },
    {
      "cell_type": "markdown",
      "metadata": {
        "id": "W7zsmInBOCPO"
      },
      "source": [
        "![A drawing of the information flow in the model](https://github.com/tensorflow/text/blob/master/docs/tutorials/images/bidirectional.png?raw=1)"
      ]
    },
    {
      "cell_type": "markdown",
      "metadata": {
        "id": "bgs6nnSTGw-t"
      },
      "source": [
        "Above is a diagram of the model. \n",
        "\n",
        "1. This model can be build as a `tf.keras.Sequential`.\n",
        "\n",
        "2. The first layer is the `encoder`, which converts the text to a sequence of token indices.\n",
        "\n",
        "3. After the encoder is an embedding layer. An embedding layer stores one vector per word. When called, it converts the sequences of word indices to sequences of vectors. These vectors are trainable. After training (on enough data), words with similar meanings often have similar vectors.\n",
        "\n",
        "  This index-lookup is much more efficient than the equivalent operation of passing a one-hot encoded vector through a `tf.keras.layers.Dense` layer.\n",
        "\n",
        "4. A recurrent neural network (RNN) processes sequence input by iterating through the elements. RNNs pass the outputs from one timestep to their input on the next timestep.\n",
        "\n",
        "  The `tf.keras.layers.Bidirectional` wrapper can also be used with an RNN layer. This propagates the input forward and backwards through the RNN layer and then concatenates the final output. \n",
        "\n",
        "  * The main advantage of a bidirectional RNN is that the signal from the beginning of the input doesn't need to be processed all the way through every timestep to affect the output.  \n",
        "\n",
        "  * The main disadvantage of a bidirectional RNN is that you can't efficiently stream predictions as words are being added to the end.\n",
        "\n",
        "5. After the RNN has converted the sequence to a single vector the two `layers.Dense` do some final processing, and convert from this vector representation to a single logit as the classification output. \n"
      ]
    },
    {
      "cell_type": "markdown",
      "metadata": {
        "id": "V4fodCI7soQi"
      },
      "source": [
        "The code to implement this is below:"
      ]
    },
    {
      "cell_type": "code",
      "execution_count": 43,
      "metadata": {
        "id": "LwfoBkmRYcP3"
      },
      "outputs": [],
      "source": [
        "model_1 = tf.keras.Sequential([\n",
        "    encoder,\n",
        "    tf.keras.layers.Embedding(\n",
        "        input_dim=len(encoder.get_vocabulary()),\n",
        "        output_dim=64,\n",
        "        # Use masking to handle the variable sequence lengths\n",
        "        mask_zero=True),\n",
        "    tf.keras.layers.Bidirectional(tf.keras.layers.LSTM(64)),\n",
        "    tf.keras.layers.Dense(32, activation='relu'),\n",
        "    tf.keras.layers.Dropout(0.5),\n",
        "    tf.keras.layers.Dense(3, activation='softmax')\n",
        "])"
      ]
    },
    {
      "cell_type": "markdown",
      "metadata": {
        "id": "QIGmIGkkouUb"
      },
      "source": [
        "Please note that Keras sequential model is used here since all the layers in the model only have single input and produce single output. In case you want to use stateful RNN layer, you might want to build your model with Keras functional API or model subclassing so that you can retrieve and reuse the RNN layer states. Please check [Keras RNN guide](https://www.tensorflow.org/guide/keras/rnn#rnn_state_reuse) for more details."
      ]
    },
    {
      "cell_type": "markdown",
      "metadata": {
        "id": "kF-PsCk1LwjY"
      },
      "source": [
        "The embedding layer [uses masking](https://www.tensorflow.org/guide/keras/masking_and_padding) to handle the varying sequence-lengths. All the layers after the `Embedding` support masking:"
      ]
    },
    {
      "cell_type": "code",
      "execution_count": 44,
      "metadata": {
        "id": "87a8-CwfKebw",
        "colab": {
          "base_uri": "https://localhost:8080/"
        },
        "outputId": "707d854a-630c-4644-bf70-46b9de8ab7e0"
      },
      "outputs": [
        {
          "output_type": "stream",
          "name": "stdout",
          "text": [
            "[False, True, True, True, True, True]\n"
          ]
        }
      ],
      "source": [
        "print([layer.supports_masking for layer in model_1.layers])"
      ]
    },
    {
      "cell_type": "markdown",
      "metadata": {
        "id": "ZlS0iaUIWLpI"
      },
      "source": [
        "To confirm that this works as expected, evaluate a sentence twice. First, alone so there's no padding to mask:"
      ]
    },
    {
      "cell_type": "code",
      "execution_count": 45,
      "metadata": {
        "id": "O41gw3KfWHus",
        "colab": {
          "base_uri": "https://localhost:8080/"
        },
        "outputId": "7a64e988-ca16-4a0b-f95d-44864023dc39"
      },
      "outputs": [
        {
          "output_type": "stream",
          "name": "stdout",
          "text": [
            "WARNING:tensorflow:5 out of the last 6 calls to <function Model.make_predict_function.<locals>.predict_function at 0x7f5aee6e18c0> triggered tf.function retracing. Tracing is expensive and the excessive number of tracings could be due to (1) creating @tf.function repeatedly in a loop, (2) passing tensors with different shapes, (3) passing Python objects instead of tensors. For (1), please define your @tf.function outside of the loop. For (2), @tf.function has experimental_relax_shapes=True option that relaxes argument shapes that can avoid unnecessary retracing. For (3), please refer to https://www.tensorflow.org/guide/function#controlling_retracing and https://www.tensorflow.org/api_docs/python/tf/function for  more details.\n",
            "[0.33153558 0.3301714  0.338293  ]\n"
          ]
        }
      ],
      "source": [
        "# predict on a sample text without padding.\n",
        "\n",
        "sample_text = ('O celular é muito bom. A bateria e a tela '\n",
        "               'são incríveis. Recomendo 100%.')\n",
        "predictions = model_1.predict(np.array([sample_text]))\n",
        "print(predictions[0])"
      ]
    },
    {
      "cell_type": "markdown",
      "metadata": {
        "id": "K0VQmGnEWcuz"
      },
      "source": [
        "Now, evaluate it again in a batch with a longer sentence. The result should be identical:"
      ]
    },
    {
      "cell_type": "code",
      "execution_count": 46,
      "metadata": {
        "id": "UIgpuTeFNDzq",
        "colab": {
          "base_uri": "https://localhost:8080/"
        },
        "outputId": "bd441e32-3d2d-41a6-d851-c824b20299dc"
      },
      "outputs": [
        {
          "output_type": "stream",
          "name": "stdout",
          "text": [
            "[0.33153558 0.3301714  0.338293  ]\n"
          ]
        }
      ],
      "source": [
        "# predict on a sample text with padding\n",
        "\n",
        "padding = \"a \" * 2000\n",
        "predictions = model_1.predict(np.array([sample_text, padding]))\n",
        "print(predictions[0])"
      ]
    },
    {
      "cell_type": "markdown",
      "metadata": {
        "id": "sRI776ZcH3Tf"
      },
      "source": [
        "Compile the Keras model to configure the training process:"
      ]
    },
    {
      "cell_type": "code",
      "execution_count": 47,
      "metadata": {
        "id": "kj2xei41YZjC"
      },
      "outputs": [],
      "source": [
        "model_1.compile(loss=tf.keras.losses.SparseCategoricalCrossentropy(from_logits=False),\n",
        "              optimizer=tf.keras.optimizers.Adam(1e-4),\n",
        "              metrics=['accuracy'])"
      ]
    },
    {
      "cell_type": "markdown",
      "metadata": {
        "id": "zIwH3nto596k"
      },
      "source": [
        "## Train the model"
      ]
    },
    {
      "cell_type": "code",
      "execution_count": 48,
      "metadata": {
        "id": "hw86wWS4YgR2",
        "colab": {
          "base_uri": "https://localhost:8080/"
        },
        "outputId": "60fb7e09-0156-4e1d-fb26-f054bd997779"
      },
      "outputs": [
        {
          "output_type": "stream",
          "name": "stdout",
          "text": [
            "Epoch 1/10\n",
            "105/105 [==============================] - 14s 70ms/step - loss: 0.9327 - accuracy: 0.8740 - val_loss: 0.5627 - val_accuracy: 0.9219\n",
            "Epoch 2/10\n",
            "105/105 [==============================] - 5s 50ms/step - loss: 0.4557 - accuracy: 0.9351 - val_loss: 0.3923 - val_accuracy: 0.9250\n",
            "Epoch 3/10\n",
            "105/105 [==============================] - 5s 49ms/step - loss: 0.3633 - accuracy: 0.9339 - val_loss: 0.3345 - val_accuracy: 0.9240\n",
            "Epoch 4/10\n",
            "105/105 [==============================] - 5s 49ms/step - loss: 0.3134 - accuracy: 0.9351 - val_loss: 0.2767 - val_accuracy: 0.9312\n",
            "Epoch 5/10\n",
            "105/105 [==============================] - 5s 49ms/step - loss: 0.2637 - accuracy: 0.9345 - val_loss: 0.2665 - val_accuracy: 0.9281\n",
            "Epoch 6/10\n",
            "105/105 [==============================] - 5s 49ms/step - loss: 0.2574 - accuracy: 0.9354 - val_loss: 0.2603 - val_accuracy: 0.9198\n",
            "Epoch 7/10\n",
            "105/105 [==============================] - 5s 49ms/step - loss: 0.2049 - accuracy: 0.9357 - val_loss: 0.2259 - val_accuracy: 0.9344\n",
            "Epoch 8/10\n",
            "105/105 [==============================] - 5s 50ms/step - loss: 0.1868 - accuracy: 0.9384 - val_loss: 0.2304 - val_accuracy: 0.9271\n",
            "Epoch 9/10\n",
            "105/105 [==============================] - 5s 50ms/step - loss: 0.1725 - accuracy: 0.9443 - val_loss: 0.2457 - val_accuracy: 0.9260\n",
            "Epoch 10/10\n",
            "105/105 [==============================] - 5s 48ms/step - loss: 0.1525 - accuracy: 0.9539 - val_loss: 0.2319 - val_accuracy: 0.9271\n"
          ]
        }
      ],
      "source": [
        "from gc import callbacks\n",
        "\n",
        "callback = tf.keras.callbacks.EarlyStopping(monitor='loss', patience=3)\n",
        "\n",
        "history = model_1.fit(train_dataset, epochs=10,\n",
        "                    validation_data=test_dataset,\n",
        "                    validation_steps=30,\n",
        "                    callbacks=[callback])"
      ]
    },
    {
      "cell_type": "code",
      "execution_count": 49,
      "metadata": {
        "id": "BaNbXi43YgUT",
        "colab": {
          "base_uri": "https://localhost:8080/"
        },
        "outputId": "e393663b-c1e8-45dd-c35d-81974ec41146"
      },
      "outputs": [
        {
          "output_type": "stream",
          "name": "stdout",
          "text": [
            "45/45 [==============================] - 1s 28ms/step - loss: 0.2319 - accuracy: 0.9315\n",
            "Test Loss: 0.23187527060508728\n",
            "Test Accuracy: 0.9315164089202881\n"
          ]
        }
      ],
      "source": [
        "test_loss, test_acc = model_1.evaluate(test_dataset)\n",
        "\n",
        "print('Test Loss:', test_loss)\n",
        "print('Test Accuracy:', test_acc)"
      ]
    },
    {
      "cell_type": "code",
      "execution_count": 50,
      "metadata": {
        "id": "OZmwt_mzaQJk",
        "colab": {
          "base_uri": "https://localhost:8080/",
          "height": 386
        },
        "outputId": "66a954ff-a169-47a8-c069-91fb0718fd46"
      },
      "outputs": [
        {
          "output_type": "execute_result",
          "data": {
            "text/plain": [
              "(0.0, 0.9717259660363198)"
            ]
          },
          "metadata": {},
          "execution_count": 50
        },
        {
          "output_type": "display_data",
          "data": {
            "text/plain": [
              "<Figure size 1152x576 with 2 Axes>"
            ],
            "image/png": "[encoded data removed]"
          },
          "metadata": {
            "needs_background": "light"
          }
        }
      ],
      "source": [
        "plt.figure(figsize=(16, 8))\n",
        "plt.subplot(1, 2, 1)\n",
        "plot_graphs(history, 'accuracy')\n",
        "plt.ylim(None, 1)\n",
        "plt.subplot(1, 2, 2)\n",
        "plot_graphs(history, 'loss')\n",
        "plt.ylim(0, None)"
      ]
    },
    {
      "cell_type": "markdown",
      "metadata": {
        "id": "DwSE_386uhxD"
      },
      "source": [
        "Run a prediction on a new sentence:\n",
        "\n",
        "If the prediction is >= 0.0, it is positive else it is negative."
      ]
    },
    {
      "cell_type": "code",
      "execution_count": 64,
      "metadata": {
        "id": "ZXgfQSgRW6zU",
        "colab": {
          "base_uri": "https://localhost:8080/"
        },
        "outputId": "d3e5e18e-4711-4842-e1c6-7922659b81d1"
      },
      "outputs": [
        {
          "output_type": "stream",
          "name": "stdout",
          "text": [
            "[[5.3107250e-04 9.9921942e-01 2.4959780e-04]\n",
            " [3.5847387e-01 3.1834495e-01 3.2318121e-01]]\n"
          ]
        }
      ],
      "source": [
        "sample_text = [('Smartphone excelente, bom custo beneficio. '\n",
        "               'Bateria dura bem e tela espetacular'),\n",
        "               ('O Smartphone veio com problema. Terrível.')]\n",
        "predictions = model_1.predict(np.array(sample_text))\n",
        "print(predictions)"
      ]
    },
    {
      "cell_type": "code",
      "source": [
        "y_true = np.concatenate([y for x, y in test_dataset], axis=0)\n",
        "y_pred = model_1.predict(test_dataset)\n",
        "preds = [np.argmax(y) for y in y_pred]"
      ],
      "metadata": {
        "id": "5qlxeEp5hsJh"
      },
      "execution_count": 76,
      "outputs": []
    },
    {
      "cell_type": "code",
      "source": [
        "from sklearn.metrics import classification_report\n",
        "\n",
        "\n",
        "print(classification_report(y_true, preds, zero_division=0))"
      ],
      "metadata": {
        "colab": {
          "base_uri": "https://localhost:8080/"
        },
        "id": "SoXmI8fipcBJ",
        "outputId": "bb5e7bf9-38b5-474b-a6bd-006c595c18a2"
      },
      "execution_count": 92,
      "outputs": [
        {
          "output_type": "stream",
          "name": "stdout",
          "text": [
            "              precision    recall  f1-score   support\n",
            "\n",
            "           0       0.13      0.03      0.05        59\n",
            "           1       0.93      0.99      0.96      1327\n",
            "           2       0.00      0.00      0.00        45\n",
            "\n",
            "    accuracy                           0.92      1431\n",
            "   macro avg       0.35      0.34      0.34      1431\n",
            "weighted avg       0.87      0.92      0.89      1431\n",
            "\n"
          ]
        }
      ]
    },
    {
      "cell_type": "markdown",
      "metadata": {
        "id": "7g1evcaRpTKm"
      },
      "source": [
        "## Stack two or more LSTM layers\n",
        "\n",
        "Keras recurrent layers have two available modes that are controlled by the `return_sequences` constructor argument:\n",
        "\n",
        "* If `False` it returns only the last output for each input sequence (a 2D tensor of shape (batch_size, output_features)). This is the default, used in the previous model.\n",
        "\n",
        "* If `True` the full sequences of successive outputs for each timestep is returned (a 3D tensor of shape `(batch_size, timesteps, output_features)`).\n",
        "\n",
        "Here is what the flow of information looks like with `return_sequences=True`:\n",
        "\n",
        "![layered_bidirectional](https://github.com/tensorflow/text/blob/master/docs/tutorials/images/layered_bidirectional.png?raw=1)"
      ]
    },
    {
      "cell_type": "markdown",
      "metadata": {
        "id": "wbSClCrG1z8l"
      },
      "source": [
        "The interesting thing about using an `RNN` with `return_sequences=True` is that the output still has 3-axes, like the input, so it can be passed to another RNN layer, like this:"
      ]
    },
    {
      "cell_type": "code",
      "execution_count": 54,
      "metadata": {
        "id": "jo1jjO3vn0jo"
      },
      "outputs": [],
      "source": [
        "model_2 = tf.keras.Sequential([\n",
        "    encoder,\n",
        "    tf.keras.layers.Embedding(len(encoder.get_vocabulary()), 64, mask_zero=True),\n",
        "    tf.keras.layers.Bidirectional(tf.keras.layers.LSTM(64,  return_sequences=True)),\n",
        "    tf.keras.layers.Bidirectional(tf.keras.layers.LSTM(32)),\n",
        "    tf.keras.layers.Dense(32, activation='relu'),\n",
        "    tf.keras.layers.Dropout(0.5),\n",
        "    tf.keras.layers.Dense(3, activation='softmax')\n",
        "])"
      ]
    },
    {
      "cell_type": "code",
      "execution_count": 55,
      "metadata": {
        "id": "hEPV5jVGp-is"
      },
      "outputs": [],
      "source": [
        "model_2.compile(loss=tf.keras.losses.SparseCategoricalCrossentropy(from_logits=False),\n",
        "              optimizer=tf.keras.optimizers.Adam(1e-4),\n",
        "              metrics=['accuracy'])"
      ]
    },
    {
      "cell_type": "code",
      "execution_count": 56,
      "metadata": {
        "id": "LeSE-YjdqAeN",
        "colab": {
          "base_uri": "https://localhost:8080/"
        },
        "outputId": "e5407904-fc13-4bd3-8ef9-a9404c4c51da"
      },
      "outputs": [
        {
          "output_type": "stream",
          "name": "stdout",
          "text": [
            "Epoch 1/10\n",
            "105/105 [==============================] - 26s 108ms/step - loss: 0.8548 - accuracy: 0.9084 - val_loss: 0.4144 - val_accuracy: 0.9323\n",
            "Epoch 2/10\n",
            "105/105 [==============================] - 7s 70ms/step - loss: 0.3765 - accuracy: 0.9354 - val_loss: 0.3424 - val_accuracy: 0.9302\n",
            "Epoch 3/10\n",
            "105/105 [==============================] - 7s 67ms/step - loss: 0.3303 - accuracy: 0.9354 - val_loss: 0.3045 - val_accuracy: 0.9312\n",
            "Epoch 4/10\n",
            "105/105 [==============================] - 7s 68ms/step - loss: 0.2854 - accuracy: 0.9354 - val_loss: 0.2847 - val_accuracy: 0.9250\n",
            "Epoch 5/10\n",
            "105/105 [==============================] - 7s 70ms/step - loss: 0.2320 - accuracy: 0.9357 - val_loss: 0.2492 - val_accuracy: 0.9271\n",
            "Epoch 6/10\n",
            "105/105 [==============================] - 7s 68ms/step - loss: 0.1856 - accuracy: 0.9387 - val_loss: 0.2408 - val_accuracy: 0.9240\n",
            "Epoch 7/10\n",
            "105/105 [==============================] - 7s 68ms/step - loss: 0.1574 - accuracy: 0.9458 - val_loss: 0.2497 - val_accuracy: 0.9302\n",
            "Epoch 8/10\n",
            "105/105 [==============================] - 7s 70ms/step - loss: 0.1369 - accuracy: 0.9551 - val_loss: 0.2742 - val_accuracy: 0.9281\n",
            "Epoch 9/10\n",
            "105/105 [==============================] - 8s 73ms/step - loss: 0.1149 - accuracy: 0.9632 - val_loss: 0.2854 - val_accuracy: 0.9302\n",
            "Epoch 10/10\n",
            "105/105 [==============================] - 8s 75ms/step - loss: 0.1007 - accuracy: 0.9674 - val_loss: 0.3240 - val_accuracy: 0.9312\n"
          ]
        }
      ],
      "source": [
        "history = model_2.fit(train_dataset, epochs=10,\n",
        "                    validation_data=test_dataset,\n",
        "                    validation_steps=30,\n",
        "                    callbacks=[callback])"
      ]
    },
    {
      "cell_type": "code",
      "execution_count": 57,
      "metadata": {
        "id": "_LdwilM1qPM3",
        "colab": {
          "base_uri": "https://localhost:8080/"
        },
        "outputId": "2ca7d0de-9a0c-45b3-93fb-ec7eed39c76e"
      },
      "outputs": [
        {
          "output_type": "stream",
          "name": "stdout",
          "text": [
            "45/45 [==============================] - 2s 37ms/step - loss: 0.3053 - accuracy: 0.9322\n",
            "Test Loss: 0.3053417503833771\n",
            "Test Accuracy: 0.9322152137756348\n"
          ]
        }
      ],
      "source": [
        "test_loss, test_acc = model_2.evaluate(test_dataset)\n",
        "\n",
        "print('Test Loss:', test_loss)\n",
        "print('Test Accuracy:', test_acc)"
      ]
    },
    {
      "cell_type": "code",
      "source": [
        "sample_text = [('Smartphone excelente, bom custo beneficio. '\n",
        "               'Bateria dura bem e tela espetacular'),\n",
        "               ('O Smartphone veio com problema. Terrível.')]\n",
        "predictions = model_2.predict(np.array(sample_text))\n",
        "print(predictions)"
      ],
      "metadata": {
        "colab": {
          "base_uri": "https://localhost:8080/"
        },
        "id": "GNfSY069fvT9",
        "outputId": "e84adc37-c1c9-48f7-a5cf-3080641a103c"
      },
      "execution_count": 94,
      "outputs": [
        {
          "output_type": "stream",
          "name": "stdout",
          "text": [
            "[[8.2442151e-05 9.9986458e-01 5.2894571e-05]\n",
            " [3.5421458e-01 3.1483439e-01 3.3095101e-01]]\n"
          ]
        }
      ]
    },
    {
      "cell_type": "code",
      "execution_count": 95,
      "metadata": {
        "id": "ykUKnAoqbycW"
      },
      "outputs": [],
      "source": [
        "y_preds = model_2.predict(test_dataset)\n",
        "preds = [np.argmax(y) for y in y_preds]"
      ]
    },
    {
      "cell_type": "code",
      "source": [
        "print(classification_report(y_true, preds, zero_division=0))"
      ],
      "metadata": {
        "colab": {
          "base_uri": "https://localhost:8080/"
        },
        "id": "4KvrPQ95tgAf",
        "outputId": "83e69fdf-fd57-4d68-8b40-e7ec76112fe9"
      },
      "execution_count": 96,
      "outputs": [
        {
          "output_type": "stream",
          "name": "stdout",
          "text": [
            "              precision    recall  f1-score   support\n",
            "\n",
            "           0       0.05      0.03      0.04        59\n",
            "           1       0.93      0.97      0.95      1327\n",
            "           2       0.00      0.00      0.00        45\n",
            "\n",
            "    accuracy                           0.90      1431\n",
            "   macro avg       0.33      0.33      0.33      1431\n",
            "weighted avg       0.86      0.90      0.88      1431\n",
            "\n"
          ]
        }
      ]
    },
    {
      "cell_type": "code",
      "execution_count": 59,
      "metadata": {
        "id": "_YYub0EDtwCu",
        "colab": {
          "base_uri": "https://localhost:8080/",
          "height": 287
        },
        "outputId": "918d992f-0017-41b9-d331-e5f554507411"
      },
      "outputs": [
        {
          "output_type": "display_data",
          "data": {
            "text/plain": [
              "<Figure size 1152x432 with 2 Axes>"
            ],
            "image/png": "[encoded data removed]"
          },
          "metadata": {
            "needs_background": "light"
          }
        }
      ],
      "source": [
        "plt.figure(figsize=(16, 6))\n",
        "plt.subplot(1, 2, 1)\n",
        "plot_graphs(history, 'accuracy')\n",
        "plt.subplot(1, 2, 2)\n",
        "plot_graphs(history, 'loss')"
      ]
    }
  ],
  "metadata": {
    "accelerator": "GPU",
    "colab": {
      "collapsed_sections": [],
      "name": "text_classification_lstm.ipynb",
      "provenance": [],
      "include_colab_link": true
    },
    "kernelspec": {
      "display_name": "Python 3",
      "name": "python3"
    }
  },
  "nbformat": 4,
  "nbformat_minor": 0
}