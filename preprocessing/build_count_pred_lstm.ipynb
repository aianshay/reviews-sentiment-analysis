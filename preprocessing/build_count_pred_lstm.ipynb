{
 "cells": [
  {
   "cell_type": "code",
   "execution_count": 1,
   "id": "ce30e064-9427-42e9-b034-71b993613847",
   "metadata": {},
   "outputs": [],
   "source": [
    "import pandas as pd\n",
    "import plotly.express as px\n",
    "from sklearn.model_selection import train_test_split\n",
    "import numpy as np\n",
    "import seaborn as sns\n",
    "import matplotlib.pyplot as plt"
   ]
  },
  {
   "cell_type": "code",
   "execution_count": 2,
   "id": "eecd5532",
   "metadata": {},
   "outputs": [
    {
     "data": {
      "text/html": [
       "<div>\n",
       "<style scoped>\n",
       "    .dataframe tbody tr th:only-of-type {\n",
       "        vertical-align: middle;\n",
       "    }\n",
       "\n",
       "    .dataframe tbody tr th {\n",
       "        vertical-align: top;\n",
       "    }\n",
       "\n",
       "    .dataframe thead th {\n",
       "        text-align: right;\n",
       "    }\n",
       "</style>\n",
       "<table border=\"1\" class=\"dataframe\">\n",
       "  <thead>\n",
       "    <tr style=\"text-align: right;\">\n",
       "      <th></th>\n",
       "      <th>title</th>\n",
       "      <th>review</th>\n",
       "      <th>rating</th>\n",
       "      <th>date</th>\n",
       "      <th>label</th>\n",
       "    </tr>\n",
       "  </thead>\n",
       "  <tbody>\n",
       "    <tr>\n",
       "      <th>0</th>\n",
       "      <td>Ótimo custo benefício.</td>\n",
       "      <td>Até agora estou amando o aparelho. Estou bem s...</td>\n",
       "      <td>5.0</td>\n",
       "      <td>25/10/2019</td>\n",
       "      <td>Good</td>\n",
       "    </tr>\n",
       "    <tr>\n",
       "      <th>1</th>\n",
       "      <td>Não recebi a versão global e produto veio sem ...</td>\n",
       "      <td>Adquiri o produto em 09/11, chegou hoje e para...</td>\n",
       "      <td>1.0</td>\n",
       "      <td>14/11/2019</td>\n",
       "      <td>Bad</td>\n",
       "    </tr>\n",
       "    <tr>\n",
       "      <th>2</th>\n",
       "      <td>Bom, bonito e barato. Porém sem nota fiscal!</td>\n",
       "      <td>Comprei o celular no sábado dia 26/10/19 e che...</td>\n",
       "      <td>5.0</td>\n",
       "      <td>31/10/2019</td>\n",
       "      <td>Good</td>\n",
       "    </tr>\n",
       "    <tr>\n",
       "      <th>3</th>\n",
       "      <td>Bom, no prazo, carregador fora do padrão brasi...</td>\n",
       "      <td>Chegou dentro do prazo, bem embalado. Tudo ok,...</td>\n",
       "      <td>3.0</td>\n",
       "      <td>19/11/2019</td>\n",
       "      <td>Neutral</td>\n",
       "    </tr>\n",
       "    <tr>\n",
       "      <th>4</th>\n",
       "      <td>Celular acima das expectativas</td>\n",
       "      <td>O celular superou totalmente minhas expectativ...</td>\n",
       "      <td>5.0</td>\n",
       "      <td>29/10/2019</td>\n",
       "      <td>Good</td>\n",
       "    </tr>\n",
       "  </tbody>\n",
       "</table>\n",
       "</div>"
      ],
      "text/plain": [
       "                                               title  \\\n",
       "0                             Ótimo custo benefício.   \n",
       "1  Não recebi a versão global e produto veio sem ...   \n",
       "2       Bom, bonito e barato. Porém sem nota fiscal!   \n",
       "3  Bom, no prazo, carregador fora do padrão brasi...   \n",
       "4                     Celular acima das expectativas   \n",
       "\n",
       "                                              review  rating        date  \\\n",
       "0  Até agora estou amando o aparelho. Estou bem s...     5.0  25/10/2019   \n",
       "1  Adquiri o produto em 09/11, chegou hoje e para...     1.0  14/11/2019   \n",
       "2  Comprei o celular no sábado dia 26/10/19 e che...     5.0  31/10/2019   \n",
       "3  Chegou dentro do prazo, bem embalado. Tudo ok,...     3.0  19/11/2019   \n",
       "4  O celular superou totalmente minhas expectativ...     5.0  29/10/2019   \n",
       "\n",
       "     label  \n",
       "0     Good  \n",
       "1      Bad  \n",
       "2     Good  \n",
       "3  Neutral  \n",
       "4     Good  "
      ]
     },
     "execution_count": 2,
     "metadata": {},
     "output_type": "execute_result"
    }
   ],
   "source": [
    "reviews = pd.read_csv('../data/reviews_final.csv')\n",
    "reviews.head()"
   ]
  },
  {
   "cell_type": "code",
   "execution_count": 3,
   "id": "ae0e0625",
   "metadata": {},
   "outputs": [
    {
     "data": {
      "text/html": [
       "<div>\n",
       "<style scoped>\n",
       "    .dataframe tbody tr th:only-of-type {\n",
       "        vertical-align: middle;\n",
       "    }\n",
       "\n",
       "    .dataframe tbody tr th {\n",
       "        vertical-align: top;\n",
       "    }\n",
       "\n",
       "    .dataframe thead th {\n",
       "        text-align: right;\n",
       "    }\n",
       "</style>\n",
       "<table border=\"1\" class=\"dataframe\">\n",
       "  <thead>\n",
       "    <tr style=\"text-align: right;\">\n",
       "      <th></th>\n",
       "      <th>0</th>\n",
       "    </tr>\n",
       "  </thead>\n",
       "  <tbody>\n",
       "    <tr>\n",
       "      <th>0</th>\n",
       "      <td>1</td>\n",
       "    </tr>\n",
       "    <tr>\n",
       "      <th>1</th>\n",
       "      <td>1</td>\n",
       "    </tr>\n",
       "    <tr>\n",
       "      <th>2</th>\n",
       "      <td>1</td>\n",
       "    </tr>\n",
       "    <tr>\n",
       "      <th>3</th>\n",
       "      <td>1</td>\n",
       "    </tr>\n",
       "    <tr>\n",
       "      <th>4</th>\n",
       "      <td>1</td>\n",
       "    </tr>\n",
       "  </tbody>\n",
       "</table>\n",
       "</div>"
      ],
      "text/plain": [
       "   0\n",
       "0  1\n",
       "1  1\n",
       "2  1\n",
       "3  1\n",
       "4  1"
      ]
     },
     "execution_count": 3,
     "metadata": {},
     "output_type": "execute_result"
    }
   ],
   "source": [
    "df_pred = pd.read_csv('../data/model_2_preds.txt', header=None)\n",
    "df_pred.head()"
   ]
  },
  {
   "cell_type": "code",
   "execution_count": 4,
   "id": "e474cf89",
   "metadata": {},
   "outputs": [],
   "source": [
    "# Label 0 corresponds to Bad\n",
    "# Label 1 corresponds to Good\n",
    "# Label 2 corresponds to Neutral\n",
    "\n",
    "def rename_label(x):\n",
    "    if(x[0] == 1):\n",
    "        x[0] = 'Good'\n",
    "    elif(x[0] == 0):\n",
    "        x[0] = 'Bad'\n",
    "    elif(x[0] == 2):\n",
    "        x[0] = 'Neutral'\n",
    "    \n",
    "    return x"
   ]
  },
  {
   "cell_type": "code",
   "execution_count": 5,
   "id": "17a7161c",
   "metadata": {},
   "outputs": [],
   "source": [
    "df_pred = df_pred.apply(rename_label, axis=1)"
   ]
  },
  {
   "cell_type": "code",
   "execution_count": 6,
   "id": "fd3dd940",
   "metadata": {},
   "outputs": [],
   "source": [
    "X = reviews['date']\n",
    "y = reviews['label']\n",
    "\n",
    "X_train, X_test, y_train, y_test = train_test_split(X, y, test_size=.3, random_state=42)"
   ]
  },
  {
   "cell_type": "code",
   "execution_count": 7,
   "id": "e2528a58",
   "metadata": {},
   "outputs": [
    {
     "data": {
      "text/html": [
       "<div>\n",
       "<style scoped>\n",
       "    .dataframe tbody tr th:only-of-type {\n",
       "        vertical-align: middle;\n",
       "    }\n",
       "\n",
       "    .dataframe tbody tr th {\n",
       "        vertical-align: top;\n",
       "    }\n",
       "\n",
       "    .dataframe thead th {\n",
       "        text-align: right;\n",
       "    }\n",
       "</style>\n",
       "<table border=\"1\" class=\"dataframe\">\n",
       "  <thead>\n",
       "    <tr style=\"text-align: right;\">\n",
       "      <th></th>\n",
       "      <th>date</th>\n",
       "      <th>label</th>\n",
       "      <th>label_pred</th>\n",
       "    </tr>\n",
       "  </thead>\n",
       "  <tbody>\n",
       "    <tr>\n",
       "      <th>0</th>\n",
       "      <td>14/03/2020</td>\n",
       "      <td>Good</td>\n",
       "      <td>Good</td>\n",
       "    </tr>\n",
       "    <tr>\n",
       "      <th>1</th>\n",
       "      <td>7/05/2020</td>\n",
       "      <td>Good</td>\n",
       "      <td>Good</td>\n",
       "    </tr>\n",
       "    <tr>\n",
       "      <th>2</th>\n",
       "      <td>27/03/2020</td>\n",
       "      <td>Good</td>\n",
       "      <td>Good</td>\n",
       "    </tr>\n",
       "    <tr>\n",
       "      <th>3</th>\n",
       "      <td>24/03/2020</td>\n",
       "      <td>Good</td>\n",
       "      <td>Good</td>\n",
       "    </tr>\n",
       "    <tr>\n",
       "      <th>4</th>\n",
       "      <td>7/07/2021</td>\n",
       "      <td>Good</td>\n",
       "      <td>Good</td>\n",
       "    </tr>\n",
       "  </tbody>\n",
       "</table>\n",
       "</div>"
      ],
      "text/plain": [
       "         date label label_pred\n",
       "0  14/03/2020  Good       Good\n",
       "1   7/05/2020  Good       Good\n",
       "2  27/03/2020  Good       Good\n",
       "3  24/03/2020  Good       Good\n",
       "4   7/07/2021  Good       Good"
      ]
     },
     "execution_count": 7,
     "metadata": {},
     "output_type": "execute_result"
    }
   ],
   "source": [
    "reviews_test = pd.DataFrame(zip(X_test, y_test, df_pred[0]), columns=['date', 'label', 'label_pred'])\n",
    "reviews_test.head()"
   ]
  },
  {
   "cell_type": "code",
   "execution_count": 8,
   "id": "e1c1ad90-03d0-4f8a-a5bd-948e3514f5c4",
   "metadata": {},
   "outputs": [],
   "source": [
    "reviews_test['date'] = pd.to_datetime(reviews_test['date'], dayfirst=True)"
   ]
  },
  {
   "cell_type": "code",
   "execution_count": 9,
   "id": "57bbf094-57c0-4136-8916-d7af15eb97d5",
   "metadata": {},
   "outputs": [
    {
     "name": "stdout",
     "output_type": "stream",
     "text": [
      "<class 'pandas.core.frame.DataFrame'>\n",
      "RangeIndex: 1431 entries, 0 to 1430\n",
      "Data columns (total 3 columns):\n",
      " #   Column      Non-Null Count  Dtype         \n",
      "---  ------      --------------  -----         \n",
      " 0   date        1431 non-null   datetime64[ns]\n",
      " 1   label       1431 non-null   object        \n",
      " 2   label_pred  1431 non-null   object        \n",
      "dtypes: datetime64[ns](1), object(2)\n",
      "memory usage: 33.7+ KB\n"
     ]
    }
   ],
   "source": [
    "reviews_test.info()"
   ]
  },
  {
   "cell_type": "code",
   "execution_count": 10,
   "id": "5be766ee-76c6-49b5-bdcd-39a32ae31ab1",
   "metadata": {},
   "outputs": [
    {
     "data": {
      "text/html": [
       "<div>\n",
       "<style scoped>\n",
       "    .dataframe tbody tr th:only-of-type {\n",
       "        vertical-align: middle;\n",
       "    }\n",
       "\n",
       "    .dataframe tbody tr th {\n",
       "        vertical-align: top;\n",
       "    }\n",
       "\n",
       "    .dataframe thead th {\n",
       "        text-align: right;\n",
       "    }\n",
       "</style>\n",
       "<table border=\"1\" class=\"dataframe\">\n",
       "  <thead>\n",
       "    <tr style=\"text-align: right;\">\n",
       "      <th></th>\n",
       "      <th>date</th>\n",
       "      <th>label</th>\n",
       "      <th>label_pred</th>\n",
       "    </tr>\n",
       "  </thead>\n",
       "  <tbody>\n",
       "    <tr>\n",
       "      <th>0</th>\n",
       "      <td>2020-03-14</td>\n",
       "      <td>Good</td>\n",
       "      <td>Good</td>\n",
       "    </tr>\n",
       "    <tr>\n",
       "      <th>1</th>\n",
       "      <td>2020-05-07</td>\n",
       "      <td>Good</td>\n",
       "      <td>Good</td>\n",
       "    </tr>\n",
       "    <tr>\n",
       "      <th>2</th>\n",
       "      <td>2020-03-27</td>\n",
       "      <td>Good</td>\n",
       "      <td>Good</td>\n",
       "    </tr>\n",
       "    <tr>\n",
       "      <th>3</th>\n",
       "      <td>2020-03-24</td>\n",
       "      <td>Good</td>\n",
       "      <td>Good</td>\n",
       "    </tr>\n",
       "    <tr>\n",
       "      <th>4</th>\n",
       "      <td>2021-07-07</td>\n",
       "      <td>Good</td>\n",
       "      <td>Good</td>\n",
       "    </tr>\n",
       "  </tbody>\n",
       "</table>\n",
       "</div>"
      ],
      "text/plain": [
       "        date label label_pred\n",
       "0 2020-03-14  Good       Good\n",
       "1 2020-05-07  Good       Good\n",
       "2 2020-03-27  Good       Good\n",
       "3 2020-03-24  Good       Good\n",
       "4 2021-07-07  Good       Good"
      ]
     },
     "execution_count": 10,
     "metadata": {},
     "output_type": "execute_result"
    }
   ],
   "source": [
    "reviews_test.head()"
   ]
  },
  {
   "cell_type": "code",
   "execution_count": 11,
   "id": "a6a8e727-e29a-44cb-a6f2-1d4ca3100442",
   "metadata": {},
   "outputs": [
    {
     "data": {
      "text/html": [
       "<div>\n",
       "<style scoped>\n",
       "    .dataframe tbody tr th:only-of-type {\n",
       "        vertical-align: middle;\n",
       "    }\n",
       "\n",
       "    .dataframe tbody tr th {\n",
       "        vertical-align: top;\n",
       "    }\n",
       "\n",
       "    .dataframe thead th {\n",
       "        text-align: right;\n",
       "    }\n",
       "</style>\n",
       "<table border=\"1\" class=\"dataframe\">\n",
       "  <thead>\n",
       "    <tr style=\"text-align: right;\">\n",
       "      <th></th>\n",
       "      <th>date</th>\n",
       "      <th>label</th>\n",
       "      <th>label_pred</th>\n",
       "      <th>month</th>\n",
       "    </tr>\n",
       "  </thead>\n",
       "  <tbody>\n",
       "    <tr>\n",
       "      <th>0</th>\n",
       "      <td>2020-03-14</td>\n",
       "      <td>Good</td>\n",
       "      <td>Good</td>\n",
       "      <td>Mar</td>\n",
       "    </tr>\n",
       "    <tr>\n",
       "      <th>1</th>\n",
       "      <td>2020-05-07</td>\n",
       "      <td>Good</td>\n",
       "      <td>Good</td>\n",
       "      <td>May</td>\n",
       "    </tr>\n",
       "    <tr>\n",
       "      <th>2</th>\n",
       "      <td>2020-03-27</td>\n",
       "      <td>Good</td>\n",
       "      <td>Good</td>\n",
       "      <td>Mar</td>\n",
       "    </tr>\n",
       "    <tr>\n",
       "      <th>3</th>\n",
       "      <td>2020-03-24</td>\n",
       "      <td>Good</td>\n",
       "      <td>Good</td>\n",
       "      <td>Mar</td>\n",
       "    </tr>\n",
       "    <tr>\n",
       "      <th>4</th>\n",
       "      <td>2021-07-07</td>\n",
       "      <td>Good</td>\n",
       "      <td>Good</td>\n",
       "      <td>Jul</td>\n",
       "    </tr>\n",
       "  </tbody>\n",
       "</table>\n",
       "</div>"
      ],
      "text/plain": [
       "        date label label_pred month\n",
       "0 2020-03-14  Good       Good   Mar\n",
       "1 2020-05-07  Good       Good   May\n",
       "2 2020-03-27  Good       Good   Mar\n",
       "3 2020-03-24  Good       Good   Mar\n",
       "4 2021-07-07  Good       Good   Jul"
      ]
     },
     "execution_count": 11,
     "metadata": {},
     "output_type": "execute_result"
    }
   ],
   "source": [
    "def get_month(date):\n",
    "    return date.strftime(\"%b\")\n",
    "\n",
    "reviews_test['month'] = reviews_test.date.apply(get_month)\n",
    "reviews_test.head()"
   ]
  },
  {
   "cell_type": "code",
   "execution_count": 12,
   "id": "9b706e42-ebd9-476a-ab05-ca915294aa94",
   "metadata": {},
   "outputs": [
    {
     "data": {
      "text/html": [
       "<div>\n",
       "<style scoped>\n",
       "    .dataframe tbody tr th:only-of-type {\n",
       "        vertical-align: middle;\n",
       "    }\n",
       "\n",
       "    .dataframe tbody tr th {\n",
       "        vertical-align: top;\n",
       "    }\n",
       "\n",
       "    .dataframe thead th {\n",
       "        text-align: right;\n",
       "    }\n",
       "</style>\n",
       "<table border=\"1\" class=\"dataframe\">\n",
       "  <thead>\n",
       "    <tr style=\"text-align: right;\">\n",
       "      <th></th>\n",
       "      <th>date</th>\n",
       "      <th>label</th>\n",
       "      <th>label_pred</th>\n",
       "      <th>month</th>\n",
       "      <th>year</th>\n",
       "    </tr>\n",
       "  </thead>\n",
       "  <tbody>\n",
       "    <tr>\n",
       "      <th>0</th>\n",
       "      <td>2020-03-14</td>\n",
       "      <td>Good</td>\n",
       "      <td>Good</td>\n",
       "      <td>Mar</td>\n",
       "      <td>20</td>\n",
       "    </tr>\n",
       "    <tr>\n",
       "      <th>1</th>\n",
       "      <td>2020-05-07</td>\n",
       "      <td>Good</td>\n",
       "      <td>Good</td>\n",
       "      <td>May</td>\n",
       "      <td>20</td>\n",
       "    </tr>\n",
       "    <tr>\n",
       "      <th>2</th>\n",
       "      <td>2020-03-27</td>\n",
       "      <td>Good</td>\n",
       "      <td>Good</td>\n",
       "      <td>Mar</td>\n",
       "      <td>20</td>\n",
       "    </tr>\n",
       "    <tr>\n",
       "      <th>3</th>\n",
       "      <td>2020-03-24</td>\n",
       "      <td>Good</td>\n",
       "      <td>Good</td>\n",
       "      <td>Mar</td>\n",
       "      <td>20</td>\n",
       "    </tr>\n",
       "    <tr>\n",
       "      <th>4</th>\n",
       "      <td>2021-07-07</td>\n",
       "      <td>Good</td>\n",
       "      <td>Good</td>\n",
       "      <td>Jul</td>\n",
       "      <td>21</td>\n",
       "    </tr>\n",
       "  </tbody>\n",
       "</table>\n",
       "</div>"
      ],
      "text/plain": [
       "        date label label_pred month year\n",
       "0 2020-03-14  Good       Good   Mar   20\n",
       "1 2020-05-07  Good       Good   May   20\n",
       "2 2020-03-27  Good       Good   Mar   20\n",
       "3 2020-03-24  Good       Good   Mar   20\n",
       "4 2021-07-07  Good       Good   Jul   21"
      ]
     },
     "execution_count": 12,
     "metadata": {},
     "output_type": "execute_result"
    }
   ],
   "source": [
    "def get_year(date):\n",
    "    return date.strftime(\"%y\")\n",
    "\n",
    "reviews_test['year'] = reviews_test.date.apply(get_year)\n",
    "reviews_test.head()"
   ]
  },
  {
   "cell_type": "code",
   "execution_count": 17,
   "id": "23de0a64",
   "metadata": {},
   "outputs": [],
   "source": [
    "def count_groupby(label):\n",
    "    counts = pd.DataFrame(reviews_test.groupby(['month', 'year', label])[label].count())\n",
    "    counts.columns = ['count']\n",
    "    counts = counts.reset_index()\n",
    "    new_dates = []\n",
    "\n",
    "    for row in counts.itertuples():\n",
    "        new_dates.append(f'{row.month}-{row.year}')\n",
    "\n",
    "    counts['new_date'] = new_dates\n",
    "    counts['year'] = pd.to_numeric(counts['year'])\n",
    "    \n",
    "    counts_filtered = counts.query(\"year == 20 or year == 21\")\n",
    "    counts_filtered['new_dt'] = pd.to_datetime(counts_filtered['new_date'], format='%b-%y')\n",
    "    counts_filtered = counts_filtered.sort_values('new_dt')\n",
    "    \n",
    "    percentages = []\n",
    "\n",
    "    for distinct_month_year in counts_filtered.new_date.unique():\n",
    "        dataset = counts_filtered.query(f'new_date == \"{distinct_month_year}\"')\n",
    "        total = sum(dataset['count']) \n",
    "\n",
    "        month_year_values = dataset['count'].values\n",
    "\n",
    "        if month_year_values.size > 0:\n",
    "            for value in month_year_values:\n",
    "                percentage = (value * 100)/total\n",
    "                percentages.append(percentage)\n",
    "        else:\n",
    "            pass\n",
    "\n",
    "    counts_filtered['monthly_perc'] = percentages \n",
    "    \n",
    "    return counts_filtered"
   ]
  },
  {
   "cell_type": "code",
   "execution_count": 18,
   "id": "8065869d",
   "metadata": {},
   "outputs": [
    {
     "name": "stderr",
     "output_type": "stream",
     "text": [
      "C:\\Users\\mtbl\\AppData\\Local\\Temp/ipykernel_8532/208608452.py:14: SettingWithCopyWarning: \n",
      "A value is trying to be set on a copy of a slice from a DataFrame.\n",
      "Try using .loc[row_indexer,col_indexer] = value instead\n",
      "\n",
      "See the caveats in the documentation: https://pandas.pydata.org/pandas-docs/stable/user_guide/indexing.html#returning-a-view-versus-a-copy\n",
      "  counts_filtered['new_dt'] = pd.to_datetime(counts_filtered['new_date'], format='%b-%y')\n"
     ]
    }
   ],
   "source": [
    "counts_pred = count_groupby('label_pred')\n",
    "counts_label = count_groupby('label')"
   ]
  },
  {
   "cell_type": "code",
   "execution_count": 19,
   "id": "656d1ace-5f32-4eb7-a777-7490b4cf5536",
   "metadata": {
    "tags": []
   },
   "outputs": [
    {
     "data": {
      "text/plain": [
       "<AxesSubplot:xlabel='new_date', ylabel='monthly_perc'>"
      ]
     },
     "execution_count": 19,
     "metadata": {},
     "output_type": "execute_result"
    },
    {
     "data": {
      "image/png": "[encoded data removed]",
      "text/plain": [
       "<Figure size 432x288 with 1 Axes>"
      ]
     },
     "metadata": {
      "needs_background": "light"
     },
     "output_type": "display_data"
    }
   ],
   "source": [
    "plt.xticks(rotation=90)\n",
    "sns.lineplot(data=counts_pred, x='new_date', y='monthly_perc', hue='label_pred')"
   ]
  },
  {
   "cell_type": "code",
   "execution_count": 20,
   "id": "45d7d40f",
   "metadata": {},
   "outputs": [
    {
     "data": {
      "text/plain": [
       "<AxesSubplot:xlabel='new_date', ylabel='monthly_perc'>"
      ]
     },
     "execution_count": 20,
     "metadata": {},
     "output_type": "execute_result"
    },
    {
     "data": {
      "image/png": "[encoded data removed]",
      "text/plain": [
       "<Figure size 432x288 with 1 Axes>"
      ]
     },
     "metadata": {
      "needs_background": "light"
     },
     "output_type": "display_data"
    }
   ],
   "source": [
    "plt.xticks(rotation=90)\n",
    "sns.lineplot(data=counts_label, x='new_date', y='monthly_perc', hue='label')"
   ]
  },
  {
   "cell_type": "code",
   "execution_count": 21,
   "id": "3eff7d04-a509-4509-86d4-6e59864e18ac",
   "metadata": {},
   "outputs": [],
   "source": [
    "counts_pred.to_csv('../data/pred_lstm_count.csv', index=False)\n",
    "counts_label.to_csv('../data/label_test_count.csv', index=False)"
   ]
  },
  {
   "cell_type": "code",
   "execution_count": null,
   "id": "56b96cc0-6507-4130-ad1b-1f54dfe494f8",
   "metadata": {},
   "outputs": [],
   "source": []
  }
 ],
 "metadata": {
  "kernelspec": {
   "display_name": "Python 3 (ipykernel)",
   "language": "python",
   "name": "python3"
  },
  "language_info": {
   "codemirror_mode": {
    "name": "ipython",
    "version": 3
   },
   "file_extension": ".py",
   "mimetype": "text/x-python",
   "name": "python",
   "nbconvert_exporter": "python",
   "pygments_lexer": "ipython3",
   "version": "3.9.7"
  }
 },
 "nbformat": 4,
 "nbformat_minor": 5
}
